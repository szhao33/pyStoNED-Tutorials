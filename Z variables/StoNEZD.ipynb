{
 "cells": [
  {
   "cell_type": "markdown",
   "metadata": {},
   "source": [
    "# Stochastic semi-nonparametric envelopment of z variables data (StoNEZD)"
   ]
  },
  {
   "cell_type": "markdown",
   "metadata": {},
   "source": [
    "   + Author : Sheng Dai (sheng.dai@aalto.fi)\n",
    "   + Date : April 16, 2020\n",
    "\n",
    "References:\n",
    "\n",
    "[1] Saastamoinen, A. and Kuosmanen, T. (2016). Quality frontier of electricity distribution: Supply security, best practices, and underground cabling in Finland, Energy Economics. 53, pp. 281–292.\n",
    "\n",
    "[2] Kuosmanen, T., Saastamoinen, A. and Sipiläinen, T. What is the best practice for benchmark regulation of electricity distribution? Comparison of DEA, SFA and StoNED methods, Energy Policy. 61, pp. 740–750."
   ]
  },
  {
   "cell_type": "markdown",
   "metadata": {},
   "source": [
    "### Objective: Estimating a log-transformed cost function model with z-variable and technicial inefficiency"
   ]
  },
  {
   "cell_type": "code",
   "execution_count": 1,
   "metadata": {},
   "outputs": [],
   "source": [
    "# import package pystoned\n",
    "from pystoned import *\n",
    "\n",
    "import pandas as pd\n",
    "import numpy as np"
   ]
  },
  {
   "cell_type": "markdown",
   "metadata": {},
   "source": [
    "### Import data"
   ]
  },
  {
   "cell_type": "code",
   "execution_count": 2,
   "metadata": {},
   "outputs": [
    {
     "data": {
      "text/html": [
       "<div>\n",
       "<style scoped>\n",
       "    .dataframe tbody tr th:only-of-type {\n",
       "        vertical-align: middle;\n",
       "    }\n",
       "\n",
       "    .dataframe tbody tr th {\n",
       "        vertical-align: top;\n",
       "    }\n",
       "\n",
       "    .dataframe thead th {\n",
       "        text-align: right;\n",
       "    }\n",
       "</style>\n",
       "<table border=\"1\" class=\"dataframe\">\n",
       "  <thead>\n",
       "    <tr style=\"text-align: right;\">\n",
       "      <th></th>\n",
       "      <th>OPEX</th>\n",
       "      <th>CAPEX</th>\n",
       "      <th>TOTEX</th>\n",
       "      <th>Energy</th>\n",
       "      <th>Length</th>\n",
       "      <th>Customers</th>\n",
       "      <th>PerUndGr</th>\n",
       "    </tr>\n",
       "  </thead>\n",
       "  <tbody>\n",
       "    <tr>\n",
       "      <th>0</th>\n",
       "      <td>681</td>\n",
       "      <td>729</td>\n",
       "      <td>1612</td>\n",
       "      <td>75</td>\n",
       "      <td>878</td>\n",
       "      <td>4933</td>\n",
       "      <td>0.11</td>\n",
       "    </tr>\n",
       "    <tr>\n",
       "      <th>1</th>\n",
       "      <td>559</td>\n",
       "      <td>673</td>\n",
       "      <td>1659</td>\n",
       "      <td>62</td>\n",
       "      <td>964</td>\n",
       "      <td>6149</td>\n",
       "      <td>0.21</td>\n",
       "    </tr>\n",
       "    <tr>\n",
       "      <th>2</th>\n",
       "      <td>836</td>\n",
       "      <td>851</td>\n",
       "      <td>1708</td>\n",
       "      <td>78</td>\n",
       "      <td>676</td>\n",
       "      <td>6098</td>\n",
       "      <td>0.75</td>\n",
       "    </tr>\n",
       "    <tr>\n",
       "      <th>3</th>\n",
       "      <td>7559</td>\n",
       "      <td>8384</td>\n",
       "      <td>18918</td>\n",
       "      <td>683</td>\n",
       "      <td>12522</td>\n",
       "      <td>55226</td>\n",
       "      <td>0.13</td>\n",
       "    </tr>\n",
       "    <tr>\n",
       "      <th>4</th>\n",
       "      <td>424</td>\n",
       "      <td>562</td>\n",
       "      <td>1167</td>\n",
       "      <td>27</td>\n",
       "      <td>697</td>\n",
       "      <td>1670</td>\n",
       "      <td>0.03</td>\n",
       "    </tr>\n",
       "  </tbody>\n",
       "</table>\n",
       "</div>"
      ],
      "text/plain": [
       "   OPEX  CAPEX  TOTEX  Energy  Length  Customers  PerUndGr\n",
       "0   681    729   1612      75     878       4933      0.11\n",
       "1   559    673   1659      62     964       6149      0.21\n",
       "2   836    851   1708      78     676       6098      0.75\n",
       "3  7559   8384  18918     683   12522      55226      0.13\n",
       "4   424    562   1167      27     697       1670      0.03"
      ]
     },
     "execution_count": 2,
     "metadata": {},
     "output_type": "execute_result"
    }
   ],
   "source": [
    "# import Finnish electricity distribution firms data\n",
    "url = 'https://raw.githubusercontent.com/ds2010/pyStoNED-Tutorials/master/Data/firms.csv'\n",
    "df = pd.read_csv(url, error_bad_lines=False)\n",
    "df.head(5)"
   ]
  },
  {
   "cell_type": "code",
   "execution_count": 3,
   "metadata": {},
   "outputs": [],
   "source": [
    "# output (total cost)\n",
    "y  = df['TOTEX']\n",
    "\n",
    "# inputs \n",
    "x1  = df['Energy']\n",
    "x1  = np.asmatrix(x1).T\n",
    "x2  = df['Length']\n",
    "x2  = np.asmatrix(x2).T\n",
    "x3  = df['Customers']\n",
    "x3  = np.asmatrix(x3).T\n",
    "x   = np.concatenate((x1, x2, x3), axis=1)"
   ]
  },
  {
   "cell_type": "code",
   "execution_count": 4,
   "metadata": {},
   "outputs": [],
   "source": [
    "# Z variables\n",
    "z = df['PerUndGr']"
   ]
  },
  {
   "cell_type": "markdown",
   "metadata": {},
   "source": [
    "### Stage 1: Convex Nonparametric Least Squares estimation"
   ]
  },
  {
   "cell_type": "code",
   "execution_count": 6,
   "metadata": {},
   "outputs": [],
   "source": [
    "# import the CNLSZ module\n",
    "cet = \"mult\"\n",
    "fun = \"cost\"\n",
    "rts = \"crs\"\n",
    "\n",
    "model = CNLSZ.cnlsz(y, x, z, cet, fun, rts)"
   ]
  },
  {
   "cell_type": "code",
   "execution_count": 7,
   "metadata": {},
   "outputs": [],
   "source": [
    "# slove the model using remote solver (NEOS)\n",
    "from pyomo.environ import SolverManagerFactory\n",
    "solver_manager = SolverManagerFactory('neos')\n",
    "results = solver_manager.solve(model, opt='knitro', tee=True)"
   ]
  },
  {
   "cell_type": "code",
   "execution_count": 8,
   "metadata": {},
   "outputs": [
    {
     "name": "stdout",
     "output_type": "stream",
     "text": [
      "e : residuals\n",
      "    Size=89, Index=i\n",
      "    Key : Lower : Value                   : Upper : Fixed : Stale : Domain\n",
      "      0 :  None :     0.06655979752215041 :  None : False : False :  Reals\n",
      "      1 :  None :    0.026027214472251904 :  None : False : False :  Reals\n",
      "      2 :  None :     0.04364802505139959 :  None : False : False :  Reals\n",
      "      3 :  None :   -0.008867996045194762 :  None : False : False :  Reals\n",
      "      4 :  None :     0.18923050328904567 :  None : False : False :  Reals\n",
      "      5 :  None :    -0.11484870791999217 :  None : False : False :  Reals\n",
      "      6 :  None :   -0.015960383180604987 :  None : False : False :  Reals\n",
      "      7 :  None :     0.15712232865530068 :  None : False : False :  Reals\n",
      "      8 :  None :     0.22759422615991093 :  None : False : False :  Reals\n",
      "      9 :  None :    -0.08712595244561908 :  None : False : False :  Reals\n",
      "     10 :  None :     0.03445215153005295 :  None : False : False :  Reals\n",
      "     11 :  None :    -0.07715596598915352 :  None : False : False :  Reals\n",
      "     12 :  None :     0.21799674221662227 :  None : False : False :  Reals\n",
      "     13 :  None :     0.22500588844643474 :  None : False : False :  Reals\n",
      "     14 :  None :   -0.058474026319130734 :  None : False : False :  Reals\n",
      "     15 :  None :    -0.10218604002394858 :  None : False : False :  Reals\n",
      "     16 :  None :      0.1531973673101594 :  None : False : False :  Reals\n",
      "     17 :  None :     0.25483289035604034 :  None : False : False :  Reals\n",
      "     18 :  None :    0.016317273368535383 :  None : False : False :  Reals\n",
      "     19 :  None :    -0.09554746617294271 :  None : False : False :  Reals\n",
      "     20 :  None :    -0.06946608839933359 :  None : False : False :  Reals\n",
      "     21 :  None :    -0.27679664935115617 :  None : False : False :  Reals\n",
      "     22 :  None :        0.26715528086855 :  None : False : False :  Reals\n",
      "     23 :  None :    -0.10775531783674751 :  None : False : False :  Reals\n",
      "     24 :  None :     0.15521255522348668 :  None : False : False :  Reals\n",
      "     25 :  None :    0.019730219477587664 :  None : False : False :  Reals\n",
      "     26 :  None :     0.23013725657506476 :  None : False : False :  Reals\n",
      "     27 :  None :     -0.1978964250487414 :  None : False : False :  Reals\n",
      "     28 :  None :     0.18496029569002442 :  None : False : False :  Reals\n",
      "     29 :  None :    -0.02273001478671773 :  None : False : False :  Reals\n",
      "     30 :  None :   -0.050622452549957786 :  None : False : False :  Reals\n",
      "     31 :  None :     -0.2945420169930756 :  None : False : False :  Reals\n",
      "     32 :  None :   -0.033416743605694625 :  None : False : False :  Reals\n",
      "     33 :  None :     0.22912459504058375 :  None : False : False :  Reals\n",
      "     34 :  None :   -0.022771160927474048 :  None : False : False :  Reals\n",
      "     35 :  None :      0.1529086552084843 :  None : False : False :  Reals\n",
      "     36 :  None :    -0.20470090691602705 :  None : False : False :  Reals\n",
      "     37 :  None :    -0.18193369313031527 :  None : False : False :  Reals\n",
      "     38 :  None :    -0.13918436563109302 :  None : False : False :  Reals\n",
      "     39 :  None :   -0.012801442763921093 :  None : False : False :  Reals\n",
      "     40 :  None : -0.00039152595326943034 :  None : False : False :  Reals\n",
      "     41 :  None :    0.006251184266655356 :  None : False : False :  Reals\n",
      "     42 :  None :     0.11378733071810611 :  None : False : False :  Reals\n",
      "     43 :  None :    -0.10351894978070096 :  None : False : False :  Reals\n",
      "     44 :  None :    -0.11731445619367772 :  None : False : False :  Reals\n",
      "     45 :  None :    -0.13694275926435084 :  None : False : False :  Reals\n",
      "     46 :  None :      0.0397353527310047 :  None : False : False :  Reals\n",
      "     47 :  None :     0.10299784798726079 :  None : False : False :  Reals\n",
      "     48 :  None :    -0.13726962842504212 :  None : False : False :  Reals\n",
      "     49 :  None :    -0.15985131710121805 :  None : False : False :  Reals\n",
      "     50 :  None :     0.24164099340083944 :  None : False : False :  Reals\n",
      "     51 :  None :     0.03349578775681615 :  None : False : False :  Reals\n",
      "     52 :  None :     0.13473816503898442 :  None : False : False :  Reals\n",
      "     53 :  None :      0.2054265833245945 :  None : False : False :  Reals\n",
      "     54 :  None :     0.06964511404227179 :  None : False : False :  Reals\n",
      "     55 :  None :     -0.2207005460339128 :  None : False : False :  Reals\n",
      "     56 :  None :    -0.16464087458590418 :  None : False : False :  Reals\n",
      "     57 :  None :     -0.0455871988288311 :  None : False : False :  Reals\n",
      "     58 :  None :    -0.20034128692634706 :  None : False : False :  Reals\n",
      "     59 :  None :   -0.033070700664937024 :  None : False : False :  Reals\n",
      "     60 :  None :    -0.14889414101350829 :  None : False : False :  Reals\n",
      "     61 :  None :   -0.060535217096487244 :  None : False : False :  Reals\n",
      "     62 :  None :   -0.047922852836843145 :  None : False : False :  Reals\n",
      "     63 :  None :    0.046585460032550145 :  None : False : False :  Reals\n",
      "     64 :  None :      0.2849767722471766 :  None : False : False :  Reals\n",
      "     65 :  None :    -0.08082556596098392 :  None : False : False :  Reals\n",
      "     66 :  None :      0.1284675981405134 :  None : False : False :  Reals\n",
      "     67 :  None :    -0.07494435705077804 :  None : False : False :  Reals\n",
      "     68 :  None :     0.04383227479915112 :  None : False : False :  Reals\n",
      "     69 :  None :     -0.2789561606660263 :  None : False : False :  Reals\n",
      "     70 :  None :   -0.027055990112605174 :  None : False : False :  Reals\n",
      "     71 :  None :    0.028742365300302133 :  None : False : False :  Reals\n",
      "     72 :  None :     -0.1428633396861305 :  None : False : False :  Reals\n",
      "     73 :  None :     -0.0875879906390072 :  None : False : False :  Reals\n",
      "     74 :  None :     -0.1261411135454412 :  None : False : False :  Reals\n",
      "     75 :  None :   -0.029446936798956276 :  None : False : False :  Reals\n",
      "     76 :  None :   -0.003431368893803148 :  None : False : False :  Reals\n",
      "     77 :  None :      0.1360668597654916 :  None : False : False :  Reals\n",
      "     78 :  None :   -0.034091660086400154 :  None : False : False :  Reals\n",
      "     79 :  None :     -0.0642208029323514 :  None : False : False :  Reals\n",
      "     80 :  None :   -0.022497154369091592 :  None : False : False :  Reals\n",
      "     81 :  None :    -0.11408881833594756 :  None : False : False :  Reals\n",
      "     82 :  None :     -0.1286849891527196 :  None : False : False :  Reals\n",
      "     83 :  None :     0.03636463365465126 :  None : False : False :  Reals\n",
      "     84 :  None :    0.017283081355315776 :  None : False : False :  Reals\n",
      "     85 :  None :    0.021526571589558983 :  None : False : False :  Reals\n",
      "     86 :  None :     0.05761461679777841 :  None : False : False :  Reals\n",
      "     87 :  None :      0.3068686663745493 :  None : False : False :  Reals\n",
      "     88 :  None :     0.05934096537964933 :  None : False : False :  Reals\n"
     ]
    }
   ],
   "source": [
    "# display estimates\n",
    "model.e.display() "
   ]
  },
  {
   "cell_type": "code",
   "execution_count": 9,
   "metadata": {},
   "outputs": [],
   "source": [
    "# retrive the residuals\n",
    "val = list(model.e[:].value)\n",
    "eps = np.asarray(val)"
   ]
  },
  {
   "cell_type": "markdown",
   "metadata": {},
   "source": [
    "### Stage 2: Residuals decomposition"
   ]
  },
  {
   "cell_type": "code",
   "execution_count": 10,
   "metadata": {},
   "outputs": [],
   "source": [
    "# decomposition by method od moment (MoM)\n",
    "method      = 'MoM'\n",
    "res         = StoNED.stoned(y, eps, fun, method, cet)"
   ]
  },
  {
   "cell_type": "code",
   "execution_count": 11,
   "metadata": {},
   "outputs": [
    {
     "data": {
      "text/plain": [
       "array([0.87704436, 0.89270115, 0.88610556, 0.90475796, 0.82141804,\n",
       "       0.9332887 , 0.90704258, 0.83681801, 0.80268988, 0.92693612,\n",
       "       0.88958922, 0.92446933, 0.8073926 , 0.80395874, 0.91957403,\n",
       "       0.93047728, 0.83867265, 0.78933311, 0.89619163, 0.92894328,\n",
       "       0.92249804, 0.95858946, 0.78330233, 0.93173208, 0.83772132,\n",
       "       0.89497657, 0.80144293, 0.94841837, 0.82348559, 0.90917094,\n",
       "       0.91740745, 0.96045055, 0.91242742, 0.80193951, 0.90918372,\n",
       "       0.83880878, 0.94943583, 0.94591177, 0.9382895 , 0.90603195,\n",
       "       0.9019538 , 0.8997002 , 0.85681879, 0.93078024, 0.93381907,\n",
       "       0.9378501 , 0.88759878, 0.86160469, 0.93791444, 0.9421487 ,\n",
       "       0.79580054, 0.88994634, 0.84728921, 0.8135383 , 0.87578412,\n",
       "       0.9517148 , 0.94299542, 0.91598328, 0.94878737, 0.91232394,\n",
       "       0.94014509, 0.92013197, 0.91664729, 0.88497394, 0.77461079,\n",
       "       0.92538884, 0.85017172, 0.92390857, 0.88603485, 0.95882326,\n",
       "       0.91050437, 0.89170665, 0.93900162, 0.92704804, 0.9356732 ,\n",
       "       0.91123246, 0.90296866, 0.84667534, 0.91262885, 0.92111848,\n",
       "       0.90909858, 0.93312414, 0.93619488, 0.88887214, 0.89584909,\n",
       "       0.89433189, 0.88064532, 0.76400405, 0.87995656])"
      ]
     },
     "execution_count": 11,
     "metadata": {},
     "output_type": "execute_result"
    }
   ],
   "source": [
    "# display technicial inefficiency\n",
    "TE = res[1]\n",
    "TE"
   ]
  }
 ],
 "metadata": {
  "kernelspec": {
   "display_name": "Python 3",
   "language": "python",
   "name": "python3"
  },
  "language_info": {
   "codemirror_mode": {
    "name": "ipython",
    "version": 3
   },
   "file_extension": ".py",
   "mimetype": "text/x-python",
   "name": "python",
   "nbconvert_exporter": "python",
   "pygments_lexer": "ipython3",
   "version": "3.7.7"
  }
 },
 "nbformat": 4,
 "nbformat_minor": 4
}
