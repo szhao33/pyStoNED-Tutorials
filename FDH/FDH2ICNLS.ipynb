{
 "cells": [
  {
   "cell_type": "markdown",
   "metadata": {},
   "source": [
    "# FDH as a sign-constrained variant of the ICNLS problem"
   ]
  },
  {
   "cell_type": "markdown",
   "metadata": {},
   "source": [
    "- Author: Sheng Dai (sheng.dai@aalto.fi)\n",
    "- Date  : June 18, 2020\n",
    "\n",
    "Reference:\n",
    "\n",
    "[1] Keshvari A, Kuosmanen T. Stochastic non-convex envelopment of data: Applying isotonic regression to frontier estimation. Eur J Oper Res 2013;231:481–91."
   ]
  },
  {
   "cell_type": "code",
   "execution_count": 1,
   "metadata": {},
   "outputs": [],
   "source": [
    "import pandas as pd\n",
    "import numpy as np"
   ]
  },
  {
   "cell_type": "code",
   "execution_count": 2,
   "metadata": {},
   "outputs": [],
   "source": [
    "# import the package pystoned\n",
    "from pystoned import FDH2ICNLS"
   ]
  },
  {
   "cell_type": "code",
   "execution_count": 3,
   "metadata": {},
   "outputs": [],
   "source": [
    "# import Finnish electricity distribution firms data\n",
    "url = 'https://raw.githubusercontent.com/ds2010/pyStoNED-Tutorials/master/Data/firms.csv'\n",
    "df = pd.read_csv(url, error_bad_lines=False)"
   ]
  },
  {
   "cell_type": "code",
   "execution_count": 4,
   "metadata": {},
   "outputs": [],
   "source": [
    "# output\n",
    "y = df['Energy']\n",
    "\n",
    "# inputs\n",
    "x1 = df['OPEX']\n",
    "x1 = np.asmatrix(x1).T\n",
    "x2 = df['CAPEX']\n",
    "x2 = np.asmatrix(x2).T\n",
    "x = np.concatenate((x1, x2), axis=1)"
   ]
  },
  {
   "cell_type": "code",
   "execution_count": 5,
   "metadata": {},
   "outputs": [
    {
     "name": "stdout",
     "output_type": "stream",
     "text": [
      "Problem\n",
      "  Name                   :                 \n",
      "  Objective sense        : min             \n",
      "  Type                   : QO (quadratic optimization problem)\n",
      "  Constraints            : 3714            \n",
      "  Cones                  : 0               \n",
      "  Scalar variables       : 356             \n",
      "  Matrix variables       : 0               \n",
      "  Integer variables      : 0               \n",
      "\n",
      "Optimizer started.\n",
      "Quadratic to conic reformulation started.\n",
      "Quadratic to conic reformulation terminated. Time: 0.00    \n",
      "Presolve started.\n",
      "Linear dependency checker started.\n",
      "Linear dependency checker terminated.\n",
      "Eliminator started.\n",
      "Freed constraints in eliminator : 35\n",
      "Eliminator terminated.\n",
      "Eliminator started.\n",
      "Freed constraints in eliminator : 0\n",
      "Eliminator terminated.\n",
      "Eliminator - tries                  : 2                 time                   : 0.00            \n",
      "Lin. dep.  - tries                  : 1                 time                   : 0.00            \n",
      "Lin. dep.  - number                 : 0               \n",
      "Presolve terminated. Time: 0.01    \n",
      "Problem\n",
      "  Name                   :                 \n",
      "  Objective sense        : min             \n",
      "  Type                   : QO (quadratic optimization problem)\n",
      "  Constraints            : 3714            \n",
      "  Cones                  : 0               \n",
      "  Scalar variables       : 356             \n",
      "  Matrix variables       : 0               \n",
      "  Integer variables      : 0               \n",
      "\n",
      "Optimizer  - threads                : 4               \n",
      "Optimizer  - solved problem         : the dual        \n",
      "Optimizer  - Constraints            : 318\n",
      "Optimizer  - Cones                  : 2\n",
      "Optimizer  - Scalar variables       : 4034              conic                  : 145             \n",
      "Optimizer  - Semi-definite variables: 0                 scalarized             : 0               \n",
      "Factor     - setup time             : 0.02              dense det. time        : 0.00            \n",
      "Factor     - ML order time          : 0.02              GP order time          : 0.00            \n",
      "Factor     - nonzeros before factor : 5.04e+04          after factor           : 5.07e+04        \n",
      "Factor     - dense dim.             : 0                 flops                  : 1.10e+07        \n",
      "ITE PFEAS    DFEAS    GFEAS    PRSTATUS   POBJ              DOBJ              MU       TIME  \n",
      "0   6.6e+03  1.0e+00  2.0e+00  0.00e+00   5.000000000e-01   0.000000000e+00   1.0e+00  0.06  \n",
      "1   5.2e+03  7.9e-01  1.8e+00  -9.98e-01  3.053556433e+01   2.507049814e+01   7.9e-01  0.09  \n",
      "2   3.5e+03  5.3e-01  1.4e+00  -9.95e-01  1.615702468e+02   1.596244848e+02   5.3e-01  0.09  \n",
      "3   1.1e+03  1.7e-01  8.2e-01  -9.88e-01  4.789908795e+03   5.153057961e+03   1.7e-01  0.09  \n",
      "4   1.8e+02  2.8e-02  3.0e-01  -9.57e-01  2.809025144e+05   3.026153270e+05   2.8e-02  0.11  \n",
      "5   5.9e+00  9.0e-04  1.8e-02  -7.38e-01  1.104349003e+07   1.151762744e+07   9.0e-04  0.11  \n",
      "6   1.3e+00  2.0e-04  1.6e-03  6.98e-01   9.698136897e+06   9.767806600e+06   2.0e-04  0.11  \n",
      "7   3.1e-01  4.7e-05  1.8e-04  8.77e-01   7.150343667e+06   7.163765586e+06   4.7e-05  0.13  \n",
      "8   1.8e-01  2.7e-05  8.0e-05  8.35e-01   5.433752762e+06   5.441007677e+06   2.7e-05  0.13  \n",
      "9   8.2e-02  1.2e-05  2.9e-05  7.38e-01   3.710419219e+06   3.714243400e+06   1.2e-05  0.13  \n",
      "10  6.5e-02  9.8e-06  2.2e-05  5.47e-01   3.265808530e+06   3.268868911e+06   9.8e-06  0.13  \n",
      "11  5.7e-02  8.7e-06  1.8e-05  7.41e-01   3.200407530e+06   3.202982539e+06   8.7e-06  0.13  \n",
      "12  4.6e-02  6.9e-06  1.3e-05  6.80e-01   2.932147013e+06   2.934200785e+06   6.9e-06  0.13  \n",
      "13  3.4e-02  5.2e-06  8.3e-06  6.68e-01   2.693497639e+06   2.694965303e+06   5.2e-06  0.14  \n",
      "14  1.1e-02  1.7e-06  1.6e-06  8.50e-01   2.280417812e+06   2.280876782e+06   1.7e-06  0.14  \n",
      "15  4.1e-03  6.3e-07  3.6e-07  9.36e-01   2.158851560e+06   2.159021281e+06   6.3e-07  0.16  \n",
      "16  1.2e-03  1.8e-07  5.6e-08  9.65e-01   2.108498487e+06   2.108548476e+06   1.8e-07  0.16  \n",
      "17  8.5e-04  1.3e-07  3.4e-08  9.88e-01   2.103751113e+06   2.103787187e+06   1.3e-07  0.16  \n",
      "18  9.9e-05  1.5e-08  1.4e-09  9.91e-01   2.092687730e+06   2.092692085e+06   1.5e-08  0.16  \n",
      "19  1.4e-05  2.0e-09  7.1e-11  9.97e-01   2.091317321e+06   2.091317940e+06   2.0e-09  0.17  \n",
      "20  5.6e-06  1.5e-09  1.9e-11  1.00e+00   2.091208039e+06   2.091208296e+06   8.5e-10  0.17  \n",
      "21  2.5e-06  1.0e-09  5.8e-12  1.00e+00   2.091169114e+06   2.091169231e+06   3.8e-10  0.17  \n",
      "22  1.7e-06  9.4e-10  3.2e-12  1.00e+00   2.091158245e+06   2.091158324e+06   2.6e-10  0.19  \n",
      "23  1.1e-06  8.1e-10  1.7e-12  1.00e+00   2.091150113e+06   2.091150164e+06   1.7e-10  0.19  \n",
      "24  2.7e-07  2.2e-10  2.0e-13  1.00e+00   2.091139392e+06   2.091139405e+06   4.1e-11  0.20  \n",
      "25  8.1e-08  1.1e-10  3.5e-14  1.00e+00   2.091137042e+06   2.091137046e+06   1.2e-11  0.20  \n",
      "26  7.5e-08  1.0e-10  3.0e-14  1.00e+00   2.091136954e+06   2.091136957e+06   1.1e-11  0.22  \n",
      "27  4.9e-08  6.8e-11  1.6e-14  1.00e+00   2.091136621e+06   2.091136624e+06   7.4e-12  0.22  \n",
      "Optimizer terminated. Time: 0.22    \n",
      "\n",
      "\n",
      "Interior-point solution summary\n",
      "  Problem status  : PRIMAL_AND_DUAL_FEASIBLE\n",
      "  Solution status : OPTIMAL\n",
      "  Primal.  obj: 2.0911366136e+06    nrm: 7e+03    Viol.  con: 2e-05    var: 0e+00  \n",
      "  Dual.    obj: 2.0911366311e+06    nrm: 1e+07    Viol.  con: 4e-06    var: 1e+00  \n"
     ]
    }
   ],
   "source": [
    "# define and solve the DEA radial model\n",
    "\n",
    "model = FDH2ICNLS.fdh2icnls(y, x)\n",
    "\n",
    "# using local solver (MOSEK API)\n",
    "from pyomo.opt import SolverFactory\n",
    "opt = SolverFactory(\"mosek\")\n",
    "results = opt.solve(model, tee=True)"
   ]
  },
  {
   "cell_type": "code",
   "execution_count": 6,
   "metadata": {},
   "outputs": [],
   "source": [
    "# retrive the residuals (additive FDH efficiency measure)\n",
    "val = list(model.e[:].value)\n",
    "eps = np.asarray(val)"
   ]
  },
  {
   "cell_type": "code",
   "execution_count": 7,
   "metadata": {},
   "outputs": [],
   "source": [
    "# multiplicative DEA efficiency measure (c.f., DEA_oo_vrs)\n",
    "theta = 1 - eps/y"
   ]
  },
  {
   "cell_type": "code",
   "execution_count": 8,
   "metadata": {},
   "outputs": [
    {
     "data": {
      "text/plain": [
       "0     1.640003\n",
       "1     1.983872\n",
       "2     1.666667\n",
       "3     1.875549\n",
       "4     1.481494\n",
       "        ...   \n",
       "84    1.741936\n",
       "85    1.000004\n",
       "86    1.000004\n",
       "87    1.466719\n",
       "88    1.238096\n",
       "Name: Energy, Length: 89, dtype: float64"
      ]
     },
     "execution_count": 8,
     "metadata": {},
     "output_type": "execute_result"
    }
   ],
   "source": [
    "theta"
   ]
  },
  {
   "cell_type": "markdown",
   "metadata": {},
   "source": [
    "**Note**: In the single-output setting, the additive FDH efficiency measure (i.e., this case) is equivalent to the multiplicative FDH efficiency measure (i.e., [Radial output oriented FDH model](https://nbviewer.jupyter.org/github/ds2010/pyStoNED-Tutorials/blob/master/FDH/FDH_oo.ipynb)) in the sense that:\n",
    "$\\theta_i^{DEA} = 1 - eps_i^{DEA}/y_i$"
   ]
  }
 ],
 "metadata": {
  "kernelspec": {
   "display_name": "Python 3",
   "language": "python",
   "name": "python3"
  },
  "language_info": {
   "codemirror_mode": {
    "name": "ipython",
    "version": 3
   },
   "file_extension": ".py",
   "mimetype": "text/x-python",
   "name": "python",
   "nbconvert_exporter": "python",
   "pygments_lexer": "ipython3",
   "version": "3.7.7"
  }
 },
 "nbformat": 4,
 "nbformat_minor": 4
}
