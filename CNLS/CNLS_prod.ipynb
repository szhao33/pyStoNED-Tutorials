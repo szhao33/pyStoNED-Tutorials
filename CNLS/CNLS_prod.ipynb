{
 "cells": [
  {
   "cell_type": "markdown",
   "metadata": {},
   "source": [
    "# Convex Nonparametric Least Square (`CNLS`)"
   ]
  },
  {
   "cell_type": "markdown",
   "metadata": {},
   "source": [
    "   + Author : Sheng Dai (sheng.dai@aalto.fi)\n",
    "   + Date : April 26, 2020\n",
    "\n",
    "References:\n",
    "\n",
    "[1] Kuosmanen, T., Johnson, A. and Saastamoinen, A. (2015). Stochastic Nonparametric Approach to Efficiency Analysis: A unified Framework, in Zhu, J. (ed.) Data Envelopment Analysis. Springer, pp. 191–244.\n",
    "\n",
    "[2] Johnson, A. L. and Kuosmanen, T. (2015). An Introduction to CNLS and StoNED Methods for Efficiency Analysis: Economic Insights and Computational Aspects, in Ray, S. C., Kumbhakar, S. C., and Dua, P. (eds) Benchmarking for Performance Evaluation: A Production Frontier Approach. Springer, pp. 117–186."
   ]
  },
  {
   "cell_type": "markdown",
   "metadata": {},
   "source": [
    "## Estimating production function"
   ]
  },
  {
   "cell_type": "markdown",
   "metadata": {},
   "source": [
    "Hildreth (1954) was the first to consider nonparametric regression subject to monotonicity and concavity constraints in the case of a single input variable $x$. Kuosmanen (2008) extended Hildreth’s approach to the multivariate setting with a vector-valued $\\bf{x}$, and coined the term convex nonparametric least squares (`CNLS`) for this method. `CNLS` builds upon the assumption that the true but unknown production function $f$ belongs to the set of continuous, monotonic increasing and globally concave functions, imposing exactly the same production axioms as standard DEA. "
   ]
  },
  {
   "cell_type": "markdown",
   "metadata": {},
   "source": [
    "The multivariate `CNLS` formulation is defined as:\n",
    "\n",
    "\\begin{align*}\n",
    "& \\underset{\\alpha, \\beta, \\varepsilon} {min} \\sum_{i=1}^n\\varepsilon_i^2 \\\\\n",
    "& \\text{s.t.} \\\\\n",
    "&  y_i = \\alpha_i + \\beta_i^{'}X_i + \\varepsilon_i \\quad \\forall i \\\\\n",
    "&  \\alpha_i + \\beta_i^{'}X_i \\le \\alpha_j + \\beta_j^{'}X_i  \\quad  \\forall i, j\\\\\n",
    "&  \\beta_i \\ge 0 \\quad  \\forall i \\\\\n",
    "\\end{align*}"
   ]
  },
  {
   "cell_type": "markdown",
   "metadata": {},
   "source": [
    "where $\\alpha_i$ and $\\beta_i$ define the intercept and slope parameters of tangent hyperplanes that characterize the estimated piece-wise linear frontier. $\\varepsilon_i$ denotes the CNLS residuals. The first constraint can be interpreted as a multivariate regression equation, the second constraint imposes convexity, and the third constraint imposes monotonicity."
   ]
  },
  {
   "cell_type": "markdown",
   "metadata": {},
   "source": [
    "## Example"
   ]
  },
  {
   "cell_type": "code",
   "execution_count": null,
   "metadata": {},
   "outputs": [],
   "source": [
    "import pandas as pd\n",
    "import numpy as np"
   ]
  },
  {
   "cell_type": "code",
   "execution_count": null,
   "metadata": {},
   "outputs": [],
   "source": [
    "# import the package pystoned\n",
    "from pystoned import CNLS"
   ]
  },
  {
   "cell_type": "code",
   "execution_count": null,
   "metadata": {},
   "outputs": [],
   "source": [
    "# import Finnish electricity distribution firms data\n",
    "url = 'https://raw.githubusercontent.com/ds2010/pyStoNED-Tutorials/master/Data/firms.csv'\n",
    "df = pd.read_csv(url, error_bad_lines=False)"
   ]
  },
  {
   "cell_type": "code",
   "execution_count": null,
   "metadata": {},
   "outputs": [],
   "source": [
    "# output\n",
    "y = df['Energy']\n",
    "\n",
    "# inputs\n",
    "x1 = df['OPEX']\n",
    "x1 = np.asmatrix(x1).T\n",
    "x2 = df['CAPEX']\n",
    "x2 = np.asmatrix(x2).T\n",
    "x = np.concatenate((x1, x2), axis=1)"
   ]
  },
  {
   "cell_type": "code",
   "execution_count": null,
   "metadata": {},
   "outputs": [],
   "source": [
    "# define and solve the CNLS model\n",
    "\n",
    "cet = \"addi\"\n",
    "fun = \"prod\"\n",
    "rts = \"vrs\"\n",
    "\n",
    "model = CNLS.cnls(y, x, cet, fun, rts)\n",
    "\n",
    "# using local solver (MOSEK API)\n",
    "from pyomo.opt import SolverFactory\n",
    "opt = SolverFactory(\"mosek\")\n",
    "results = opt.solve(model, tee=True)"
   ]
  },
  {
   "cell_type": "code",
   "execution_count": null,
   "metadata": {},
   "outputs": [],
   "source": [
    "# display the estimates (alpha, beta, and residual)\n",
    "model.a.display()\n",
    "model.b.display()\n",
    "model.e.display()"
   ]
  },
  {
   "cell_type": "code",
   "execution_count": null,
   "metadata": {},
   "outputs": [],
   "source": [
    "# retrive the alpha\n",
    "val = list(model.a[:].value)\n",
    "alpha = np.asarray(val)\n",
    "alpha"
   ]
  },
  {
   "cell_type": "code",
   "execution_count": null,
   "metadata": {},
   "outputs": [],
   "source": [
    "# retrive the residuals\n",
    "val = list(model.e[:].value)\n",
    "eps = np.asarray(val)\n",
    "eps"
   ]
  },
  {
   "cell_type": "code",
   "execution_count": null,
   "metadata": {},
   "outputs": [],
   "source": [
    "# retrive the beta\n",
    "ind = list(model.b)\n",
    "val = list(model.b[:, :].value)\n",
    "beta = np.asarray([i + tuple([j]) for i, j in zip(ind, val)])\n",
    "\n",
    "beta = pd.DataFrame(beta, columns=['Name', 'Key', 'Value'])\n",
    "beta = beta.pivot(index='Name', columns='Key', values='Value')\n",
    "beta.columns = ['b1', 'b2']\n",
    "beta"
   ]
  }
 ],
 "metadata": {
  "kernelspec": {
   "display_name": "Python 3",
   "language": "python",
   "name": "python3"
  },
  "language_info": {
   "codemirror_mode": {
    "name": "ipython",
    "version": 3
   },
   "file_extension": ".py",
   "mimetype": "text/x-python",
   "name": "python",
   "nbconvert_exporter": "python",
   "pygments_lexer": "ipython3",
   "version": "3.7.6"
  }
 },
 "nbformat": 4,
 "nbformat_minor": 4
}
