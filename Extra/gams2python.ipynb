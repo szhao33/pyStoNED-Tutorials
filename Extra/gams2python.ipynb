{
 "cells": [
  {
   "cell_type": "markdown",
   "metadata": {},
   "source": [
    "# Rewrite GAMS codes in Python: A brief comparison"
   ]
  },
  {
   "cell_type": "markdown",
   "metadata": {},
   "source": [
    "  + Author: Sheng Dai (sheng.dai@aalto.fi)\n",
    "  + Date  : April 15, 2020"
   ]
  },
  {
   "cell_type": "markdown",
   "metadata": {},
   "source": [
    "[PYOMO](http://www.pyomo.org/) provides a good coding environment that can help us smoothly transfer from GAMS to Python. Thus, we prepare a short tutorial to help GAMSers to understand how to rewrite the StoNED models, even other complicated models on Python."
   ]
  },
  {
   "cell_type": "markdown",
   "metadata": {},
   "source": [
    "### Import the pyomo module"
   ]
  },
  {
   "cell_type": "code",
   "execution_count": 1,
   "metadata": {},
   "outputs": [],
   "source": [
    "from pyomo.environ import *\n",
    "\n",
    "# Create a concrete Model\n",
    "model = ConcreteModel(name = \"CNLS\")"
   ]
  },
  {
   "cell_type": "markdown",
   "metadata": {},
   "source": [
    "### SETS"
   ]
  },
  {
   "cell_type": "code",
   "execution_count": 2,
   "metadata": {},
   "outputs": [],
   "source": [
    "#sets \n",
    "#     i        \"DMU's\"  /1*10/\n",
    "#     j        'outputs' /Energy, Length, Customers/"
   ]
  },
  {
   "cell_type": "code",
   "execution_count": 3,
   "metadata": {},
   "outputs": [],
   "source": [
    "model.i = Set(initialize=['i1', 'i2', 'i3', 'i4', 'i5', 'i6','i7', 'i8', 'i9','i10'], doc='DMUS', ordered=True)\n",
    "model.j = Set(initialize=['Energy', 'Length', 'Customers'], doc='outputs')"
   ]
  },
  {
   "cell_type": "markdown",
   "metadata": {},
   "source": [
    "### ALIAS"
   ]
  },
  {
   "cell_type": "code",
   "execution_count": 4,
   "metadata": {},
   "outputs": [],
   "source": [
    "# alias(i,h);"
   ]
  },
  {
   "cell_type": "code",
   "execution_count": 5,
   "metadata": {},
   "outputs": [],
   "source": [
    "model.h = SetOf(model.i)"
   ]
  },
  {
   "cell_type": "markdown",
   "metadata": {},
   "source": [
    "### TABLE"
   ]
  },
  {
   "cell_type": "code",
   "execution_count": 6,
   "metadata": {},
   "outputs": [],
   "source": [
    "#Table data(i,j)\n",
    "#$Include energy.txt;"
   ]
  },
  {
   "cell_type": "code",
   "execution_count": 7,
   "metadata": {},
   "outputs": [],
   "source": [
    "dtab = {\n",
    "    ('i1',  'Energy')   : 75,\t\t\n",
    "    ('i1',  'Length')   : 878,\n",
    "    ('i1',  'Customers'): 4933,\n",
    "    ('i2',  'Energy')   : 62,\n",
    "    ('i2',  'Length')   : 964,\n",
    "    ('i2',  'Customers'): 6149,\n",
    "    ('i3',  'Energy')   : 78,\n",
    "    ('i3',  'Length')   : 676,\n",
    "    ('i3',  'Customers'): 6098,\n",
    "    ('i4',  'Energy')   : 683,\n",
    "    ('i4',  'Length')   : 12522,\n",
    "    ('i4',  'Customers'): 55226,\n",
    "    ('i5',  'Energy')   : 27,\n",
    "    ('i5',  'Length')   : 697,\n",
    "    ('i5',  'Customers'): 1670,\n",
    "    ('i6',  'Energy')   : 295,\n",
    "    ('i6',  'Length')   : 953,\n",
    "    ('i6',  'Customers'): 22949,\n",
    "    ('i7',  'Energy')   : 44,\n",
    "    ('i7',  'Length')   : 917,\n",
    "    ('i7',  'Customers'): 3599,\n",
    "    ('i8',  'Energy')   : 171,\n",
    "    ('i8',  'Length')   : 1580,\n",
    "    ('i8',  'Customers'): 11081,\n",
    "    ('i9',  'Energy')   : 98,\n",
    "    ('i9',  'Length')   : 116,\n",
    "    ('i9',  'Customers'): 377,\n",
    "    ('i10',  'Energy')   : 203,\n",
    "    ('i10',  'Length')   : 740,\n",
    "    ('i10',  'Customers'): 10134,\n",
    "    }\n",
    "model.d = Param(model.i, model.j, initialize=dtab, doc='output data')"
   ]
  },
  {
   "cell_type": "markdown",
   "metadata": {},
   "source": [
    "### PARAMETERS"
   ]
  },
  {
   "cell_type": "code",
   "execution_count": 8,
   "metadata": {},
   "outputs": [],
   "source": [
    "#PARAMETERS\n",
    "#c(i)         \"Total cost of firm i\"\n",
    "#y(i,j)       \"Output j of firm i\";"
   ]
  },
  {
   "cell_type": "code",
   "execution_count": 9,
   "metadata": {},
   "outputs": [],
   "source": [
    "model.c = Param(model.i, initialize={'i1': 1612,\n",
    "                                     'i2': 1659,\n",
    "                                     'i3': 1708,\n",
    "                                     'i4': 18918,\n",
    "                                     'i5': 1167,\n",
    "                                     'i6': 3395,\n",
    "                                     'i7': 1333,\n",
    "                                     'i8': 3518,\n",
    "                                     'i9': 1415,\n",
    "                                     'i10':2469,\n",
    "                                     }, \n",
    "                doc='Cost data')\n",
    "\n",
    "def y_init(model, i, j):\n",
    "  return  model.d[i, j]\n",
    "model.y = Param(model.i, model.j, initialize=y_init, doc='output data')"
   ]
  },
  {
   "cell_type": "markdown",
   "metadata": {},
   "source": [
    "### VARIABLES"
   ]
  },
  {
   "cell_type": "code",
   "execution_count": 10,
   "metadata": {},
   "outputs": [],
   "source": [
    "#VARIABLES\n",
    "#E(i)            \"Composite error term (v + u)\"\n",
    "#SSE             \"Sum of squares of residuals\";\n",
    "\n",
    "#POSITIVE VARIABLES\n",
    "#b(i,j)    \"Beta-coefficients (positivity ensures monotonicity)\"\n",
    "#Chat(i)  ;"
   ]
  },
  {
   "cell_type": "code",
   "execution_count": 11,
   "metadata": {},
   "outputs": [],
   "source": [
    "model.b = Var(model.i, model.j, bounds=(0.0,None), doc='beta-coeff')\n",
    "model.e = Var(model.i, doc='res')\n",
    "model.f = Var(model.i, bounds=(0.0,None), doc='frontier')"
   ]
  },
  {
   "cell_type": "markdown",
   "metadata": {},
   "source": [
    "### EQUATIONS"
   ]
  },
  {
   "cell_type": "code",
   "execution_count": 12,
   "metadata": {},
   "outputs": [],
   "source": [
    "#Equations\n",
    "#QSSE                  objective function = sum of squares of residuals\n",
    "#QREGRESSION(i)        log-transformed regression equation\n",
    "#Qlog(i)               supporting hyperplanes of the nonparametric cost function\n",
    "#QCONC(i,h)            concavity constraint (Afriat inequalities);\n",
    "\n",
    "#QSSE..                SSE=e=sum(i,E(i)*E(i)) ;\n",
    "#QREGRESSION(i)..      log(C(i)) =e= log(Chat(i) + 1) + E(i);\n",
    "#Qlog(i)..             Chat(i) =e= sum(j, b(i,j)*Y(i,j)) - 1;\n",
    "#QCONC(i,h)..          sum(j, b(i,j)*Y(i,j)) =g= sum(j, b(h,j)*Y(i,j));"
   ]
  },
  {
   "cell_type": "code",
   "execution_count": 13,
   "metadata": {},
   "outputs": [],
   "source": [
    "def objective_rule(model):\n",
    "  return sum(model.e[i]*model.e[i] for i in model.i)\n",
    "model.objective = Objective(rule=objective_rule, sense=minimize, doc='Define objective function')\n",
    "\n",
    "def qreg_rule(model, i):\n",
    "    return log(model.c[i]) == log(model.f[i] + 1) + model.e[i]\n",
    "model.qreg = Constraint(model.i, rule=qreg_rule, doc='log-transformed regression')\n",
    "\n",
    "def qlog_rule(model, i):\n",
    "    return model.f[i] == sum(model.b[i, j]*model.y[i, j] for j in model.j) - 1\n",
    "model.qlog = Constraint(model.i, rule=qlog_rule, doc='cost function')\n",
    "\n",
    "def qconcav_rule(model, i, h):\n",
    "    return sum(model.b[i,j]*model.y[i,j] for j in model.j) >= sum(model.b[h,j]*model.y[i,j] for j in model.j)\n",
    "model.qconcav = Constraint(model.i, model.h, rule=qconcav_rule, doc='concavity constraint')"
   ]
  },
  {
   "cell_type": "markdown",
   "metadata": {},
   "source": [
    "### EXECUTION"
   ]
  },
  {
   "cell_type": "code",
   "execution_count": 14,
   "metadata": {},
   "outputs": [],
   "source": [
    "# Execute the model\n",
    "#MODEL StoNED /all/;\n",
    "#SOLVE StoNED using NLP Minimizing SSE;"
   ]
  },
  {
   "cell_type": "code",
   "execution_count": 15,
   "metadata": {},
   "outputs": [],
   "source": [
    "from pyomo.opt import SolverFactory\n",
    "import pyomo.environ\n",
    "solver_manager = SolverManagerFactory('neos')\n",
    "results = solver_manager.solve(model, opt='minos')"
   ]
  },
  {
   "cell_type": "markdown",
   "metadata": {},
   "source": [
    "### DISPLAY"
   ]
  },
  {
   "cell_type": "code",
   "execution_count": 16,
   "metadata": {},
   "outputs": [],
   "source": [
    "#display E.l, b.l;"
   ]
  },
  {
   "cell_type": "code",
   "execution_count": 17,
   "metadata": {},
   "outputs": [
    {
     "name": "stdout",
     "output_type": "stream",
     "text": [
      "e : res\n",
      "    Size=10, Index=i\n",
      "    Key : Lower : Value                 : Upper : Fixed : Stale : Domain\n",
      "     i1 :  None : -0.032096679396871504 :  None : False : False :  Reals\n",
      "    i10 :  None :  -0.06413156735462289 :  None : False : False :  Reals\n",
      "     i2 :  None : -0.009706295145954136 :  None : False : False :  Reals\n",
      "     i3 :  None :   0.14091387439378697 :  None : False : False :  Reals\n",
      "     i4 :  None :  -0.07357647574238865 :  None : False : False :  Reals\n",
      "     i5 :  None :   0.06750602546432768 :  None : False : False :  Reals\n",
      "     i6 :  None :  -0.11941039400503946 :  None : False : False :  Reals\n",
      "     i7 :  None :  -0.07382034813946062 :  None : False : False :  Reals\n",
      "     i8 :  None :   0.05689878964359083 :  None : False : False :  Reals\n",
      "     i9 :  None :   0.10742325374875122 :  None : False : False :  Reals\n",
      "b : beta-coeff\n",
      "    Size=30, Index=b_index\n",
      "    Key                  : Lower : Value                : Upper : Fixed : Stale : Domain\n",
      "     ('i1', 'Customers') :   0.0 :  0.01654905352719829 :  None : False : False :  Reals\n",
      "        ('i1', 'Energy') :   0.0 :     8.08850607060402 :  None : False : False :  Reals\n",
      "        ('i1', 'Length') :   0.0 :    1.111964356352479 :  None : False : False :  Reals\n",
      "    ('i10', 'Customers') :   0.0 :                  0.0 :  None : False : False :  Reals\n",
      "       ('i10', 'Energy') :   0.0 :   12.968120514670339 :  None : False : False :  Reals\n",
      "       ('i10', 'Length') :   0.0 :                  0.0 :  None : False : False :  Reals\n",
      "     ('i2', 'Customers') :   0.0 :  0.12860156088281094 :  None : False : False :  Reals\n",
      "        ('i2', 'Energy') :   0.0 :                  0.0 :  None : False : False :  Reals\n",
      "        ('i2', 'Length') :   0.0 :   0.9174379130410503 :  None : False : False :  Reals\n",
      "     ('i3', 'Customers') :   0.0 : 0.016549053527195632 :  None : False : False :  Reals\n",
      "        ('i3', 'Energy') :   0.0 :    8.088506070604131 :  None : False : False :  Reals\n",
      "        ('i3', 'Length') :   0.0 :   1.1119643563524844 :  None : False : False :  Reals\n",
      "     ('i4', 'Customers') :   0.0 : 0.016549053527195896 :  None : False : False :  Reals\n",
      "        ('i4', 'Energy') :   0.0 :    8.088506070604131 :  None : False : False :  Reals\n",
      "        ('i4', 'Length') :   0.0 :   1.1119643563524833 :  None : False : False :  Reals\n",
      "     ('i5', 'Customers') :   0.0 :                  0.0 :  None : False : False :  Reals\n",
      "        ('i5', 'Energy') :   0.0 :                  0.0 :  None : False : False :  Reals\n",
      "        ('i5', 'Length') :   0.0 :    1.565022492394969 :  None : False : False :  Reals\n",
      "     ('i6', 'Customers') :   0.0 :   0.1286015860667995 :  None : False : False :  Reals\n",
      "        ('i6', 'Energy') :   0.0 :                  0.0 :  None : False : False :  Reals\n",
      "        ('i6', 'Length') :   0.0 :    0.917437306590522 :  None : False : False :  Reals\n",
      "     ('i7', 'Customers') :   0.0 :                  0.0 :  None : False : False :  Reals\n",
      "        ('i7', 'Energy') :   0.0 :                  0.0 :  None : False : False :  Reals\n",
      "        ('i7', 'Length') :   0.0 :    1.565022492394969 :  None : False : False :  Reals\n",
      "     ('i8', 'Customers') :   0.0 : 0.016549053527195642 :  None : False : False :  Reals\n",
      "        ('i8', 'Energy') :   0.0 :    8.088506070604137 :  None : False : False :  Reals\n",
      "        ('i8', 'Length') :   0.0 :   1.1119643563524837 :  None : False : False :  Reals\n",
      "     ('i9', 'Customers') :   0.0 :                  0.0 :  None : False : False :  Reals\n",
      "        ('i9', 'Energy') :   0.0 :   12.968120514670337 :  None : False : False :  Reals\n",
      "        ('i9', 'Length') :   0.0 :                  0.0 :  None : False : False :  Reals\n",
      "f : frontier\n",
      "    Size=10, Index=i\n",
      "    Key : Lower : Value              : Upper : Fixed : Stale : Domain\n",
      "     i1 :   0.0 : 1663.5791412224467 :  None : False : False :  Reals\n",
      "    i10 :   0.0 : 2631.5284644780786 :  None : False : False :  Reals\n",
      "     i2 :   0.0 : 1674.1811460399772 :  None : False : False :  Reals\n",
      "     i3 :   0.0 : 1482.5075068102406 :  None : False : False :  Reals\n",
      "     i4 :   0.0 : 20361.405346561336 :  None : False : False :  Reals\n",
      "     i5 :   0.0 : 1089.8206771992934 :  None : False : False :  Reals\n",
      "     i6 :   0.0 :  3824.595551827749 :  None : False : False :  Reals\n",
      "     i7 :   0.0 :  1434.125625526187 :  None : False : False :  Reals\n",
      "     i8 :   0.0 : 3322.4182832450865 :  None : False : False :  Reals\n",
      "     i9 :   0.0 :  1269.875810437693 :  None : False : False :  Reals\n"
     ]
    }
   ],
   "source": [
    "model.e.display()\n",
    "model.b.display()  \n",
    "model.f.display() "
   ]
  },
  {
   "cell_type": "code",
   "execution_count": 18,
   "metadata": {},
   "outputs": [
    {
     "name": "stdout",
     "output_type": "stream",
     "text": [
      "               residuals\n",
      "(i1, e[i1])    -0.032097\n",
      "(i2, e[i2])    -0.009706\n",
      "(i3, e[i3])     0.140914\n",
      "(i4, e[i4])    -0.073576\n",
      "(i5, e[i5])     0.067506\n",
      "(i6, e[i6])    -0.119410\n",
      "(i7, e[i7])    -0.073820\n",
      "(i8, e[i8])     0.056899\n",
      "(i9, e[i9])     0.107423\n",
      "(i10, e[i10])  -0.064132\n",
      "                         beta-coeff\n",
      "(i1, b[i1,Energy])         8.088506\n",
      "(i1, b[i1,Length])         1.111964\n",
      "(i1, b[i1,Customers])      0.016549\n",
      "(i2, b[i2,Energy])         0.000000\n",
      "(i2, b[i2,Length])         0.917438\n",
      "(i2, b[i2,Customers])      0.128602\n",
      "(i3, b[i3,Energy])         8.088506\n",
      "(i3, b[i3,Length])         1.111964\n",
      "(i3, b[i3,Customers])      0.016549\n",
      "(i4, b[i4,Energy])         8.088506\n",
      "(i4, b[i4,Length])         1.111964\n",
      "(i4, b[i4,Customers])      0.016549\n",
      "(i5, b[i5,Energy])         0.000000\n",
      "(i5, b[i5,Length])         1.565022\n",
      "(i5, b[i5,Customers])      0.000000\n",
      "(i6, b[i6,Energy])         0.000000\n",
      "(i6, b[i6,Length])         0.917437\n",
      "(i6, b[i6,Customers])      0.128602\n",
      "(i7, b[i7,Energy])         0.000000\n",
      "(i7, b[i7,Length])         1.565022\n",
      "(i7, b[i7,Customers])      0.000000\n",
      "(i8, b[i8,Energy])         8.088506\n",
      "(i8, b[i8,Length])         1.111964\n",
      "(i8, b[i8,Customers])      0.016549\n",
      "(i9, b[i9,Energy])        12.968121\n",
      "(i9, b[i9,Length])         0.000000\n",
      "(i9, b[i9,Customers])      0.000000\n",
      "(i10, b[i10,Energy])      12.968121\n",
      "(i10, b[i10,Length])       0.000000\n",
      "(i10, b[i10,Customers])    0.000000\n"
     ]
    }
   ],
   "source": [
    "import pandas as pd    \n",
    "E = {(i, v.name): value(v) for (i), v in model.e.items()}\n",
    "df_E = pd.DataFrame.from_dict(E, orient=\"index\", columns=[\"residuals\"])\n",
    "print(df_E)\n",
    "\n",
    "B = {(i, v.name): value(v) for (i, j), v in model.b.items()}\n",
    "df_B = pd.DataFrame.from_dict(B, orient=\"index\", columns=[\"beta-coeff\"])\n",
    "print(df_B)\n",
    "\n",
    "coeff = pd.concat([df_E, df_B], axis=1) "
   ]
  }
 ],
 "metadata": {
  "kernelspec": {
   "display_name": "Python 3",
   "language": "python",
   "name": "python3"
  },
  "language_info": {
   "codemirror_mode": {
    "name": "ipython",
    "version": 3
   },
   "file_extension": ".py",
   "mimetype": "text/x-python",
   "name": "python",
   "nbconvert_exporter": "python",
   "pygments_lexer": "ipython3",
   "version": "3.7.6"
  }
 },
 "nbformat": 4,
 "nbformat_minor": 4
}
