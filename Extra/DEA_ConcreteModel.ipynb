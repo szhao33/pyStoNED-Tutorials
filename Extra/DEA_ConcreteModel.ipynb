{
 "cells": [
  {
   "cell_type": "markdown",
   "metadata": {},
   "source": [
    "# Data Envelopment Analysis: A simple VRS model\n",
    "\n",
    "- Sheng Dai\n",
    "- June 5, 2020\n",
    "\n",
    "##### Data from: Timo Kuosmanen [Finnish Electricity Distribution Data](https://github.com/ds2010/StoNED-Python/blob/master/Data/data_description.ipynb)"
   ]
  },
  {
   "cell_type": "markdown",
   "metadata": {},
   "source": [
    "## Basic DEA models\n",
    "\n",
    "A set of $j= 1,2,\\cdots,n$ observed `DMUs` transform a vector of $i = 1, 2,\\cdots,m$ inputs $x \\in R^m_{++}$ into a vector of $i = 1, 2, \\cdots, s$ outputs $y \\in R^s_{++}$ using the technology represented by the following CRS production possibility set: $P_{crs} = \\{(x, y) |x \\ge X\\lambda, y \\le Y\\lambda, \\lambda \\ge 0\\}$, where $X = (x)_j \\in R^{s \\times n}$, $Y =(y)_j \\in R^{m \\times n}$ and $\\lambda = (\\lambda_1, . . . , \\lambda_n)^T$ is a intensity vector."
   ]
  },
  {
   "cell_type": "markdown",
   "metadata": {},
   "source": [
    "Based on the data matrix `(X, Y)`, we measure the input oriented efficiency of `each observation o` by solving `n` times the following linear programming problems: "
   ]
  },
  {
   "cell_type": "markdown",
   "metadata": {},
   "source": [
    "### Constant returns to scale: CRS"
   ]
  },
  {
   "cell_type": "markdown",
   "metadata": {},
   "source": [
    "- Input orientation\n",
    "\n",
    "\\begin{equation}\n",
    "\\underset{\\mathbf{\\phi},\\mathbf{\\lambda }}min \\quad \\phi \\\\ \n",
    "\\mbox{s.t.} \\quad \n",
    "\\phi x_o \\ge X\\lambda  \\\\\n",
    "Y\\lambda \\ge y_o \\\\\n",
    "\\lambda \\ge 0\n",
    "\\end{equation}\n",
    "\n",
    "- Output orientation\n",
    "\n",
    "\\begin{equation}\n",
    "\\underset{\\mathbf{\\theta},\\mathbf{\\lambda }}max \\quad \\theta \\\\ \n",
    "\\mbox{s.t.} \\quad \n",
    "X\\lambda  \\le x_o \\\\\n",
    "\\theta y_o  \\le Y\\lambda\\\\\n",
    "\\lambda \\ge 0\n",
    "\\end{equation}"
   ]
  },
  {
   "cell_type": "markdown",
   "metadata": {},
   "source": [
    "### Variables returns to scale: VRS\n",
    "\n",
    "The measurement of technical efficiency assuming VRS considers the following production possibility set $P_{vrs} = \\{ (x, y) |x \\ge X\\lambda, y \\le Y\\lambda, e\\lambda = 1, \\lambda \\ge 0. \\}$\n",
    "\n",
    "Thus, the only difference with the CRS model is the adjunction of the condition $\\sum_{j=1}^{n}\\lambda_j = 1$. "
   ]
  },
  {
   "cell_type": "markdown",
   "metadata": {},
   "source": [
    "- Input orientation\n",
    "\n",
    "\\begin{equation}\n",
    "\\underset{\\mathbf{\\phi},\\mathbf{\\lambda }}min \\quad \\phi \\\\ \n",
    "\\mbox{s.t.} \\quad \n",
    "\\phi x_o \\ge X\\lambda  \\\\\n",
    "Y\\lambda \\ge y_o \\\\\n",
    "\\sum_{j=1}^{n}\\lambda_j = 1 \\\\\n",
    "\\lambda \\ge 0\n",
    "\\end{equation}\n",
    "\n",
    "- Output orientation\n",
    "\n",
    "\\begin{equation}\n",
    "\\underset{\\mathbf{\\theta},\\mathbf{\\lambda }}max \\quad \\theta \\\\ \n",
    "\\mbox{s.t.} \\quad \n",
    "X\\lambda  \\le x_o \\\\\n",
    "\\theta y_o  \\le Y\\lambda\\\\\n",
    "\\sum_{j=1}^{n}\\lambda_j = 1 \\\\\n",
    "\\lambda \\ge 0\n",
    "\\end{equation}  "
   ]
  },
  {
   "cell_type": "markdown",
   "metadata": {},
   "source": [
    "## Estimating a input oriented VRS model"
   ]
  },
  {
   "cell_type": "code",
   "execution_count": 1,
   "metadata": {},
   "outputs": [],
   "source": [
    "# import PYOMO package\n",
    "from pyomo.environ import *"
   ]
  },
  {
   "cell_type": "code",
   "execution_count": 2,
   "metadata": {},
   "outputs": [],
   "source": [
    "# creat a concrete model\n",
    "model = ConcreteModel()"
   ]
  },
  {
   "cell_type": "code",
   "execution_count": 3,
   "metadata": {},
   "outputs": [],
   "source": [
    "# Sets\n",
    "model.i = Set(initialize=['i1', 'i2','i3', 'i4','i5', 'i6','i7', 'i8','i9', 'i10'], doc='DMUs', ordered=True)\n",
    "model.j = Set(initialize=['OPEX', 'CAPEX'])   # inputs\n",
    "model.k = Set(initialize=['Energy', 'Length', 'Customers'])   #outputs\n",
    "\n",
    "# Alias\n",
    "model.io = SetOf(model.i) "
   ]
  },
  {
   "cell_type": "code",
   "execution_count": 4,
   "metadata": {},
   "outputs": [],
   "source": [
    "# Parameters (define and import the input-output data)\n",
    "inputdata = {\n",
    "('OPEX', 'i1') :   681,\n",
    "('OPEX', 'i2') :   559,\n",
    "('OPEX', 'i3') :   836,\n",
    "('OPEX', 'i4') :   7559,\n",
    "('OPEX', 'i5') :   424,\n",
    "('OPEX', 'i6') :   1483,\n",
    "('OPEX', 'i7') :   658,\n",
    "('OPEX', 'i8') :   1433,\n",
    "('OPEX', 'i9') :   850,\n",
    "('OPEX', 'i10') :  1155,\n",
    "('CAPEX', 'i1') :  729,\n",
    "('CAPEX', 'i2') :  673,\n",
    "('CAPEX', 'i3') :  851,\n",
    "('CAPEX', 'i4') :  8384,\n",
    "('CAPEX', 'i5') :  562,\n",
    "('CAPEX', 'i6') :  1587,\n",
    "('CAPEX', 'i7') :  570,\n",
    "('CAPEX', 'i8') :  1311,\n",
    "('CAPEX', 'i9') :  564,\n",
    "('CAPEX', 'i10'):  1108,\n",
    "}\n",
    "model.x = Param(model.j, model.i, initialize=inputdata)\n",
    "\n",
    "outputdata = {\n",
    "('Energy', 'i1'):   75,\n",
    "('Energy', 'i2'):   62,\n",
    "('Energy', 'i3'):   78,\n",
    "('Energy', 'i4'):   683,\n",
    "('Energy', 'i5'):   27,\n",
    "('Energy', 'i6'):   295,\n",
    "('Energy', 'i7'):   44,\n",
    "('Energy', 'i8'):   171,\n",
    "('Energy', 'i9'):   98,\n",
    "('Energy', 'i10'):  203,\n",
    "('Length', 'i1'):   878,\n",
    "('Length', 'i2'):   964,\n",
    "('Length', 'i3'):   676,\n",
    "('Length', 'i4'):   12522,\n",
    "('Length', 'i5'):   697,\n",
    "('Length', 'i6'):   953,\n",
    "('Length', 'i7'):   917,\n",
    "('Length', 'i8'):   1580,\n",
    "('Length', 'i9'):   116,\n",
    "('Length', 'i10'):  740,\n",
    "('Customers', 'i1'):4933,\n",
    "('Customers', 'i2'):6149,\n",
    "('Customers', 'i3'):6098,\n",
    "('Customers', 'i4'):55226,\n",
    "('Customers', 'i5'):1670,\n",
    "('Customers', 'i6'):22949,\n",
    "('Customers', 'i7'):3599,\n",
    "('Customers', 'i8'):11081,\n",
    "('Customers', 'i9'):377,\n",
    "('Customers', 'i10'):10134,\n",
    "}\n",
    "\n",
    "model.y = Param(model.k, model.i, initialize=outputdata)  "
   ]
  },
  {
   "cell_type": "code",
   "execution_count": 5,
   "metadata": {},
   "outputs": [],
   "source": [
    "# Variables\n",
    "model.lamda = Var(model.io, model.i, bounds=(0.0, None), doc='envelopment efficiency') \n",
    "model.theta = Var(model.io, doc='intensity variable') "
   ]
  },
  {
   "cell_type": "code",
   "execution_count": 6,
   "metadata": {},
   "outputs": [],
   "source": [
    "# objective\n",
    "def objective_rule(model):\n",
    "    return sum(model.theta[io] for io in model.io)\n",
    "\n",
    "model.objective = Objective(rule=objective_rule, sense=minimize, doc='Define objective function')\n",
    "\n",
    "# Constraints\n",
    "def output_rule(model, io, k):\n",
    "    return sum(model.lamda[io, i] * model.y[k, i] for i in model.i) >= \\\n",
    "           model.y[k, io]\n",
    "\n",
    "model.output = Constraint(model.io, model.k, rule=output_rule, doc='output constraints')\n",
    "\n",
    "def input_rule(model, io, j):\n",
    "    return (model.theta[io] * model.x[j, io]) >= sum(\n",
    "            model.lamda[io, i] * model.x[j, i] for i in model.i)\n",
    "\n",
    "model.input = Constraint(model.io, model.j, rule=input_rule, doc='input constraints')\n",
    "\n",
    "def vrs_rule(model, io):\n",
    "    return sum(model.lamda[io, i] for i in model.i) == 1\n",
    "\n",
    "model.vrs = Constraint(model.io, rule=vrs_rule, doc='VRS constraints')"
   ]
  },
  {
   "cell_type": "markdown",
   "metadata": {},
   "source": [
    "- Note: one can comment out the last constaint, it will become a CRS model."
   ]
  },
  {
   "cell_type": "code",
   "execution_count": 7,
   "metadata": {},
   "outputs": [],
   "source": [
    "# calculate the DEA model \n",
    "from pyomo.opt import SolverFactory\n",
    "solver_manager = SolverManagerFactory('neos')\n",
    "results = solver_manager.solve(model, opt='cplex')"
   ]
  },
  {
   "cell_type": "code",
   "execution_count": 8,
   "metadata": {},
   "outputs": [
    {
     "name": "stdout",
     "output_type": "stream",
     "text": [
      "theta : intensity variable\n",
      "    Size=10, Index=io\n",
      "    Key : Lower : Value              : Upper : Fixed : Stale : Domain\n",
      "     i1 :  None : 0.9486375761979362 :  None : False : False :  Reals\n",
      "    i10 :  None :                1.0 :  None : False : False :  Reals\n",
      "     i2 :  None :                1.0 :  None : False : False :  Reals\n",
      "     i3 :  None : 0.8222578813655619 :  None : False : False :  Reals\n",
      "     i4 :  None :                1.0 :  None : False : False :  Reals\n",
      "     i5 :  None :                1.0 :  None : False : False :  Reals\n",
      "     i6 :  None : 0.9999999999999999 :  None : False : False :  Reals\n",
      "     i7 :  None :                1.0 :  None : False : False :  Reals\n",
      "     i8 :  None : 0.9999999999999999 :  None : False : False :  Reals\n",
      "     i9 :  None : 0.9999999999999999 :  None : False : False :  Reals\n",
      "lamda : envelopment efficiency\n",
      "    Size=100, Index=lamda_index\n",
      "    Key            : Lower : Value               : Upper : Fixed : Stale : Domain\n",
      "      ('i1', 'i1') :   0.0 :                 0.0 :  None : False : False :  Reals\n",
      "     ('i1', 'i10') :   0.0 : 0.09045945895238203 :  None : False : False :  Reals\n",
      "      ('i1', 'i2') :   0.0 :  0.7117707758876162 :  None : False : False :  Reals\n",
      "      ('i1', 'i3') :   0.0 :                 0.0 :  None : False : False :  Reals\n",
      "      ('i1', 'i4') :   0.0 :                 0.0 :  None : False : False :  Reals\n",
      "      ('i1', 'i5') :   0.0 :                 0.0 :  None : False : False :  Reals\n",
      "      ('i1', 'i6') :   0.0 :                 0.0 :  None : False : False :  Reals\n",
      "      ('i1', 'i7') :   0.0 :  0.1273054677415918 :  None : False : False :  Reals\n",
      "      ('i1', 'i8') :   0.0 :                 0.0 :  None : False : False :  Reals\n",
      "      ('i1', 'i9') :   0.0 : 0.07046429741841001 :  None : False : False :  Reals\n",
      "     ('i10', 'i1') :   0.0 :                 0.0 :  None : False : False :  Reals\n",
      "    ('i10', 'i10') :   0.0 :                 1.0 :  None : False : False :  Reals\n",
      "     ('i10', 'i2') :   0.0 :                 0.0 :  None : False : False :  Reals\n",
      "     ('i10', 'i3') :   0.0 :                 0.0 :  None : False : False :  Reals\n",
      "     ('i10', 'i4') :   0.0 :                 0.0 :  None : False : False :  Reals\n",
      "     ('i10', 'i5') :   0.0 :                 0.0 :  None : False : False :  Reals\n",
      "     ('i10', 'i6') :   0.0 :                 0.0 :  None : False : False :  Reals\n",
      "     ('i10', 'i7') :   0.0 :                 0.0 :  None : False : False :  Reals\n",
      "     ('i10', 'i8') :   0.0 :                 0.0 :  None : False : False :  Reals\n",
      "     ('i10', 'i9') :   0.0 :                 0.0 :  None : False : False :  Reals\n",
      "      ('i2', 'i1') :   0.0 :                 0.0 :  None : False : False :  Reals\n",
      "     ('i2', 'i10') :   0.0 :                 0.0 :  None : False : False :  Reals\n",
      "      ('i2', 'i2') :   0.0 :                 1.0 :  None : False : False :  Reals\n",
      "      ('i2', 'i3') :   0.0 :                 0.0 :  None : False : False :  Reals\n",
      "      ('i2', 'i4') :   0.0 :                 0.0 :  None : False : False :  Reals\n",
      "      ('i2', 'i5') :   0.0 :                 0.0 :  None : False : False :  Reals\n",
      "      ('i2', 'i6') :   0.0 :                 0.0 :  None : False : False :  Reals\n",
      "      ('i2', 'i7') :   0.0 :                 0.0 :  None : False : False :  Reals\n",
      "      ('i2', 'i8') :   0.0 :                 0.0 :  None : False : False :  Reals\n",
      "      ('i2', 'i9') :   0.0 :                 0.0 :  None : False : False :  Reals\n",
      "      ('i3', 'i1') :   0.0 :                 0.0 :  None : False : False :  Reals\n",
      "     ('i3', 'i10') :   0.0 :                 0.0 :  None : False : False :  Reals\n",
      "      ('i3', 'i2') :   0.0 :  0.8096099044148874 :  None : False : False :  Reals\n",
      "      ('i3', 'i3') :   0.0 :                 0.0 :  None : False : False :  Reals\n",
      "      ('i3', 'i4') :   0.0 :                 0.0 :  None : False : False :  Reals\n",
      "      ('i3', 'i5') :   0.0 :                 0.0 :  None : False : False :  Reals\n",
      "      ('i3', 'i6') :   0.0 : 0.04642617542607079 :  None : False : False :  Reals\n",
      "      ('i3', 'i7') :   0.0 :                 0.0 :  None : False : False :  Reals\n",
      "      ('i3', 'i8') :   0.0 :                 0.0 :  None : False : False :  Reals\n",
      "      ('i3', 'i9') :   0.0 :  0.1439639201590418 :  None : False : False :  Reals\n",
      "      ('i4', 'i1') :   0.0 :                 0.0 :  None : False : False :  Reals\n",
      "     ('i4', 'i10') :   0.0 :                 0.0 :  None : False : False :  Reals\n",
      "      ('i4', 'i2') :   0.0 :                 0.0 :  None : False : False :  Reals\n",
      "      ('i4', 'i3') :   0.0 :                 0.0 :  None : False : False :  Reals\n",
      "      ('i4', 'i4') :   0.0 :                 1.0 :  None : False : False :  Reals\n",
      "      ('i4', 'i5') :   0.0 :                 0.0 :  None : False : False :  Reals\n",
      "      ('i4', 'i6') :   0.0 :                 0.0 :  None : False : False :  Reals\n",
      "      ('i4', 'i7') :   0.0 :                 0.0 :  None : False : False :  Reals\n",
      "      ('i4', 'i8') :   0.0 :                 0.0 :  None : False : False :  Reals\n",
      "      ('i4', 'i9') :   0.0 :                 0.0 :  None : False : False :  Reals\n",
      "      ('i5', 'i1') :   0.0 :                 0.0 :  None : False : False :  Reals\n",
      "     ('i5', 'i10') :   0.0 :                 0.0 :  None : False : False :  Reals\n",
      "      ('i5', 'i2') :   0.0 :                 0.0 :  None : False : False :  Reals\n",
      "      ('i5', 'i3') :   0.0 :                 0.0 :  None : False : False :  Reals\n",
      "      ('i5', 'i4') :   0.0 :                 0.0 :  None : False : False :  Reals\n",
      "      ('i5', 'i5') :   0.0 :                 1.0 :  None : False : False :  Reals\n",
      "      ('i5', 'i6') :   0.0 :                 0.0 :  None : False : False :  Reals\n",
      "      ('i5', 'i7') :   0.0 :                 0.0 :  None : False : False :  Reals\n",
      "      ('i5', 'i8') :   0.0 :                 0.0 :  None : False : False :  Reals\n",
      "      ('i5', 'i9') :   0.0 :                 0.0 :  None : False : False :  Reals\n",
      "      ('i6', 'i1') :   0.0 :                 0.0 :  None : False : False :  Reals\n",
      "     ('i6', 'i10') :   0.0 :                 0.0 :  None : False : False :  Reals\n",
      "      ('i6', 'i2') :   0.0 :                 0.0 :  None : False : False :  Reals\n",
      "      ('i6', 'i3') :   0.0 :                 0.0 :  None : False : False :  Reals\n",
      "      ('i6', 'i4') :   0.0 :                 0.0 :  None : False : False :  Reals\n",
      "      ('i6', 'i5') :   0.0 :                 0.0 :  None : False : False :  Reals\n",
      "      ('i6', 'i6') :   0.0 :  0.9999999999999999 :  None : False : False :  Reals\n",
      "      ('i6', 'i7') :   0.0 :                 0.0 :  None : False : False :  Reals\n",
      "      ('i6', 'i8') :   0.0 :                 0.0 :  None : False : False :  Reals\n",
      "      ('i6', 'i9') :   0.0 :                 0.0 :  None : False : False :  Reals\n",
      "      ('i7', 'i1') :   0.0 :                 0.0 :  None : False : False :  Reals\n",
      "     ('i7', 'i10') :   0.0 :                 0.0 :  None : False : False :  Reals\n",
      "      ('i7', 'i2') :   0.0 :                 0.0 :  None : False : False :  Reals\n",
      "      ('i7', 'i3') :   0.0 :                 0.0 :  None : False : False :  Reals\n",
      "      ('i7', 'i4') :   0.0 :                 0.0 :  None : False : False :  Reals\n",
      "      ('i7', 'i5') :   0.0 :                 0.0 :  None : False : False :  Reals\n",
      "      ('i7', 'i6') :   0.0 :                 0.0 :  None : False : False :  Reals\n",
      "      ('i7', 'i7') :   0.0 :                 1.0 :  None : False : False :  Reals\n",
      "      ('i7', 'i8') :   0.0 :                 0.0 :  None : False : False :  Reals\n",
      "      ('i7', 'i9') :   0.0 :                 0.0 :  None : False : False :  Reals\n",
      "      ('i8', 'i1') :   0.0 :                 0.0 :  None : False : False :  Reals\n",
      "     ('i8', 'i10') :   0.0 :                 0.0 :  None : False : False :  Reals\n",
      "      ('i8', 'i2') :   0.0 :                 0.0 :  None : False : False :  Reals\n",
      "      ('i8', 'i3') :   0.0 :                 0.0 :  None : False : False :  Reals\n",
      "      ('i8', 'i4') :   0.0 :                 0.0 :  None : False : False :  Reals\n",
      "      ('i8', 'i5') :   0.0 :                 0.0 :  None : False : False :  Reals\n",
      "      ('i8', 'i6') :   0.0 :                 0.0 :  None : False : False :  Reals\n",
      "      ('i8', 'i7') :   0.0 :                 0.0 :  None : False : False :  Reals\n",
      "      ('i8', 'i8') :   0.0 :                 1.0 :  None : False : False :  Reals\n",
      "      ('i8', 'i9') :   0.0 :                 0.0 :  None : False : False :  Reals\n",
      "      ('i9', 'i1') :   0.0 :                 0.0 :  None : False : False :  Reals\n",
      "     ('i9', 'i10') :   0.0 :                 0.0 :  None : False : False :  Reals\n",
      "      ('i9', 'i2') :   0.0 :                 0.0 :  None : False : False :  Reals\n",
      "      ('i9', 'i3') :   0.0 :                 0.0 :  None : False : False :  Reals\n",
      "      ('i9', 'i4') :   0.0 :                 0.0 :  None : False : False :  Reals\n",
      "      ('i9', 'i5') :   0.0 :                 0.0 :  None : False : False :  Reals\n",
      "      ('i9', 'i6') :   0.0 :                 0.0 :  None : False : False :  Reals\n",
      "      ('i9', 'i7') :   0.0 :                 0.0 :  None : False : False :  Reals\n",
      "      ('i9', 'i8') :   0.0 :                 0.0 :  None : False : False :  Reals\n",
      "      ('i9', 'i9') :   0.0 :                 1.0 :  None : False : False :  Reals\n"
     ]
    }
   ],
   "source": [
    "# display the estimates\n",
    "\n",
    "# efficiency\n",
    "model.theta.display()\n",
    "\n",
    "# intensity\n",
    "model.lamda.display()"
   ]
  }
 ],
 "metadata": {
  "kernelspec": {
   "display_name": "Python 3",
   "language": "python",
   "name": "python3"
  },
  "language_info": {
   "codemirror_mode": {
    "name": "ipython",
    "version": 3
   },
   "file_extension": ".py",
   "mimetype": "text/x-python",
   "name": "python",
   "nbconvert_exporter": "python",
   "pygments_lexer": "ipython3",
   "version": "3.7.6"
  }
 },
 "nbformat": 4,
 "nbformat_minor": 4
}
