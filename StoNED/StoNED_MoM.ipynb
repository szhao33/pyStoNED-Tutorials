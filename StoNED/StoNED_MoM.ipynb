{
 "cells": [
  {
   "cell_type": "markdown",
   "metadata": {},
   "source": [
    "# Stochastic Nonparametric Envelopment of Data (StoNED)"
   ]
  },
  {
   "cell_type": "markdown",
   "metadata": {},
   "source": [
    "   + Author : Sheng Dai (sheng.dai@aalto.fi)\n",
    "   + Date : April 16, 2020\n",
    "\n",
    "References:\n",
    "\n",
    "[1] Kuosmanen, T., Johnson, A. and Saastamoinen, A. (2015). Stochastic Nonparametric Approach to Efficiency Analysis: A unified Framework, in Zhu, J. (ed.) Data Envelopment Analysis. Springer, pp. 191–244.\n",
    "\n",
    "[2] Johnson, A. L. and Kuosmanen, T. (2015). An Introduction to CNLS and StoNED Methods for Efficiency Analysis: Economic Insights and Computational Aspects, in Ray, S. C., Kumbhakar, S. C., and Dua, P. (eds) Benchmarking for Performance Evaluation: A Production Frontier Approach. Springer, pp. 117–186."
   ]
  },
  {
   "cell_type": "markdown",
   "metadata": {},
   "source": [
    "### Objective: Estimating technicial inefficiency with Method of Moment (`MoM`)"
   ]
  },
  {
   "cell_type": "code",
   "execution_count": 1,
   "metadata": {},
   "outputs": [],
   "source": [
    "# import package pystoned\n",
    "from pystoned import *"
   ]
  },
  {
   "cell_type": "code",
   "execution_count": 2,
   "metadata": {},
   "outputs": [],
   "source": [
    "import pandas as pd\n",
    "import numpy as np"
   ]
  },
  {
   "cell_type": "code",
   "execution_count": 3,
   "metadata": {},
   "outputs": [
    {
     "data": {
      "text/html": [
       "<div>\n",
       "<style scoped>\n",
       "    .dataframe tbody tr th:only-of-type {\n",
       "        vertical-align: middle;\n",
       "    }\n",
       "\n",
       "    .dataframe tbody tr th {\n",
       "        vertical-align: top;\n",
       "    }\n",
       "\n",
       "    .dataframe thead th {\n",
       "        text-align: right;\n",
       "    }\n",
       "</style>\n",
       "<table border=\"1\" class=\"dataframe\">\n",
       "  <thead>\n",
       "    <tr style=\"text-align: right;\">\n",
       "      <th></th>\n",
       "      <th>OPEX</th>\n",
       "      <th>CAPEX</th>\n",
       "      <th>TOTEX</th>\n",
       "      <th>Energy</th>\n",
       "      <th>Length</th>\n",
       "      <th>Customers</th>\n",
       "      <th>PerUndGr</th>\n",
       "    </tr>\n",
       "  </thead>\n",
       "  <tbody>\n",
       "    <tr>\n",
       "      <th>0</th>\n",
       "      <td>681</td>\n",
       "      <td>729</td>\n",
       "      <td>1612</td>\n",
       "      <td>75</td>\n",
       "      <td>878</td>\n",
       "      <td>4933</td>\n",
       "      <td>0.11</td>\n",
       "    </tr>\n",
       "    <tr>\n",
       "      <th>1</th>\n",
       "      <td>559</td>\n",
       "      <td>673</td>\n",
       "      <td>1659</td>\n",
       "      <td>62</td>\n",
       "      <td>964</td>\n",
       "      <td>6149</td>\n",
       "      <td>0.21</td>\n",
       "    </tr>\n",
       "    <tr>\n",
       "      <th>2</th>\n",
       "      <td>836</td>\n",
       "      <td>851</td>\n",
       "      <td>1708</td>\n",
       "      <td>78</td>\n",
       "      <td>676</td>\n",
       "      <td>6098</td>\n",
       "      <td>0.75</td>\n",
       "    </tr>\n",
       "    <tr>\n",
       "      <th>3</th>\n",
       "      <td>7559</td>\n",
       "      <td>8384</td>\n",
       "      <td>18918</td>\n",
       "      <td>683</td>\n",
       "      <td>12522</td>\n",
       "      <td>55226</td>\n",
       "      <td>0.13</td>\n",
       "    </tr>\n",
       "    <tr>\n",
       "      <th>4</th>\n",
       "      <td>424</td>\n",
       "      <td>562</td>\n",
       "      <td>1167</td>\n",
       "      <td>27</td>\n",
       "      <td>697</td>\n",
       "      <td>1670</td>\n",
       "      <td>0.03</td>\n",
       "    </tr>\n",
       "  </tbody>\n",
       "</table>\n",
       "</div>"
      ],
      "text/plain": [
       "   OPEX  CAPEX  TOTEX  Energy  Length  Customers  PerUndGr\n",
       "0   681    729   1612      75     878       4933      0.11\n",
       "1   559    673   1659      62     964       6149      0.21\n",
       "2   836    851   1708      78     676       6098      0.75\n",
       "3  7559   8384  18918     683   12522      55226      0.13\n",
       "4   424    562   1167      27     697       1670      0.03"
      ]
     },
     "execution_count": 3,
     "metadata": {},
     "output_type": "execute_result"
    }
   ],
   "source": [
    "# import Finnish electricity distribution firms data\n",
    "url = 'https://raw.githubusercontent.com/ds2010/pyStoNED-Tutorials/master/Data/firms.csv'\n",
    "df = pd.read_csv(url, error_bad_lines=False)\n",
    "df.head(5)"
   ]
  },
  {
   "cell_type": "code",
   "execution_count": 4,
   "metadata": {},
   "outputs": [],
   "source": [
    "# output (total cost)\n",
    "y  = df['TOTEX']\n",
    "\n",
    "# inputs \n",
    "x1  = df['Energy']\n",
    "x1  = np.asmatrix(x1).T\n",
    "x2  = df['Length']\n",
    "x2  = np.asmatrix(x2).T\n",
    "x3  = df['Customers']\n",
    "x3  = np.asmatrix(x3).T\n",
    "x   = np.concatenate((x1, x2, x3), axis=1)"
   ]
  },
  {
   "cell_type": "markdown",
   "metadata": {},
   "source": [
    "### Stage 1: Convex Nonparametric Least Squares"
   ]
  },
  {
   "cell_type": "code",
   "execution_count": 5,
   "metadata": {},
   "outputs": [],
   "source": [
    "# define and solve the CNLS model\n",
    "\n",
    "cet = \"mult\"\n",
    "fun = \"cost\"\n",
    "rts = \"crs\"\n",
    "\n",
    "model = CNLS.cnls(y, x, cet, fun, rts)\n",
    "\n",
    "# using remote solver (NEOS)\n",
    "from pyomo.environ import SolverManagerFactory\n",
    "solver_manager = SolverManagerFactory('neos')\n",
    "results = solver_manager.solve(model, opt='knitro', tee=True)"
   ]
  },
  {
   "cell_type": "code",
   "execution_count": 6,
   "metadata": {},
   "outputs": [
    {
     "data": {
      "text/plain": [
       "array([ 0.03591705,  0.02603548,  0.20219662, -0.00451797,  0.17430052,\n",
       "       -0.11912249, -0.01130134,  0.1192172 ,  0.37369844, -0.04018423,\n",
       "        0.02303955, -0.07779539,  0.24790125,  0.25962007, -0.02513006,\n",
       "       -0.14458385,  0.19495398,  0.16927398, -0.01384278, -0.09871993,\n",
       "       -0.12696537, -0.26051316,  0.18701396, -0.09403671,  0.12152759,\n",
       "        0.06493156,  0.24369437, -0.19088083,  0.10527361,  0.0277184 ,\n",
       "       -0.00155868, -0.43113541, -0.0450978 ,  0.21595499, -0.00401978,\n",
       "        0.15996073, -0.21593312, -0.15266743, -0.115049  , -0.03704671,\n",
       "       -0.04825153,  0.04513426,  0.06501279, -0.06184066, -0.08923651,\n",
       "       -0.13083339,  0.02732435,  0.08403226, -0.13731314, -0.13258987,\n",
       "        0.19606224, -0.02272717,  0.20040745,  0.1998938 ,  0.04287153,\n",
       "       -0.21797092, -0.22973008, -0.08861547, -0.19033982,  0.02023355,\n",
       "       -0.21417276, -0.08037898, -0.03575945,  0.01552399,  0.36593916,\n",
       "       -0.10950723,  0.08123884, -0.04885468,  0.08217855, -0.23932799,\n",
       "       -0.04868088,  0.08118297, -0.19288294, -0.09633579, -0.08773303,\n",
       "       -0.04101211, -0.01218977,  0.1739861 , -0.01522224, -0.0602371 ,\n",
       "       -0.04519926, -0.09176905, -0.11527209,  0.03226918, -0.00061245,\n",
       "       -0.02051869,  0.09803787,  0.27427408,  0.07738479])"
      ]
     },
     "execution_count": 6,
     "metadata": {},
     "output_type": "execute_result"
    }
   ],
   "source": [
    "# retrive the residuals\n",
    "val = list(model.e[:].value)\n",
    "eps = np.asarray(val)\n",
    "\n",
    "eps"
   ]
  },
  {
   "cell_type": "markdown",
   "metadata": {},
   "source": [
    "### Stage 2: Residuals decomposition"
   ]
  },
  {
   "cell_type": "code",
   "execution_count": 7,
   "metadata": {},
   "outputs": [],
   "source": [
    "# decomposition by method od moment (MoM)\n",
    "method      = 'MoM'\n",
    "res         = StoNED.stoned(y, eps, fun, method, cet)"
   ]
  },
  {
   "cell_type": "code",
   "execution_count": 8,
   "metadata": {
    "scrolled": true
   },
   "outputs": [
    {
     "data": {
      "text/plain": [
       "array([0.89538104, 0.89828469, 0.83594277, 0.90676489, 0.8470783 ,\n",
       "       0.93218984, 0.90854604, 0.86787864, 0.76397426, 0.91572402,\n",
       "       0.89914948, 0.92411954, 0.81710042, 0.81218697, 0.91206415,\n",
       "       0.93661185, 0.83886568, 0.84904684, 0.90920393, 0.92834973,\n",
       "       0.93359455, 0.95237175, 0.84204541, 0.92742919, 0.86704358,\n",
       "       0.88640399, 0.81885786, 0.9436953 , 0.87284109, 0.89779573,\n",
       "       0.90597635, 0.9665862 , 0.91688081, 0.83033677, 0.90663263,\n",
       "       0.85265999, 0.94706703, 0.93793438, 0.93144484, 0.9149757 ,\n",
       "       0.91761361, 0.89260188, 0.88637793, 0.92068577, 0.9264701 ,\n",
       "       0.93427318, 0.89791042, 0.88013446, 0.93538945, 0.9345783 ,\n",
       "       0.83841977, 0.91146366, 0.83666673, 0.83687434, 0.89329044,\n",
       "       0.94732826, 0.94879926, 0.92634485, 0.9436191 , 0.89995288,\n",
       "       0.94683983, 0.92465838, 0.91466649, 0.90128702, 0.76723302,\n",
       "       0.9304141 , 0.88106876, 0.9177529 , 0.88075512, 0.94995516,\n",
       "       0.9177128 , 0.88108738, 0.94397599, 0.92788296, 0.92616643,\n",
       "       0.91592022, 0.9087766 , 0.8472018 , 0.90955888, 0.92033039,\n",
       "       0.91690451, 0.92697808, 0.93148592, 0.89646211, 0.90572273,\n",
       "       0.91090774, 0.87536246, 0.80601297, 0.8823481 ])"
      ]
     },
     "execution_count": 8,
     "metadata": {},
     "output_type": "execute_result"
    }
   ],
   "source": [
    "# display technical inefficiency\n",
    "TE = res[1]\n",
    "TE"
   ]
  }
 ],
 "metadata": {
  "kernelspec": {
   "display_name": "Python 3",
   "language": "python",
   "name": "python3"
  },
  "language_info": {
   "codemirror_mode": {
    "name": "ipython",
    "version": 3
   },
   "file_extension": ".py",
   "mimetype": "text/x-python",
   "name": "python",
   "nbconvert_exporter": "python",
   "pygments_lexer": "ipython3",
   "version": "3.7.7"
  }
 },
 "nbformat": 4,
 "nbformat_minor": 4
}
