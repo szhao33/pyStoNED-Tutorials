{
 "cells": [
  {
   "cell_type": "markdown",
   "metadata": {},
   "source": [
    "# Stochastic Nonparametric Envelopment of Data (StoNED)"
   ]
  },
  {
   "cell_type": "markdown",
   "metadata": {},
   "source": [
    "   + Author : Sheng Dai (sheng.dai@aalto.fi)\n",
    "   + Date : June 13, 2020\n",
    "\n",
    "References:\n",
    "\n",
    "[1] Kuosmanen, T., Johnson, A. and Saastamoinen, A. (2015). Stochastic Nonparametric Approach to Efficiency Analysis: A unified Framework, in Zhu, J. (ed.) Data Envelopment Analysis. Springer, pp. 191–244.\n",
    "\n",
    "[2] Johnson, A. L. and Kuosmanen, T. (2015). An Introduction to CNLS and StoNED Methods for Efficiency Analysis: Economic Insights and Computational Aspects, in Ray, S. C., Kumbhakar, S. C., and Dua, P. (eds) Benchmarking for Performance Evaluation: A Production Frontier Approach. Springer, pp. 117–186."
   ]
  },
  {
   "cell_type": "markdown",
   "metadata": {},
   "source": [
    "### Objective: Estimating technicial inefficiency with Quasi-likelihood Estimation (QLE)"
   ]
  },
  {
   "cell_type": "code",
   "execution_count": 1,
   "metadata": {},
   "outputs": [],
   "source": [
    "# import package pystoned\n",
    "from pystoned import *"
   ]
  },
  {
   "cell_type": "code",
   "execution_count": 2,
   "metadata": {},
   "outputs": [],
   "source": [
    "import pandas as pd\n",
    "import numpy as np"
   ]
  },
  {
   "cell_type": "code",
   "execution_count": 3,
   "metadata": {},
   "outputs": [
    {
     "data": {
      "text/html": [
       "<div>\n",
       "<style scoped>\n",
       "    .dataframe tbody tr th:only-of-type {\n",
       "        vertical-align: middle;\n",
       "    }\n",
       "\n",
       "    .dataframe tbody tr th {\n",
       "        vertical-align: top;\n",
       "    }\n",
       "\n",
       "    .dataframe thead th {\n",
       "        text-align: right;\n",
       "    }\n",
       "</style>\n",
       "<table border=\"1\" class=\"dataframe\">\n",
       "  <thead>\n",
       "    <tr style=\"text-align: right;\">\n",
       "      <th></th>\n",
       "      <th>OPEX</th>\n",
       "      <th>CAPEX</th>\n",
       "      <th>TOTEX</th>\n",
       "      <th>Energy</th>\n",
       "      <th>Length</th>\n",
       "      <th>Customers</th>\n",
       "      <th>PerUndGr</th>\n",
       "    </tr>\n",
       "  </thead>\n",
       "  <tbody>\n",
       "    <tr>\n",
       "      <th>0</th>\n",
       "      <td>681</td>\n",
       "      <td>729</td>\n",
       "      <td>1612</td>\n",
       "      <td>75</td>\n",
       "      <td>878</td>\n",
       "      <td>4933</td>\n",
       "      <td>0.11</td>\n",
       "    </tr>\n",
       "    <tr>\n",
       "      <th>1</th>\n",
       "      <td>559</td>\n",
       "      <td>673</td>\n",
       "      <td>1659</td>\n",
       "      <td>62</td>\n",
       "      <td>964</td>\n",
       "      <td>6149</td>\n",
       "      <td>0.21</td>\n",
       "    </tr>\n",
       "    <tr>\n",
       "      <th>2</th>\n",
       "      <td>836</td>\n",
       "      <td>851</td>\n",
       "      <td>1708</td>\n",
       "      <td>78</td>\n",
       "      <td>676</td>\n",
       "      <td>6098</td>\n",
       "      <td>0.75</td>\n",
       "    </tr>\n",
       "    <tr>\n",
       "      <th>3</th>\n",
       "      <td>7559</td>\n",
       "      <td>8384</td>\n",
       "      <td>18918</td>\n",
       "      <td>683</td>\n",
       "      <td>12522</td>\n",
       "      <td>55226</td>\n",
       "      <td>0.13</td>\n",
       "    </tr>\n",
       "    <tr>\n",
       "      <th>4</th>\n",
       "      <td>424</td>\n",
       "      <td>562</td>\n",
       "      <td>1167</td>\n",
       "      <td>27</td>\n",
       "      <td>697</td>\n",
       "      <td>1670</td>\n",
       "      <td>0.03</td>\n",
       "    </tr>\n",
       "  </tbody>\n",
       "</table>\n",
       "</div>"
      ],
      "text/plain": [
       "   OPEX  CAPEX  TOTEX  Energy  Length  Customers  PerUndGr\n",
       "0   681    729   1612      75     878       4933      0.11\n",
       "1   559    673   1659      62     964       6149      0.21\n",
       "2   836    851   1708      78     676       6098      0.75\n",
       "3  7559   8384  18918     683   12522      55226      0.13\n",
       "4   424    562   1167      27     697       1670      0.03"
      ]
     },
     "execution_count": 3,
     "metadata": {},
     "output_type": "execute_result"
    }
   ],
   "source": [
    "# import Finnish electricity distribution firms data\n",
    "url = 'https://raw.githubusercontent.com/ds2010/pyStoNED-Tutorials/master/Data/firms.csv'\n",
    "df = pd.read_csv(url, error_bad_lines=False)\n",
    "df.head(5)"
   ]
  },
  {
   "cell_type": "code",
   "execution_count": 4,
   "metadata": {},
   "outputs": [],
   "source": [
    "# output (total cost)\n",
    "y  = df['TOTEX']\n",
    "\n",
    "# inputs \n",
    "x1  = df['Energy']\n",
    "x1  = np.asmatrix(x1).T\n",
    "x2  = df['Length']\n",
    "x2  = np.asmatrix(x2).T\n",
    "x3  = df['Customers']\n",
    "x3  = np.asmatrix(x3).T\n",
    "x   = np.concatenate((x1, x2, x3), axis=1)"
   ]
  },
  {
   "cell_type": "markdown",
   "metadata": {},
   "source": [
    "### Stage 1: Convex Nonparametric Least Squares"
   ]
  },
  {
   "cell_type": "code",
   "execution_count": 5,
   "metadata": {},
   "outputs": [],
   "source": [
    "# define and solve the CNLS model\n",
    "\n",
    "cet = \"mult\"\n",
    "fun = \"cost\"\n",
    "rts = \"crs\"\n",
    "\n",
    "model = CNLS.cnls(y, x, cet, fun, rts)\n",
    "\n",
    "# using remote solver (NEOS)\n",
    "from pyomo.environ import SolverManagerFactory\n",
    "solver_manager = SolverManagerFactory('neos')\n",
    "results = solver_manager.solve(model, opt='knitro', tee=True)"
   ]
  },
  {
   "cell_type": "code",
   "execution_count": 6,
   "metadata": {},
   "outputs": [
    {
     "data": {
      "text/plain": [
       "array([ 0.03591705,  0.02603548,  0.20219662, -0.00451797,  0.17430052,\n",
       "       -0.11912249, -0.01130134,  0.1192172 ,  0.37369844, -0.04018423,\n",
       "        0.02303955, -0.07779539,  0.24790125,  0.25962007, -0.02513006,\n",
       "       -0.14458385,  0.19495398,  0.16927398, -0.01384278, -0.09871993,\n",
       "       -0.12696537, -0.26051316,  0.18701396, -0.09403671,  0.12152759,\n",
       "        0.06493156,  0.24369437, -0.19088083,  0.10527361,  0.0277184 ,\n",
       "       -0.00155868, -0.43113541, -0.0450978 ,  0.21595499, -0.00401978,\n",
       "        0.15996073, -0.21593312, -0.15266743, -0.115049  , -0.03704671,\n",
       "       -0.04825153,  0.04513426,  0.06501279, -0.06184066, -0.08923651,\n",
       "       -0.13083339,  0.02732435,  0.08403226, -0.13731314, -0.13258987,\n",
       "        0.19606224, -0.02272717,  0.20040745,  0.1998938 ,  0.04287153,\n",
       "       -0.21797092, -0.22973008, -0.08861547, -0.19033982,  0.02023355,\n",
       "       -0.21417276, -0.08037898, -0.03575945,  0.01552399,  0.36593916,\n",
       "       -0.10950723,  0.08123884, -0.04885468,  0.08217855, -0.23932799,\n",
       "       -0.04868088,  0.08118297, -0.19288294, -0.09633579, -0.08773303,\n",
       "       -0.04101211, -0.01218977,  0.1739861 , -0.01522224, -0.0602371 ,\n",
       "       -0.04519926, -0.09176905, -0.11527209,  0.03226918, -0.00061245,\n",
       "       -0.02051869,  0.09803787,  0.27427408,  0.07738479])"
      ]
     },
     "execution_count": 6,
     "metadata": {},
     "output_type": "execute_result"
    }
   ],
   "source": [
    "# retrive the residuals\n",
    "val = list(model.e[:].value)\n",
    "eps = np.asarray(val)\n",
    "\n",
    "eps"
   ]
  },
  {
   "cell_type": "markdown",
   "metadata": {},
   "source": [
    "### Stage 2: Residuals decomposition"
   ]
  },
  {
   "cell_type": "code",
   "execution_count": 7,
   "metadata": {},
   "outputs": [],
   "source": [
    "# decomposition by method od moment (MoM)\n",
    "method      = 'QLE'\n",
    "res         = StoNED.stoned(y, eps, fun, method, cet)"
   ]
  },
  {
   "cell_type": "code",
   "execution_count": 8,
   "metadata": {},
   "outputs": [
    {
     "data": {
      "text/plain": [
       "array([0.97774567, 0.98381847, 0.88100076, 1.00283498, 0.89653581,\n",
       "       1.07749875, 1.00710657, 0.92802025, 0.79123508, 1.02549919,\n",
       "       0.98566708, 1.04995441, 0.85612798, 0.84986443, 1.01587117,\n",
       "       1.09482718, 0.88500805, 0.89936403, 1.00871164, 1.06381138,\n",
       "       1.082807  , 1.17731692, 0.88942214, 1.06069418, 0.92667773,\n",
       "       0.96013033, 0.85838775, 1.12705304, 0.93616396, 0.98278156,\n",
       "       1.00097715, 1.31016132, 1.02866142, 0.87343828, 1.00252197,\n",
       "       0.90462779, 1.1448849 , 1.10038675, 1.07475198, 1.02348507,\n",
       "       1.03069621, 0.97211495, 0.96008147, 1.03951003, 1.05750861,\n",
       "       1.08543459, 0.98302425, 0.94870747, 1.08985066, 1.0866299 ,\n",
       "       0.88439368, 1.01434277, 0.881989  , 0.88227292, 0.97349423,\n",
       "       1.14634773, 1.15482557, 1.05709716, 1.12667104, 0.98740165,\n",
       "       1.14362274, 1.05165554, 1.02265986, 0.99031979, 0.79509141,\n",
       "       1.0710264 , 0.95036951, 1.03108582, 0.94981007, 1.1617917 ,\n",
       "       1.03097354, 0.95040278, 1.12846785, 1.06222333, 1.05651281,\n",
       "       1.02603132, 1.00766738, 0.89671246, 1.00958392, 1.03846606,\n",
       "       1.02872682, 1.05918809, 1.07490224, 0.97998312, 1.00038384,\n",
       "       1.01294006, 0.9404181 , 0.8420965 , 0.95266738])"
      ]
     },
     "execution_count": 8,
     "metadata": {},
     "output_type": "execute_result"
    }
   ],
   "source": [
    "# display technical inefficiency\n",
    "TE = res[1]\n",
    "TE"
   ]
  }
 ],
 "metadata": {
  "kernelspec": {
   "display_name": "Python 3",
   "language": "python",
   "name": "python3"
  },
  "language_info": {
   "codemirror_mode": {
    "name": "ipython",
    "version": 3
   },
   "file_extension": ".py",
   "mimetype": "text/x-python",
   "name": "python",
   "nbconvert_exporter": "python",
   "pygments_lexer": "ipython3",
   "version": "3.7.6"
  }
 },
 "nbformat": 4,
 "nbformat_minor": 4
}
