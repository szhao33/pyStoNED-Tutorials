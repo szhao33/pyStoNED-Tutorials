{
 "cells": [
  {
   "cell_type": "markdown",
   "metadata": {},
   "source": [
    "# DEA: Chnage reference set\n",
    "\n",
    "  - Author: Sheng Dai (sheng.dai@aalto.fi)\n",
    "  - Date  : June 12, 2020"
   ]
  },
  {
   "cell_type": "markdown",
   "metadata": {},
   "source": [
    "Sometimes we need to draw a distinction between the set of **reference** DMUs that characterize the frontier and the set of **evaluated** DMUs used as in the DEA problem. However, by default, all DMUs serve both as benchmarks and evaluated units."
   ]
  },
  {
   "cell_type": "markdown",
   "metadata": {},
   "source": [
    "## Example"
   ]
  },
  {
   "cell_type": "code",
   "execution_count": 33,
   "metadata": {},
   "outputs": [],
   "source": [
    "import numpy as np\n",
    "\n",
    "# import the package pystoned\n",
    "from pystoned import DEA"
   ]
  },
  {
   "cell_type": "markdown",
   "metadata": {},
   "source": [
    "### Evaluated DMUs"
   ]
  },
  {
   "cell_type": "code",
   "execution_count": 34,
   "metadata": {},
   "outputs": [],
   "source": [
    "x = np.array([100,200,300,500,100,200,600,400,550,600])\n",
    "y = np.array([75,100,300,400,25,50,400, 260, 180, 240])"
   ]
  },
  {
   "cell_type": "markdown",
   "metadata": {},
   "source": [
    "### Reference DMUs "
   ]
  },
  {
   "cell_type": "code",
   "execution_count": 35,
   "metadata": {},
   "outputs": [],
   "source": [
    "xref = np.array([100,300,500,100,600])\n",
    "yref = np.array([75,300,400,25,400,])"
   ]
  },
  {
   "cell_type": "code",
   "execution_count": 36,
   "metadata": {},
   "outputs": [
    {
     "name": "stdout",
     "output_type": "stream",
     "text": [
      "Problem\n",
      "  Name                   :                 \n",
      "  Objective sense        : max             \n",
      "  Type                   : LO (linear optimization problem)\n",
      "  Constraints            : 30              \n",
      "  Cones                  : 0               \n",
      "  Scalar variables       : 60              \n",
      "  Matrix variables       : 0               \n",
      "  Integer variables      : 0               \n",
      "\n",
      "Optimizer started.\n",
      "Presolve started.\n",
      "Linear dependency checker started.\n",
      "Linear dependency checker terminated.\n",
      "Eliminator started.\n",
      "Freed constraints in eliminator : 0\n",
      "Eliminator terminated.\n",
      "Eliminator - tries                  : 1                 time                   : 0.00            \n",
      "Lin. dep.  - tries                  : 1                 time                   : 0.00            \n",
      "Lin. dep.  - number                 : 0               \n",
      "Presolve terminated. Time: 0.00    \n",
      "Problem\n",
      "  Name                   :                 \n",
      "  Objective sense        : max             \n",
      "  Type                   : LO (linear optimization problem)\n",
      "  Constraints            : 30              \n",
      "  Cones                  : 0               \n",
      "  Scalar variables       : 60              \n",
      "  Matrix variables       : 0               \n",
      "  Integer variables      : 0               \n",
      "\n",
      "Optimizer  - threads                : 4               \n",
      "Optimizer  - solved problem         : the primal      \n",
      "Optimizer  - Constraints            : 20\n",
      "Optimizer  - Cones                  : 0\n",
      "Optimizer  - Scalar variables       : 50                conic                  : 0               \n",
      "Optimizer  - Semi-definite variables: 0                 scalarized             : 0               \n",
      "Factor     - setup time             : 0.00              dense det. time        : 0.00            \n",
      "Factor     - ML order time          : 0.00              GP order time          : 0.00            \n",
      "Factor     - nonzeros before factor : 30                after factor           : 30              \n",
      "Factor     - dense dim.             : 0                 flops                  : 3.10e+02        \n",
      "ITE PFEAS    DFEAS    GFEAS    PRSTATUS   POBJ              DOBJ              MU       TIME  \n",
      "0   1.9e+01  9.9e+01  7.2e+02  0.00e+00   1.236511752e+02   0.000000000e+00   3.4e+01  0.02  \n",
      "1   5.2e+00  2.7e+01  1.9e+02  -6.41e-01  9.422917489e+01   2.550813189e+01   9.1e+00  0.03  \n",
      "2   3.0e+00  1.5e+01  1.1e+02  9.09e-01   6.428515149e+01   2.317130955e+01   5.2e+00  0.03  \n",
      "3   1.0e+00  5.2e+00  3.7e+01  7.49e-01   3.955327482e+01   2.135225384e+01   1.8e+00  0.03  \n",
      "4   2.0e-01  1.0e+00  7.3e+00  1.36e+00   2.070034516e+01   1.776104672e+01   3.5e-01  0.03  \n",
      "5   3.4e-02  1.7e-01  1.2e+00  1.00e+00   1.840874856e+01   1.790509960e+01   5.9e-02  0.03  \n",
      "6   2.2e-04  1.1e-03  8.1e-03  1.00e+00   1.786373155e+01   1.786049437e+01   3.8e-04  0.03  \n",
      "7   2.2e-08  1.1e-07  8.1e-07  1.00e+00   1.786004311e+01   1.786004278e+01   3.9e-08  0.03  \n",
      "8   2.2e-12  1.1e-11  8.1e-11  1.00e+00   1.786004274e+01   1.786004274e+01   3.9e-12  0.05  \n",
      "Basis identification started.\n",
      "Primal basis identification phase started.\n",
      "Primal basis identification phase terminated. Time: 0.00\n",
      "Dual basis identification phase started.\n",
      "Dual basis identification phase terminated. Time: 0.00\n",
      "Basis identification terminated. Time: 0.00\n",
      "Optimizer terminated. Time: 0.06    \n",
      "\n",
      "\n",
      "Interior-point solution summary\n",
      "  Problem status  : PRIMAL_AND_DUAL_FEASIBLE\n",
      "  Solution status : OPTIMAL\n",
      "  Primal.  obj: 1.7860042735e+01    nrm: 5e+02    Viol.  con: 5e-10    var: 0e+00  \n",
      "  Dual.    obj: 1.7860042735e+01    nrm: 1e+01    Viol.  con: 0e+00    var: 4e-12  \n",
      "\n",
      "Basic solution summary\n",
      "  Problem status  : PRIMAL_AND_DUAL_FEASIBLE\n",
      "  Solution status : OPTIMAL\n",
      "  Primal.  obj: 1.7860042735e+01    nrm: 6e+02    Viol.  con: 0e+00    var: 0e+00  \n",
      "  Dual.    obj: 1.7860042735e+01    nrm: 9e+00    Viol.  con: 0e+00    var: 3e-12  \n"
     ]
    }
   ],
   "source": [
    "# define and solve the DEA model\n",
    "\n",
    "rts = \"vrs\"\n",
    "orient = \"oo\"\n",
    "model = DEA.deaproj(y, x, yref, xref, orient, rts)\n",
    "\n",
    "# using local solver (MOSEK API)\n",
    "from pyomo.opt import SolverFactory\n",
    "opt = SolverFactory(\"mosek\")\n",
    "results = opt.solve(model, tee=True)"
   ]
  },
  {
   "cell_type": "code",
   "execution_count": 37,
   "metadata": {},
   "outputs": [
    {
     "name": "stdout",
     "output_type": "stream",
     "text": [
      "theta : efficiency\n",
      "    Size=10, Index=io\n",
      "    Key : Lower : Value              : Upper : Fixed : Stale : Domain\n",
      "      0 :  None :                1.0 :  None : False : False :  Reals\n",
      "      1 :  None :              1.875 :  None : False : False :  Reals\n",
      "      2 :  None :                1.0 :  None : False : False :  Reals\n",
      "      3 :  None :                1.0 :  None : False : False :  Reals\n",
      "      4 :  None :                3.0 :  None : False : False :  Reals\n",
      "      5 :  None :               3.75 :  None : False : False :  Reals\n",
      "      6 :  None :                1.0 :  None : False : False :  Reals\n",
      "      7 :  None : 1.3461538461538463 :  None : False : False :  Reals\n",
      "      8 :  None : 2.2222222222222223 :  None : False : False :  Reals\n",
      "      9 :  None : 1.6666666666666667 :  None : False : False :  Reals\n"
     ]
    }
   ],
   "source": [
    "# display the technical efficiency\n",
    "model.theta.display()"
   ]
  },
  {
   "cell_type": "code",
   "execution_count": 38,
   "metadata": {},
   "outputs": [
    {
     "name": "stdout",
     "output_type": "stream",
     "text": [
      "lamda : intensity variables\n",
      "    Size=50, Index=lamda_index\n",
      "    Key    : Lower : Value                  : Upper : Fixed : Stale : Domain\n",
      "    (0, 0) :   0.0 :                    1.0 :  None : False : False :  Reals\n",
      "    (0, 1) :   0.0 :                    0.0 :  None : False : False :  Reals\n",
      "    (0, 2) :   0.0 :                    0.0 :  None : False : False :  Reals\n",
      "    (0, 3) :   0.0 :                    0.0 :  None : False : False :  Reals\n",
      "    (0, 4) :   0.0 :                    0.0 :  None : False : False :  Reals\n",
      "    (1, 0) :   0.0 :                    0.5 :  None : False : False :  Reals\n",
      "    (1, 1) :   0.0 :                    0.5 :  None : False : False :  Reals\n",
      "    (1, 2) :   0.0 :                    0.0 :  None : False : False :  Reals\n",
      "    (1, 3) :   0.0 :                    0.0 :  None : False : False :  Reals\n",
      "    (1, 4) :   0.0 :                    0.0 :  None : False : False :  Reals\n",
      "    (2, 0) :   0.0 :                    0.0 :  None : False : False :  Reals\n",
      "    (2, 1) :   0.0 :                    1.0 :  None : False : False :  Reals\n",
      "    (2, 2) :   0.0 :                    0.0 :  None : False : False :  Reals\n",
      "    (2, 3) :   0.0 :                    0.0 :  None : False : False :  Reals\n",
      "    (2, 4) :   0.0 :                    0.0 :  None : False : False :  Reals\n",
      "    (3, 0) :   0.0 :                    0.0 :  None : False : False :  Reals\n",
      "    (3, 1) :   0.0 :                    0.0 :  None : False : False :  Reals\n",
      "    (3, 2) :   0.0 :                    1.0 :  None : False : False :  Reals\n",
      "    (3, 3) :   0.0 :                    0.0 :  None : False : False :  Reals\n",
      "    (3, 4) :   0.0 :                    0.0 :  None : False : False :  Reals\n",
      "    (4, 0) :   0.0 :                    1.0 :  None : False : False :  Reals\n",
      "    (4, 1) :   0.0 :                    0.0 :  None : False : False :  Reals\n",
      "    (4, 2) :   0.0 :                    0.0 :  None : False : False :  Reals\n",
      "    (4, 3) :   0.0 :                    0.0 :  None : False : False :  Reals\n",
      "    (4, 4) :   0.0 :                    0.0 :  None : False : False :  Reals\n",
      "    (5, 0) :   0.0 :                    0.5 :  None : False : False :  Reals\n",
      "    (5, 1) :   0.0 :                    0.5 :  None : False : False :  Reals\n",
      "    (5, 2) :   0.0 :                    0.0 :  None : False : False :  Reals\n",
      "    (5, 3) :   0.0 :                    0.0 :  None : False : False :  Reals\n",
      "    (5, 4) :   0.0 :                    0.0 :  None : False : False :  Reals\n",
      "    (6, 0) :   0.0 :                    0.0 :  None : False : False :  Reals\n",
      "    (6, 1) :   0.0 :                    0.0 :  None : False : False :  Reals\n",
      "    (6, 2) :   0.0 : 1.0888356882787776e-11 :  None : False : False :  Reals\n",
      "    (6, 3) :   0.0 :                    0.0 :  None : False : False :  Reals\n",
      "    (6, 4) :   0.0 :     0.9999999999891117 :  None : False : False :  Reals\n",
      "    (7, 0) :   0.0 :                    0.0 :  None : False : False :  Reals\n",
      "    (7, 1) :   0.0 :    0.49999999999999994 :  None : False : False :  Reals\n",
      "    (7, 2) :   0.0 :     0.5000000000000001 :  None : False : False :  Reals\n",
      "    (7, 3) :   0.0 :                    0.0 :  None : False : False :  Reals\n",
      "    (7, 4) :   0.0 :                    0.0 :  None : False : False :  Reals\n",
      "    (8, 0) :   0.0 :                    0.0 :  None : False : False :  Reals\n",
      "    (8, 1) :   0.0 :                    0.0 :  None : False : False :  Reals\n",
      "    (8, 2) :   0.0 :    0.49999999999999983 :  None : False : False :  Reals\n",
      "    (8, 3) :   0.0 :                    0.0 :  None : False : False :  Reals\n",
      "    (8, 4) :   0.0 :     0.5000000000000001 :  None : False : False :  Reals\n",
      "    (9, 0) :   0.0 :                    0.0 :  None : False : False :  Reals\n",
      "    (9, 1) :   0.0 :                    0.0 :  None : False : False :  Reals\n",
      "    (9, 2) :   0.0 :  5.127400726223641e-12 :  None : False : False :  Reals\n",
      "    (9, 3) :   0.0 :                    0.0 :  None : False : False :  Reals\n",
      "    (9, 4) :   0.0 :     0.9999999999948725 :  None : False : False :  Reals\n"
     ]
    }
   ],
   "source": [
    "# display the intensity variables\n",
    "model.lamda.display()"
   ]
  }
 ],
 "metadata": {
  "kernelspec": {
   "display_name": "Python 3",
   "language": "python",
   "name": "python3"
  },
  "language_info": {
   "codemirror_mode": {
    "name": "ipython",
    "version": 3
   },
   "file_extension": ".py",
   "mimetype": "text/x-python",
   "name": "python",
   "nbconvert_exporter": "python",
   "pygments_lexer": "ipython3",
   "version": "3.7.6"
  }
 },
 "nbformat": 4,
 "nbformat_minor": 4
}
