{
 "cells": [
  {
   "cell_type": "markdown",
   "metadata": {},
   "source": [
    "# Data Envelopment Analysis (DEA)\n",
    "\n",
    "- Author: Sheng Dai (sheng.dai@aalto.fi)\n",
    "- Date  : June 5, 2020"
   ]
  },
  {
   "cell_type": "markdown",
   "metadata": {},
   "source": [
    "## Basic DEA models (Radial model)\n",
    "\n",
    "A set of $j= 1,2,\\cdots,n$ observed `DMUs` transform a vector of $i = 1, 2,\\cdots,m$ inputs $x \\in R^m_{++}$ into a vector of $i = 1, 2, \\cdots, s$ outputs $y \\in R^s_{++}$ using the technology represented by the following CRS production possibility set: $P_{crs} = \\{(x, y) |x \\ge X\\lambda, y \\le Y\\lambda, \\lambda \\ge 0\\}$, where $X = (x)_j \\in R^{s \\times n}$, $Y =(y)_j \\in R^{m \\times n}$ and $\\lambda = (\\lambda_1, . . . , \\lambda_n)^T$ is a intensity vector."
   ]
  },
  {
   "cell_type": "markdown",
   "metadata": {},
   "source": [
    "Based on the data matrix `(X, Y)`, we measure the input oriented efficiency of `each observation o` by solving `n` times the following linear programming problems: "
   ]
  },
  {
   "cell_type": "markdown",
   "metadata": {},
   "source": [
    "### Constant returns to scale: CRS"
   ]
  },
  {
   "cell_type": "markdown",
   "metadata": {},
   "source": [
    "- Input orientation\n",
    "\n",
    "\\begin{equation}\n",
    "\\underset{\\mathbf{\\phi},\\mathbf{\\lambda }}min \\quad \\phi \\\\ \n",
    "\\mbox{s.t.} \\quad \n",
    "\\phi x_o \\ge X\\lambda  \\\\\n",
    "Y\\lambda \\ge y_o \\\\\n",
    "\\lambda \\ge 0\n",
    "\\end{equation}\n",
    "\n",
    "- Output orientation\n",
    "\n",
    "\\begin{equation}\n",
    "\\underset{\\mathbf{\\theta},\\mathbf{\\lambda }}max \\quad \\theta \\\\ \n",
    "\\mbox{s.t.} \\quad \n",
    "X\\lambda  \\le x_o \\\\\n",
    "\\theta y_o  \\le Y\\lambda\\\\\n",
    "\\lambda \\ge 0\n",
    "\\end{equation}"
   ]
  },
  {
   "cell_type": "markdown",
   "metadata": {},
   "source": [
    "### Variables returns to scale: VRS\n",
    "\n",
    "The measurement of technical efficiency assuming VRS considers the following production possibility set $P_{vrs} = \\{ (x, y) |x \\ge X\\lambda, y \\le Y\\lambda, e\\lambda = 1, \\lambda \\ge 0. \\}$\n",
    "\n",
    "Thus, the only difference with the CRS model is the adjunction of the condition $\\sum_{j=1}^{n}\\lambda_j = 1$. "
   ]
  },
  {
   "cell_type": "markdown",
   "metadata": {},
   "source": [
    "- Input orientation\n",
    "\n",
    "\\begin{equation}\n",
    "\\underset{\\mathbf{\\phi},\\mathbf{\\lambda }}min \\quad \\phi \\\\ \n",
    "\\mbox{s.t.} \\quad \n",
    "\\phi x_o \\ge X\\lambda  \\\\\n",
    "Y\\lambda \\ge y_o \\\\\n",
    "\\sum_{j=1}^{n}\\lambda_j = 1 \\\\\n",
    "\\lambda \\ge 0\n",
    "\\end{equation}\n",
    "\n",
    "- Output orientation\n",
    "\n",
    "\\begin{equation}\n",
    "\\underset{\\mathbf{\\theta},\\mathbf{\\lambda }}max \\quad \\theta \\\\ \n",
    "\\mbox{s.t.} \\quad \n",
    "X\\lambda  \\le x_o \\\\\n",
    "\\theta y_o  \\le Y\\lambda\\\\\n",
    "\\sum_{j=1}^{n}\\lambda_j = 1 \\\\\n",
    "\\lambda \\ge 0\n",
    "\\end{equation}  "
   ]
  },
  {
   "cell_type": "markdown",
   "metadata": {},
   "source": [
    "## Estimating a input oriented VRS model"
   ]
  },
  {
   "cell_type": "code",
   "execution_count": null,
   "metadata": {},
   "outputs": [],
   "source": [
    "import pandas as pd\n",
    "import numpy as np"
   ]
  },
  {
   "cell_type": "code",
   "execution_count": null,
   "metadata": {},
   "outputs": [],
   "source": [
    "# import the package pystoned\n",
    "from pystoned import DEA"
   ]
  },
  {
   "cell_type": "code",
   "execution_count": null,
   "metadata": {},
   "outputs": [],
   "source": [
    "# import data\n",
    "url = 'https://raw.githubusercontent.com/ds2010/pyStoNED-Tutorials/master/Data/firms.csv'\n",
    "df = pd.read_csv(url, error_bad_lines=False)\n",
    "\n",
    "# output\n",
    "y = df['Energy']\n",
    "\n",
    "# inputs\n",
    "x1 = df['OPEX']\n",
    "x1 = np.asmatrix(x1).T\n",
    "x2 = df['CAPEX']\n",
    "x2 = np.asmatrix(x2).T\n",
    "x = np.concatenate((x1, x2), axis=1)"
   ]
  },
  {
   "cell_type": "code",
   "execution_count": null,
   "metadata": {},
   "outputs": [],
   "source": [
    "# define and solve the DEA radial model\n",
    "\n",
    "orient = \"io\"\n",
    "rts = \"vrs\"\n",
    "\n",
    "model = DEA.dea(y, x, orient, rts)\n",
    "\n",
    "# using local solver (MOSEK API)\n",
    "from pyomo.opt import SolverFactory\n",
    "opt = SolverFactory(\"mosek\")\n",
    "results = opt.solve(model, tee=True)"
   ]
  },
  {
   "cell_type": "code",
   "execution_count": null,
   "metadata": {
    "scrolled": true
   },
   "outputs": [],
   "source": [
    "# display the technical efficiency\n",
    "model.theta.display()"
   ]
  },
  {
   "cell_type": "code",
   "execution_count": null,
   "metadata": {},
   "outputs": [],
   "source": [
    "# display the intensity variables\n",
    "model.lamda.display()"
   ]
  }
 ],
 "metadata": {
  "kernelspec": {
   "display_name": "Python 3",
   "language": "python",
   "name": "python3"
  },
  "language_info": {
   "codemirror_mode": {
    "name": "ipython",
    "version": 3
   },
   "file_extension": ".py",
   "mimetype": "text/x-python",
   "name": "python",
   "nbconvert_exporter": "python",
   "pygments_lexer": "ipython3",
   "version": "3.7.6"
  }
 },
 "nbformat": 4,
 "nbformat_minor": 4
}
