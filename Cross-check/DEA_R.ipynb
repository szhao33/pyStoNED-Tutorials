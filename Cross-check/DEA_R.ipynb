{
 "cells": [
  {
   "cell_type": "code",
   "execution_count": 1,
   "metadata": {},
   "outputs": [
    {
     "name": "stderr",
     "output_type": "stream",
     "text": [
      "Loading required package: Benchmarking\n",
      "\n",
      "Loading required package: lpSolveAPI\n",
      "\n",
      "Loading required package: ucminf\n",
      "\n"
     ]
    }
   ],
   "source": [
    "require(Benchmarking)\n",
    "\n",
    "# input-output data\n",
    "x <- matrix(c(100,200,300,500,100,200,600,400,550,600),ncol=1)\n",
    "y <- matrix(c(75,100,300,400,25,50,400, 260, 180, 240),ncol=1)"
   ]
  },
  {
   "cell_type": "code",
   "execution_count": 2,
   "metadata": {},
   "outputs": [
    {
     "data": {
      "text/html": [
       "<style>\n",
       ".list-inline {list-style: none; margin:0; padding: 0}\n",
       ".list-inline>li {display: inline-block}\n",
       ".list-inline>li:not(:last-child)::after {content: \"\\00b7\"; padding: 0 .5ex}\n",
       "</style>\n",
       "<ol class=list-inline><li>1</li><li>0.611111111111111</li><li>1</li><li>1</li><li>1</li><li>0.5</li><li>0.833333333333333</li><li>0.661111111111111</li><li>0.351515151515152</li><li>0.411111111111111</li></ol>\n"
      ],
      "text/latex": [
       "\\begin{enumerate*}\n",
       "\\item 1\n",
       "\\item 0.611111111111111\n",
       "\\item 1\n",
       "\\item 1\n",
       "\\item 1\n",
       "\\item 0.5\n",
       "\\item 0.833333333333333\n",
       "\\item 0.661111111111111\n",
       "\\item 0.351515151515152\n",
       "\\item 0.411111111111111\n",
       "\\end{enumerate*}\n"
      ],
      "text/markdown": [
       "1. 1\n",
       "2. 0.611111111111111\n",
       "3. 1\n",
       "4. 1\n",
       "5. 1\n",
       "6. 0.5\n",
       "7. 0.833333333333333\n",
       "8. 0.661111111111111\n",
       "9. 0.351515151515152\n",
       "10. 0.411111111111111\n",
       "\n",
       "\n"
      ],
      "text/plain": [
       " [1] 1.0000000 0.6111111 1.0000000 1.0000000 1.0000000 0.5000000 0.8333333\n",
       " [8] 0.6611111 0.3515152 0.4111111"
      ]
     },
     "metadata": {},
     "output_type": "display_data"
    }
   ],
   "source": [
    "# input-oriented VRS model\n",
    "e <- dea(x, y, RTS = 'vrs', ORIENTATION = 'in')\n",
    "eff(e)"
   ]
  },
  {
   "cell_type": "code",
   "execution_count": 3,
   "metadata": {},
   "outputs": [
    {
     "data": {
      "text/html": [
       "<style>\n",
       ".list-inline {list-style: none; margin:0; padding: 0}\n",
       ".list-inline>li {display: inline-block}\n",
       ".list-inline>li:not(:last-child)::after {content: \"\\00b7\"; padding: 0 .5ex}\n",
       "</style>\n",
       "<ol class=list-inline><li>0.75</li><li>0.5</li><li>1</li><li>0.8</li><li>0.25</li><li>0.25</li><li>0.666666666666667</li><li>0.65</li><li>0.327272727272727</li><li>0.4</li></ol>\n"
      ],
      "text/latex": [
       "\\begin{enumerate*}\n",
       "\\item 0.75\n",
       "\\item 0.5\n",
       "\\item 1\n",
       "\\item 0.8\n",
       "\\item 0.25\n",
       "\\item 0.25\n",
       "\\item 0.666666666666667\n",
       "\\item 0.65\n",
       "\\item 0.327272727272727\n",
       "\\item 0.4\n",
       "\\end{enumerate*}\n"
      ],
      "text/markdown": [
       "1. 0.75\n",
       "2. 0.5\n",
       "3. 1\n",
       "4. 0.8\n",
       "5. 0.25\n",
       "6. 0.25\n",
       "7. 0.666666666666667\n",
       "8. 0.65\n",
       "9. 0.327272727272727\n",
       "10. 0.4\n",
       "\n",
       "\n"
      ],
      "text/plain": [
       " [1] 0.7500000 0.5000000 1.0000000 0.8000000 0.2500000 0.2500000 0.6666667\n",
       " [8] 0.6500000 0.3272727 0.4000000"
      ]
     },
     "metadata": {},
     "output_type": "display_data"
    }
   ],
   "source": [
    "# input-oriented CRS model\n",
    "e <- dea(x, y, RTS = 'crs', ORIENTATION = 'in')\n",
    "eff(e)"
   ]
  },
  {
   "cell_type": "code",
   "execution_count": 4,
   "metadata": {},
   "outputs": [
    {
     "data": {
      "text/html": [
       "<style>\n",
       ".list-inline {list-style: none; margin:0; padding: 0}\n",
       ".list-inline>li {display: inline-block}\n",
       ".list-inline>li:not(:last-child)::after {content: \"\\00b7\"; padding: 0 .5ex}\n",
       "</style>\n",
       "<ol class=list-inline><li>1</li><li>1.875</li><li>1</li><li>1</li><li>3</li><li>3.75</li><li>1</li><li>1.34615384615385</li><li>2.22222222222222</li><li>1.66666666666667</li></ol>\n"
      ],
      "text/latex": [
       "\\begin{enumerate*}\n",
       "\\item 1\n",
       "\\item 1.875\n",
       "\\item 1\n",
       "\\item 1\n",
       "\\item 3\n",
       "\\item 3.75\n",
       "\\item 1\n",
       "\\item 1.34615384615385\n",
       "\\item 2.22222222222222\n",
       "\\item 1.66666666666667\n",
       "\\end{enumerate*}\n"
      ],
      "text/markdown": [
       "1. 1\n",
       "2. 1.875\n",
       "3. 1\n",
       "4. 1\n",
       "5. 3\n",
       "6. 3.75\n",
       "7. 1\n",
       "8. 1.34615384615385\n",
       "9. 2.22222222222222\n",
       "10. 1.66666666666667\n",
       "\n",
       "\n"
      ],
      "text/plain": [
       " [1] 1.000000 1.875000 1.000000 1.000000 3.000000 3.750000 1.000000 1.346154\n",
       " [9] 2.222222 1.666667"
      ]
     },
     "metadata": {},
     "output_type": "display_data"
    }
   ],
   "source": [
    "# output-oriented VRS model\n",
    "e <- dea(x, y, RTS = 'vrs', ORIENTATION = 'out')\n",
    "eff(e)"
   ]
  },
  {
   "cell_type": "code",
   "execution_count": 5,
   "metadata": {},
   "outputs": [
    {
     "data": {
      "text/html": [
       "<style>\n",
       ".list-inline {list-style: none; margin:0; padding: 0}\n",
       ".list-inline>li {display: inline-block}\n",
       ".list-inline>li:not(:last-child)::after {content: \"\\00b7\"; padding: 0 .5ex}\n",
       "</style>\n",
       "<ol class=list-inline><li>1.33333333333333</li><li>2</li><li>1</li><li>1.25</li><li>4</li><li>4</li><li>1.5</li><li>1.53846153846154</li><li>3.05555555555555</li><li>2.5</li></ol>\n"
      ],
      "text/latex": [
       "\\begin{enumerate*}\n",
       "\\item 1.33333333333333\n",
       "\\item 2\n",
       "\\item 1\n",
       "\\item 1.25\n",
       "\\item 4\n",
       "\\item 4\n",
       "\\item 1.5\n",
       "\\item 1.53846153846154\n",
       "\\item 3.05555555555555\n",
       "\\item 2.5\n",
       "\\end{enumerate*}\n"
      ],
      "text/markdown": [
       "1. 1.33333333333333\n",
       "2. 2\n",
       "3. 1\n",
       "4. 1.25\n",
       "5. 4\n",
       "6. 4\n",
       "7. 1.5\n",
       "8. 1.53846153846154\n",
       "9. 3.05555555555555\n",
       "10. 2.5\n",
       "\n",
       "\n"
      ],
      "text/plain": [
       " [1] 1.333333 2.000000 1.000000 1.250000 4.000000 4.000000 1.500000 1.538462\n",
       " [9] 3.055556 2.500000"
      ]
     },
     "metadata": {},
     "output_type": "display_data"
    }
   ],
   "source": [
    "# output-oriented CRS model\n",
    "e <- dea(x, y, RTS = 'crs', ORIENTATION = 'out')\n",
    "eff(e)"
   ]
  },
  {
   "cell_type": "code",
   "execution_count": 15,
   "metadata": {},
   "outputs": [
    {
     "data": {
      "text/html": [
       "<style>\n",
       ".list-inline {list-style: none; margin:0; padding: 0}\n",
       ".list-inline>li {display: inline-block}\n",
       ".list-inline>li:not(:last-child)::after {content: \"\\00b7\"; padding: 0 .5ex}\n",
       "</style>\n",
       "<ol class=list-inline><li>1</li><li>0.611111111111111</li><li>1</li><li>1</li><li>1</li><li>0.5</li><li>0.833333333333334</li><li>0.661111111111111</li><li>0.351515151515151</li><li>0.411111111111111</li></ol>\n"
      ],
      "text/latex": [
       "\\begin{enumerate*}\n",
       "\\item 1\n",
       "\\item 0.611111111111111\n",
       "\\item 1\n",
       "\\item 1\n",
       "\\item 1\n",
       "\\item 0.5\n",
       "\\item 0.833333333333334\n",
       "\\item 0.661111111111111\n",
       "\\item 0.351515151515151\n",
       "\\item 0.411111111111111\n",
       "\\end{enumerate*}\n"
      ],
      "text/markdown": [
       "1. 1\n",
       "2. 0.611111111111111\n",
       "3. 1\n",
       "4. 1\n",
       "5. 1\n",
       "6. 0.5\n",
       "7. 0.833333333333334\n",
       "8. 0.661111111111111\n",
       "9. 0.351515151515151\n",
       "10. 0.411111111111111\n",
       "\n",
       "\n"
      ],
      "text/plain": [
       " [1] 1.0000000 0.6111111 1.0000000 1.0000000 1.0000000 0.5000000 0.8333333\n",
       " [8] 0.6611111 0.3515152 0.4111111"
      ]
     },
     "metadata": {},
     "output_type": "display_data"
    }
   ],
   "source": [
    "# DEA-DDF_VRS\n",
    "e <- dea.direct(x, y, RTS = 'vrs', DIRECT=c(1))\n",
    "e$eff"
   ]
  }
 ],
 "metadata": {
  "kernelspec": {
   "display_name": "R",
   "language": "R",
   "name": "ir"
  },
  "language_info": {
   "codemirror_mode": "r",
   "file_extension": ".r",
   "mimetype": "text/x-r-source",
   "name": "R",
   "pygments_lexer": "r",
   "version": "4.0.0"
  }
 },
 "nbformat": 4,
 "nbformat_minor": 4
}
