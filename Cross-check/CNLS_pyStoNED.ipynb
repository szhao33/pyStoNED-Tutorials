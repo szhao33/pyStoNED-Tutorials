{
 "cells": [
  {
   "cell_type": "code",
   "execution_count": 1,
   "metadata": {},
   "outputs": [],
   "source": [
    "import numpy as np\n",
    "\n",
    "x = np.array([100,200,300,500,100,200,600,400,550,600])\n",
    "y = np.array([75,100,300,400,25,50,400, 260, 180, 240])"
   ]
  },
  {
   "cell_type": "code",
   "execution_count": 2,
   "metadata": {},
   "outputs": [],
   "source": [
    "from pystoned import *"
   ]
  },
  {
   "cell_type": "code",
   "execution_count": 3,
   "metadata": {},
   "outputs": [
    {
     "name": "stdout",
     "output_type": "stream",
     "text": [
      "a : alpha\n",
      "    Size=10, Index=i\n",
      "    Key : Lower : Value              : Upper : Fixed : Stale : Domain\n",
      "      0 :  None : -110.4580214712064 :  None : False : False :  Reals\n",
      "      1 :  None :  -86.0882908517328 :  None : False : False :  Reals\n",
      "      2 :  None :  56.51195290417732 :  None : False : False :  Reals\n",
      "      3 :  None :  194.5740957406746 :  None : False : False :  Reals\n",
      "      4 :  None : -110.4493712895447 :  None : False : False :  Reals\n",
      "      5 :  None : -86.08829085216423 :  None : False : False :  Reals\n",
      "      6 :  None :  303.5961485617797 :  None : False : False :  Reals\n",
      "      7 :  None :  141.7442637865769 :  None : False : False :  Reals\n",
      "      8 :  None :  303.5961287774383 :  None : False : False :  Reals\n",
      "      9 :  None :  303.5961485047408 :  None : False : False :  Reals\n",
      "b : beta\n",
      "    Size=10, Index=i\n",
      "    Key : Lower : Value             : Upper : Fixed : Stale : Domain\n",
      "      0 :   0.0 : 1.326842912092372 :  None : False : False :  Reals\n",
      "      1 :   0.0 : 1.083145622955007 :  None : False : False :  Reals\n",
      "      2 :   0.0 : 0.607811474237784 :  None : False : False :  Reals\n",
      "      3 :   0.0 : 0.218044113484175 :  None : False : False :  Reals\n",
      "      4 :   0.0 : 1.326756410275753 :  None : False : False :  Reals\n",
      "      5 :   0.0 : 1.083145622957163 :  None : False : False :  Reals\n",
      "      6 :   0.0 :     1.3999984e-08 :  None : False : False :  Reals\n",
      "      7 :   0.0 :  0.32370377974679 :  None : False : False :  Reals\n",
      "      8 :   0.0 :     4.7966922e-08 :  None : False : False :  Reals\n",
      "      9 :   0.0 :     1.4095045e-08 :  None : False : False :  Reals\n",
      "e : residuals\n",
      "    Size=10, Index=i\n",
      "    Key : Lower : Value              : Upper : Fixed : Stale : Domain\n",
      "      0 :  None :  52.77373026196919 :  None : False : False :  Reals\n",
      "      1 :  None : -30.54083373926855 :  None : False : False :  Reals\n",
      "      2 :  None :  61.14460482448746 :  None : False : False :  Reals\n",
      "      3 :  None :  96.40384751723775 :  None : False : False :  Reals\n",
      "      4 :  None :  2.773730261969377 :  None : False : False :  Reals\n",
      "      5 :  None :  -80.5408337392683 :  None : False : False :  Reals\n",
      "      6 :  None :   96.4038430382298 :  None : False : False :  Reals\n",
      "      7 :  None : -11.22577568529289 :  None : False : False :  Reals\n",
      "      8 :  None : -123.5961551592452 :  None : False : False :  Reals\n",
      "      9 :  None : -63.59615696176764 :  None : False : False :  Reals\n"
     ]
    }
   ],
   "source": [
    "# CNLS_prod_vrs\n",
    "\n",
    "fun = \"prod\"\n",
    "rts = \"vrs\"\n",
    "cet = \"addi\"\n",
    "model = CNLS.cnls(y, x, cet, fun, rts)\n",
    "\n",
    "from pyomo.opt import SolverFactory\n",
    "opt = SolverFactory('gams')\n",
    "results = opt.solve(model, solver='mosek')\n",
    "\n",
    "model.a.display()\n",
    "model.b.display()\n",
    "model.e.display()"
   ]
  },
  {
   "cell_type": "code",
   "execution_count": 4,
   "metadata": {},
   "outputs": [
    {
     "name": "stdout",
     "output_type": "stream",
     "text": [
      "a : alpha\n",
      "    Size=10, Index=i\n",
      "    Key : Lower : Value              : Upper : Fixed : Stale : Domain\n",
      "      0 :  None :  31.54902427377769 :  None : False : False :  Reals\n",
      "      1 :  None :  10.57453874647596 :  None : False : False :  Reals\n",
      "      2 :  None :    10.574516387288 :  None : False : False :  Reals\n",
      "      3 :  None :   10.5745027818448 :  None : False : False :  Reals\n",
      "      4 :  None :  31.56061479400345 :  None : False : False :  Reals\n",
      "      5 :  None :  10.57453874669687 :  None : False : False :  Reals\n",
      "      6 :  None : -58.34693328829031 :  None : False : False :  Reals\n",
      "      7 :  None :  10.57451098548438 :  None : False : False :  Reals\n",
      "      8 :  None :  10.57433264608622 :  None : False : False :  Reals\n",
      "      9 :  None : -58.40931153156958 :  None : False : False :  Reals\n",
      "b : beta\n",
      "    Size=10, Index=i\n",
      "    Key : Lower : Value             : Upper : Fixed : Stale : Domain\n",
      "      0 :   0.0 : 0.332298663391499 :  None : False : False :  Reals\n",
      "      1 :   0.0 : 0.542043482255059 :  None : False : False :  Reals\n",
      "      2 :   0.0 : 0.542043590902987 :  None : False : False :  Reals\n",
      "      3 :   0.0 : 0.542043623641861 :  None : False : False :  Reals\n",
      "      4 :   0.0 : 0.332182758189205 :  None : False : False :  Reals\n",
      "      5 :   0.0 : 0.542043482253936 :  None : False : False :  Reals\n",
      "      6 :   0.0 : 0.656912711520897 :  None : False : False :  Reals\n",
      "      7 :   0.0 : 0.542043605825349 :  None : False : False :  Reals\n",
      "      8 :   0.0 : 0.542043933404909 :  None : False : False :  Reals\n",
      "      9 :   0.0 : 0.657016675259676 :  None : False : False :  Reals\n",
      "e : residuals\n",
      "    Size=10, Index=i\n",
      "    Key : Lower : Value              : Upper : Fixed : Stale : Domain\n",
      "      0 :  None :  10.22110938707246 :  None : False : False :  Reals\n",
      "      1 :  None : -18.98323519748774 :  None : False : False :  Reals\n",
      "      2 :  None :   126.812406341816 :  None : False : False :  Reals\n",
      "      3 :  None :  118.4036853972248 :  None : False : False :  Reals\n",
      "      4 :  None :  -39.7788906129239 :  None : False : False :  Reals\n",
      "      5 :  None : -68.98323519748413 :  None : False : False :  Reals\n",
      "      6 :  None :   64.1993063757522 :  None : False : False :  Reals\n",
      "      7 :  None :  32.60804668437587 :  None : False : False :  Reals\n",
      "      8 :  None : -128.6984960187863 :  None : False : False :  Reals\n",
      "      9 :  None : -95.80069362423615 :  None : False : False :  Reals\n"
     ]
    }
   ],
   "source": [
    "# CNLS_cost_vrs\n",
    "\n",
    "fun = \"cost\"\n",
    "rts = \"vrs\"\n",
    "cet = \"addi\"\n",
    "model = CNLS.cnls(y, x, cet, fun, rts)\n",
    "\n",
    "from pyomo.opt import SolverFactory\n",
    "opt = SolverFactory('gams')\n",
    "results = opt.solve(model, solver='mosek')\n",
    "\n",
    "model.a.display()\n",
    "model.b.display()\n",
    "model.e.display()"
   ]
  },
  {
   "cell_type": "code",
   "execution_count": 6,
   "metadata": {},
   "outputs": [
    {
     "name": "stdout",
     "output_type": "stream",
     "text": [
      "b : beta\n",
      "    Size=10, Index=i\n",
      "    Key : Lower : Value             : Upper : Fixed : Stale : Domain\n",
      "      0 :   0.0 : 0.504288718127393 :  None : False : False :  Reals\n",
      "      1 :   0.0 : 0.504288718127393 :  None : False : False :  Reals\n",
      "      2 :   0.0 : 0.504288718127393 :  None : False : False :  Reals\n",
      "      3 :   0.0 : 0.504288718127393 :  None : False : False :  Reals\n",
      "      4 :   0.0 : 0.504288718127393 :  None : False : False :  Reals\n",
      "      5 :   0.0 : 0.504288718127393 :  None : False : False :  Reals\n",
      "      6 :   0.0 : 0.504288718127393 :  None : False : False :  Reals\n",
      "      7 :   0.0 : 0.504288718127393 :  None : False : False :  Reals\n",
      "      8 :   0.0 : 0.504288718127393 :  None : False : False :  Reals\n",
      "      9 :   0.0 : 0.504288718127393 :  None : False : False :  Reals\n",
      "e : residuals\n",
      "    Size=10, Index=i\n",
      "    Key : Lower : Value              : Upper : Fixed : Stale : Domain\n",
      "      0 :  None :  0.396924249049509 :  None : False : False :  Reals\n",
      "      1 :  None : -0.008540859058655 :  None : False : False :  Reals\n",
      "      2 :  None :   0.68460632150129 :  None : False : False :  Reals\n",
      "      3 :  None :   0.46146277018708 :  None : False : False :  Reals\n",
      "      4 :  None :   -0.7016880396186 :  None : False : False :  Reals\n",
      "      5 :  None :   -0.7016880396186 :  None : False : False :  Reals\n",
      "      6 :  None :  0.279141213393125 :  None : False : False :  Reals\n",
      "      7 :  None :  0.253823405408836 :  None : False : False :  Reals\n",
      "      8 :  None : -0.432355105835016 :  None : False : False :  Reals\n",
      "      9 :  None : -0.231684410372865 :  None : False : False :  Reals\n"
     ]
    }
   ],
   "source": [
    "# CNLS_prod_crs\n",
    "\n",
    "fun = \"prod\"\n",
    "rts = \"crs\"\n",
    "cet = \"mult\"\n",
    "model = CNLS.cnls(y, x, cet, fun, rts)\n",
    "\n",
    "from pyomo.opt import SolverFactory\n",
    "opt = SolverFactory('gams')\n",
    "results = opt.solve(model, solver='minos')\n",
    "\n",
    "model.b.display()\n",
    "model.e.display()"
   ]
  },
  {
   "cell_type": "code",
   "execution_count": 7,
   "metadata": {},
   "outputs": [
    {
     "name": "stdout",
     "output_type": "stream",
     "text": [
      "b : beta\n",
      "    Size=10, Index=i\n",
      "    Key : Lower : Value             : Upper : Fixed : Stale : Domain\n",
      "      0 :   0.0 : 0.504288718127365 :  None : False : False :  Reals\n",
      "      1 :   0.0 : 0.504288718127365 :  None : False : False :  Reals\n",
      "      2 :   0.0 : 0.504288718127365 :  None : False : False :  Reals\n",
      "      3 :   0.0 : 0.504288718127365 :  None : False : False :  Reals\n",
      "      4 :   0.0 : 0.504288718127365 :  None : False : False :  Reals\n",
      "      5 :   0.0 : 0.504288718127365 :  None : False : False :  Reals\n",
      "      6 :   0.0 : 0.504288718127365 :  None : False : False :  Reals\n",
      "      7 :   0.0 : 0.504288718127365 :  None : False : False :  Reals\n",
      "      8 :   0.0 : 0.504288718127365 :  None : False : False :  Reals\n",
      "      9 :   0.0 : 0.504288718127365 :  None : False : False :  Reals\n",
      "e : residuals\n",
      "    Size=10, Index=i\n",
      "    Key : Lower : Value              : Upper : Fixed : Stale : Domain\n",
      "      0 :  None :  0.396924249049565 :  None : False : False :  Reals\n",
      "      1 :  None : -0.008540859058598 :  None : False : False :  Reals\n",
      "      2 :  None :  0.684606321501346 :  None : False : False :  Reals\n",
      "      3 :  None :  0.461462770187136 :  None : False : False :  Reals\n",
      "      4 :  None : -0.701688039618544 :  None : False : False :  Reals\n",
      "      5 :  None : -0.701688039618544 :  None : False : False :  Reals\n",
      "      6 :  None :  0.279141213393181 :  None : False : False :  Reals\n",
      "      7 :  None :  0.253823405408892 :  None : False : False :  Reals\n",
      "      8 :  None :  -0.43235510583496 :  None : False : False :  Reals\n",
      "      9 :  None : -0.231684410372809 :  None : False : False :  Reals\n"
     ]
    }
   ],
   "source": [
    "# CNLS_cost_crs\n",
    "\n",
    "fun = \"cost\"\n",
    "rts = \"crs\"\n",
    "cet = \"mult\"\n",
    "model = CNLS.cnls(y, x, cet, fun, rts)\n",
    "\n",
    "from pyomo.opt import SolverFactory\n",
    "opt = SolverFactory('gams')\n",
    "results = opt.solve(model, solver='minos')\n",
    "\n",
    "model.b.display()\n",
    "model.e.display()"
   ]
  }
 ],
 "metadata": {
  "kernelspec": {
   "display_name": "Python 3",
   "language": "python",
   "name": "python3"
  },
  "language_info": {
   "codemirror_mode": {
    "name": "ipython",
    "version": 3
   },
   "file_extension": ".py",
   "mimetype": "text/x-python",
   "name": "python",
   "nbconvert_exporter": "python",
   "pygments_lexer": "ipython3",
   "version": "3.7.7"
  }
 },
 "nbformat": 4,
 "nbformat_minor": 4
}
