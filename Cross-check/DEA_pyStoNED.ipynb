{
 "cells": [
  {
   "cell_type": "code",
   "execution_count": 1,
   "metadata": {},
   "outputs": [],
   "source": [
    "import numpy as np\n",
    "\n",
    "x = np.array([100,200,300,500,100,200,600,400,550,600])\n",
    "y = np.array([75,100,300,400,25,50,400, 260, 180, 240])"
   ]
  },
  {
   "cell_type": "code",
   "execution_count": 2,
   "metadata": {},
   "outputs": [],
   "source": [
    "from pystoned import DEA"
   ]
  },
  {
   "cell_type": "code",
   "execution_count": 4,
   "metadata": {},
   "outputs": [
    {
     "name": "stdout",
     "output_type": "stream",
     "text": [
      "theta : efficiency\n",
      "    Size=10, Index=io\n",
      "    Key : Lower : Value             : Upper : Fixed : Stale : Domain\n",
      "      0 :  None :               1.0 :  None : False : False :  Reals\n",
      "      1 :  None : 0.611111111111111 :  None : False : False :  Reals\n",
      "      2 :  None :               1.0 :  None : False : False :  Reals\n",
      "      3 :  None :               1.0 :  None : False : False :  Reals\n",
      "      4 :  None :               1.0 :  None : False : False :  Reals\n",
      "      5 :  None :               0.5 :  None : False : False :  Reals\n",
      "      6 :  None : 0.833333333333333 :  None : False : False :  Reals\n",
      "      7 :  None : 0.661111111111111 :  None : False : False :  Reals\n",
      "      8 :  None : 0.351515151515152 :  None : False : False :  Reals\n",
      "      9 :  None : 0.411111111111111 :  None : False : False :  Reals\n"
     ]
    }
   ],
   "source": [
    "# input-oriented VRS model\n",
    "\n",
    "orient = \"io\"\n",
    "rts = \"vrs\"\n",
    "model = DEA.dea(y, x, orient, rts)\n",
    "\n",
    "from pyomo.opt import SolverFactory\n",
    "opt = SolverFactory('gams')\n",
    "results = opt.solve(model, solver='cplex')\n",
    "\n",
    "model.theta.display()"
   ]
  },
  {
   "cell_type": "code",
   "execution_count": 5,
   "metadata": {},
   "outputs": [
    {
     "name": "stdout",
     "output_type": "stream",
     "text": [
      "theta : efficiency\n",
      "    Size=10, Index=io\n",
      "    Key : Lower : Value             : Upper : Fixed : Stale : Domain\n",
      "      0 :  None :              0.75 :  None : False : False :  Reals\n",
      "      1 :  None :               0.5 :  None : False : False :  Reals\n",
      "      2 :  None :               1.0 :  None : False : False :  Reals\n",
      "      3 :  None :               0.8 :  None : False : False :  Reals\n",
      "      4 :  None :              0.25 :  None : False : False :  Reals\n",
      "      5 :  None :              0.25 :  None : False : False :  Reals\n",
      "      6 :  None : 0.666666666666667 :  None : False : False :  Reals\n",
      "      7 :  None :              0.65 :  None : False : False :  Reals\n",
      "      8 :  None : 0.327272727272727 :  None : False : False :  Reals\n",
      "      9 :  None :               0.4 :  None : False : False :  Reals\n"
     ]
    }
   ],
   "source": [
    "# input-oriented CRS model\n",
    "\n",
    "orient = \"io\"\n",
    "rts = \"crs\"\n",
    "model = DEA.dea(y, x, orient, rts)\n",
    "\n",
    "from pyomo.opt import SolverFactory\n",
    "opt = SolverFactory('gams')\n",
    "results = opt.solve(model, solver='cplex')\n",
    "\n",
    "model.theta.display()"
   ]
  },
  {
   "cell_type": "code",
   "execution_count": 7,
   "metadata": {},
   "outputs": [
    {
     "name": "stdout",
     "output_type": "stream",
     "text": [
      "theta : efficiency\n",
      "    Size=10, Index=io\n",
      "    Key : Lower : Value             : Upper : Fixed : Stale : Domain\n",
      "      0 :  None :               1.0 :  None : False : False :  Reals\n",
      "      1 :  None :             1.875 :  None : False : False :  Reals\n",
      "      2 :  None :               1.0 :  None : False : False :  Reals\n",
      "      3 :  None :               1.0 :  None : False : False :  Reals\n",
      "      4 :  None :               3.0 :  None : False : False :  Reals\n",
      "      5 :  None :              3.75 :  None : False : False :  Reals\n",
      "      6 :  None :               1.0 :  None : False : False :  Reals\n",
      "      7 :  None : 1.346153846153846 :  None : False : False :  Reals\n",
      "      8 :  None : 2.222222222222222 :  None : False : False :  Reals\n",
      "      9 :  None : 1.666666666666667 :  None : False : False :  Reals\n"
     ]
    }
   ],
   "source": [
    "# output-oriented VRS model\n",
    "\n",
    "orient = \"oo\"\n",
    "rts = \"vrs\"\n",
    "model = DEA.dea(y, x, orient, rts)\n",
    "\n",
    "from pyomo.opt import SolverFactory\n",
    "opt = SolverFactory('gams')\n",
    "results = opt.solve(model, solver='cplex')\n",
    "\n",
    "model.theta.display()"
   ]
  },
  {
   "cell_type": "code",
   "execution_count": 6,
   "metadata": {},
   "outputs": [
    {
     "name": "stdout",
     "output_type": "stream",
     "text": [
      "theta : efficiency\n",
      "    Size=10, Index=io\n",
      "    Key : Lower : Value             : Upper : Fixed : Stale : Domain\n",
      "      0 :  None : 1.333333333333334 :  None : False : False :  Reals\n",
      "      1 :  None :               2.0 :  None : False : False :  Reals\n",
      "      2 :  None :               1.0 :  None : False : False :  Reals\n",
      "      3 :  None :              1.25 :  None : False : False :  Reals\n",
      "      4 :  None :               4.0 :  None : False : False :  Reals\n",
      "      5 :  None :               4.0 :  None : False : False :  Reals\n",
      "      6 :  None :               1.5 :  None : False : False :  Reals\n",
      "      7 :  None : 1.538461538461539 :  None : False : False :  Reals\n",
      "      8 :  None : 3.055555555555556 :  None : False : False :  Reals\n",
      "      9 :  None :               2.5 :  None : False : False :  Reals\n"
     ]
    }
   ],
   "source": [
    "# output-oriented CRS model\n",
    "\n",
    "orient = \"oo\"\n",
    "rts = \"crs\"\n",
    "model = DEA.dea(y, x, orient, rts)\n",
    "\n",
    "from pyomo.opt import SolverFactory\n",
    "opt = SolverFactory('gams')\n",
    "results = opt.solve(model, solver='cplex')\n",
    "\n",
    "model.theta.display()"
   ]
  },
  {
   "cell_type": "code",
   "execution_count": 11,
   "metadata": {},
   "outputs": [],
   "source": [
    "# DEA-DDF_VRS\n",
    "\n",
    "rts = \"vrs\"\n",
    "gx = 1.0\n",
    "gy = 0.0\n",
    "\n",
    "model = DEA.deaddf(y, x, gx, gy, rts)\n",
    "\n",
    "from pyomo.opt import SolverFactory\n",
    "opt = SolverFactory('gams')\n",
    "results = opt.solve(model, solver='cplex')\n",
    "\n",
    "val = list(model.theta[:].value)\n",
    "theta = np.asarray(val)"
   ]
  },
  {
   "cell_type": "code",
   "execution_count": 21,
   "metadata": {},
   "outputs": [
    {
     "data": {
      "text/plain": [
       "array([0.        , 0.77777778, 0.        , 0.        , 0.        ,\n",
       "       2.        , 0.25      , 0.52136752, 1.98148148, 1.47222222])"
      ]
     },
     "execution_count": 21,
     "metadata": {},
     "output_type": "execute_result"
    }
   ],
   "source": [
    "TE = theta/y\n",
    "TE"
   ]
  }
 ],
 "metadata": {
  "kernelspec": {
   "display_name": "Python 3",
   "language": "python",
   "name": "python3"
  },
  "language_info": {
   "codemirror_mode": {
    "name": "ipython",
    "version": 3
   },
   "file_extension": ".py",
   "mimetype": "text/x-python",
   "name": "python",
   "nbconvert_exporter": "python",
   "pygments_lexer": "ipython3",
   "version": "3.7.7"
  }
 },
 "nbformat": 4,
 "nbformat_minor": 4
}
