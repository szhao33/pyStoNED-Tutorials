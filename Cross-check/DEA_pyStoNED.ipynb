{
 "cells": [
  {
   "cell_type": "code",
   "execution_count": 1,
   "metadata": {},
   "outputs": [],
   "source": [
    "import numpy as np\n",
    "\n",
    "x = np.array([100,200,300,500,100,200,600,400,550,600])\n",
    "y = np.array([75,100,300,400,25,50,400, 260, 180, 240])"
   ]
  },
  {
   "cell_type": "code",
   "execution_count": 2,
   "metadata": {},
   "outputs": [],
   "source": [
    "from pystoned import DEA"
   ]
  },
  {
   "cell_type": "code",
   "execution_count": 3,
   "metadata": {},
   "outputs": [
    {
     "name": "stdout",
     "output_type": "stream",
     "text": [
      "theta : efficiency\n",
      "    Size=10, Index=io\n",
      "    Key : Lower : Value             : Upper : Fixed : Stale : Domain\n",
      "      0 :  None :               1.0 :  None : False : False :  Reals\n",
      "      1 :  None : 0.611111111111111 :  None : False : False :  Reals\n",
      "      2 :  None :               1.0 :  None : False : False :  Reals\n",
      "      3 :  None :               1.0 :  None : False : False :  Reals\n",
      "      4 :  None :               1.0 :  None : False : False :  Reals\n",
      "      5 :  None :               0.5 :  None : False : False :  Reals\n",
      "      6 :  None : 0.833333333333333 :  None : False : False :  Reals\n",
      "      7 :  None : 0.661111111111111 :  None : False : False :  Reals\n",
      "      8 :  None : 0.351515151515152 :  None : False : False :  Reals\n",
      "      9 :  None : 0.411111111111111 :  None : False : False :  Reals\n"
     ]
    }
   ],
   "source": [
    "# input-oriented VRS model\n",
    "\n",
    "orient = \"io\"\n",
    "rts = \"vrs\"\n",
    "model = DEA.dea(y, x, orient, rts)\n",
    "\n",
    "from pyomo.opt import SolverFactory\n",
    "opt = SolverFactory('gams')\n",
    "results = opt.solve(model, solver='cplex')\n",
    "\n",
    "model.theta.display()"
   ]
  },
  {
   "cell_type": "code",
   "execution_count": 4,
   "metadata": {},
   "outputs": [
    {
     "name": "stdout",
     "output_type": "stream",
     "text": [
      "theta : efficiency\n",
      "    Size=10, Index=io\n",
      "    Key : Lower : Value             : Upper : Fixed : Stale : Domain\n",
      "      0 :  None :              0.75 :  None : False : False :  Reals\n",
      "      1 :  None :               0.5 :  None : False : False :  Reals\n",
      "      2 :  None :               1.0 :  None : False : False :  Reals\n",
      "      3 :  None :               0.8 :  None : False : False :  Reals\n",
      "      4 :  None :              0.25 :  None : False : False :  Reals\n",
      "      5 :  None :              0.25 :  None : False : False :  Reals\n",
      "      6 :  None : 0.666666666666667 :  None : False : False :  Reals\n",
      "      7 :  None :              0.65 :  None : False : False :  Reals\n",
      "      8 :  None : 0.327272727272727 :  None : False : False :  Reals\n",
      "      9 :  None :               0.4 :  None : False : False :  Reals\n"
     ]
    }
   ],
   "source": [
    "# input-oriented CRS model\n",
    "\n",
    "orient = \"io\"\n",
    "rts = \"crs\"\n",
    "model = DEA.dea(y, x, orient, rts)\n",
    "\n",
    "from pyomo.opt import SolverFactory\n",
    "opt = SolverFactory('gams')\n",
    "results = opt.solve(model, solver='cplex')\n",
    "\n",
    "model.theta.display()"
   ]
  },
  {
   "cell_type": "code",
   "execution_count": 5,
   "metadata": {},
   "outputs": [
    {
     "name": "stdout",
     "output_type": "stream",
     "text": [
      "theta : efficiency\n",
      "    Size=10, Index=io\n",
      "    Key : Lower : Value             : Upper : Fixed : Stale : Domain\n",
      "      0 :  None :               1.0 :  None : False : False :  Reals\n",
      "      1 :  None :             1.875 :  None : False : False :  Reals\n",
      "      2 :  None :               1.0 :  None : False : False :  Reals\n",
      "      3 :  None :               1.0 :  None : False : False :  Reals\n",
      "      4 :  None :               3.0 :  None : False : False :  Reals\n",
      "      5 :  None :              3.75 :  None : False : False :  Reals\n",
      "      6 :  None :               1.0 :  None : False : False :  Reals\n",
      "      7 :  None : 1.346153846153846 :  None : False : False :  Reals\n",
      "      8 :  None : 2.222222222222222 :  None : False : False :  Reals\n",
      "      9 :  None : 1.666666666666667 :  None : False : False :  Reals\n"
     ]
    }
   ],
   "source": [
    "# output-oriented VRS model\n",
    "\n",
    "orient = \"oo\"\n",
    "rts = \"vrs\"\n",
    "model = DEA.dea(y, x, orient, rts)\n",
    "\n",
    "from pyomo.opt import SolverFactory\n",
    "opt = SolverFactory('gams')\n",
    "results = opt.solve(model, solver='cplex')\n",
    "\n",
    "model.theta.display()"
   ]
  },
  {
   "cell_type": "code",
   "execution_count": 6,
   "metadata": {},
   "outputs": [
    {
     "name": "stdout",
     "output_type": "stream",
     "text": [
      "theta : efficiency\n",
      "    Size=10, Index=io\n",
      "    Key : Lower : Value             : Upper : Fixed : Stale : Domain\n",
      "      0 :  None : 1.333333333333334 :  None : False : False :  Reals\n",
      "      1 :  None :               2.0 :  None : False : False :  Reals\n",
      "      2 :  None :               1.0 :  None : False : False :  Reals\n",
      "      3 :  None :              1.25 :  None : False : False :  Reals\n",
      "      4 :  None :               4.0 :  None : False : False :  Reals\n",
      "      5 :  None :               4.0 :  None : False : False :  Reals\n",
      "      6 :  None :               1.5 :  None : False : False :  Reals\n",
      "      7 :  None : 1.538461538461539 :  None : False : False :  Reals\n",
      "      8 :  None : 3.055555555555556 :  None : False : False :  Reals\n",
      "      9 :  None :               2.5 :  None : False : False :  Reals\n"
     ]
    }
   ],
   "source": [
    "# output-oriented CRS model\n",
    "\n",
    "orient = \"oo\"\n",
    "rts = \"crs\"\n",
    "model = DEA.dea(y, x, orient, rts)\n",
    "\n",
    "from pyomo.opt import SolverFactory\n",
    "opt = SolverFactory('gams')\n",
    "results = opt.solve(model, solver='cplex')\n",
    "\n",
    "model.theta.display()"
   ]
  },
  {
   "cell_type": "code",
   "execution_count": 7,
   "metadata": {},
   "outputs": [
    {
     "name": "stdout",
     "output_type": "stream",
     "text": [
      "lamda : intensity variables\n",
      "    Size=100, Index=lamda_index\n",
      "    Key    : Lower : Value             : Upper : Fixed : Stale : Domain\n",
      "    (0, 0) :   0.0 :               1.0 :  None : False : False :  Reals\n",
      "    (0, 1) :   0.0 :               0.0 :  None : False : False :  Reals\n",
      "    (0, 2) :   0.0 :               0.0 :  None : False : False :  Reals\n",
      "    (0, 3) :   0.0 :               0.0 :  None : False : False :  Reals\n",
      "    (0, 4) :   0.0 :               0.0 :  None : False : False :  Reals\n",
      "    (0, 5) :   0.0 :               0.0 :  None : False : False :  Reals\n",
      "    (0, 6) :   0.0 :               0.0 :  None : False : False :  Reals\n",
      "    (0, 7) :   0.0 :               0.0 :  None : False : False :  Reals\n",
      "    (0, 8) :   0.0 :               0.0 :  None : False : False :  Reals\n",
      "    (0, 9) :   0.0 :               0.0 :  None : False : False :  Reals\n",
      "    (1, 0) :   0.0 : 0.888888888888889 :  None : False : False :  Reals\n",
      "    (1, 1) :   0.0 :               0.0 :  None : False : False :  Reals\n",
      "    (1, 2) :   0.0 : 0.111111111111111 :  None : False : False :  Reals\n",
      "    (1, 3) :   0.0 :               0.0 :  None : False : False :  Reals\n",
      "    (1, 4) :   0.0 :               0.0 :  None : False : False :  Reals\n",
      "    (1, 5) :   0.0 :               0.0 :  None : False : False :  Reals\n",
      "    (1, 6) :   0.0 :               0.0 :  None : False : False :  Reals\n",
      "    (1, 7) :   0.0 :               0.0 :  None : False : False :  Reals\n",
      "    (1, 8) :   0.0 :               0.0 :  None : False : False :  Reals\n",
      "    (1, 9) :   0.0 :               0.0 :  None : False : False :  Reals\n",
      "    (2, 0) :   0.0 :               0.0 :  None : False : False :  Reals\n",
      "    (2, 1) :   0.0 :               0.0 :  None : False : False :  Reals\n",
      "    (2, 2) :   0.0 :               1.0 :  None : False : False :  Reals\n",
      "    (2, 3) :   0.0 :               0.0 :  None : False : False :  Reals\n",
      "    (2, 4) :   0.0 :               0.0 :  None : False : False :  Reals\n",
      "    (2, 5) :   0.0 :               0.0 :  None : False : False :  Reals\n",
      "    (2, 6) :   0.0 :               0.0 :  None : False : False :  Reals\n",
      "    (2, 7) :   0.0 :               0.0 :  None : False : False :  Reals\n",
      "    (2, 8) :   0.0 :               0.0 :  None : False : False :  Reals\n",
      "    (2, 9) :   0.0 :               0.0 :  None : False : False :  Reals\n",
      "    (3, 0) :   0.0 :               0.0 :  None : False : False :  Reals\n",
      "    (3, 1) :   0.0 :               0.0 :  None : False : False :  Reals\n",
      "    (3, 2) :   0.0 :               0.0 :  None : False : False :  Reals\n",
      "    (3, 3) :   0.0 :               1.0 :  None : False : False :  Reals\n",
      "    (3, 4) :   0.0 :               0.0 :  None : False : False :  Reals\n",
      "    (3, 5) :   0.0 :               0.0 :  None : False : False :  Reals\n",
      "    (3, 6) :   0.0 :               0.0 :  None : False : False :  Reals\n",
      "    (3, 7) :   0.0 :               0.0 :  None : False : False :  Reals\n",
      "    (3, 8) :   0.0 :               0.0 :  None : False : False :  Reals\n",
      "    (3, 9) :   0.0 :               0.0 :  None : False : False :  Reals\n",
      "    (4, 0) :   0.0 :               1.0 :  None : False : False :  Reals\n",
      "    (4, 1) :   0.0 :               0.0 :  None : False : False :  Reals\n",
      "    (4, 2) :   0.0 :               0.0 :  None : False : False :  Reals\n",
      "    (4, 3) :   0.0 :               0.0 :  None : False : False :  Reals\n",
      "    (4, 4) :   0.0 :               0.0 :  None : False : False :  Reals\n",
      "    (4, 5) :   0.0 :               0.0 :  None : False : False :  Reals\n",
      "    (4, 6) :   0.0 :               0.0 :  None : False : False :  Reals\n",
      "    (4, 7) :   0.0 :               0.0 :  None : False : False :  Reals\n",
      "    (4, 8) :   0.0 :               0.0 :  None : False : False :  Reals\n",
      "    (4, 9) :   0.0 :               0.0 :  None : False : False :  Reals\n",
      "    (5, 0) :   0.0 :               1.0 :  None : False : False :  Reals\n",
      "    (5, 1) :   0.0 :               0.0 :  None : False : False :  Reals\n",
      "    (5, 2) :   0.0 :               0.0 :  None : False : False :  Reals\n",
      "    (5, 3) :   0.0 :               0.0 :  None : False : False :  Reals\n",
      "    (5, 4) :   0.0 :               0.0 :  None : False : False :  Reals\n",
      "    (5, 5) :   0.0 :               0.0 :  None : False : False :  Reals\n",
      "    (5, 6) :   0.0 :               0.0 :  None : False : False :  Reals\n",
      "    (5, 7) :   0.0 :               0.0 :  None : False : False :  Reals\n",
      "    (5, 8) :   0.0 :               0.0 :  None : False : False :  Reals\n",
      "    (5, 9) :   0.0 :               0.0 :  None : False : False :  Reals\n",
      "    (6, 0) :   0.0 :               0.0 :  None : False : False :  Reals\n",
      "    (6, 1) :   0.0 :               0.0 :  None : False : False :  Reals\n",
      "    (6, 2) :   0.0 :               0.0 :  None : False : False :  Reals\n",
      "    (6, 3) :   0.0 :               1.0 :  None : False : False :  Reals\n",
      "    (6, 4) :   0.0 :               0.0 :  None : False : False :  Reals\n",
      "    (6, 5) :   0.0 :               0.0 :  None : False : False :  Reals\n",
      "    (6, 6) :   0.0 :               0.0 :  None : False : False :  Reals\n",
      "    (6, 7) :   0.0 :               0.0 :  None : False : False :  Reals\n",
      "    (6, 8) :   0.0 :               0.0 :  None : False : False :  Reals\n",
      "    (6, 9) :   0.0 :               0.0 :  None : False : False :  Reals\n",
      "    (7, 0) :   0.0 : 0.177777777777778 :  None : False : False :  Reals\n",
      "    (7, 1) :   0.0 :               0.0 :  None : False : False :  Reals\n",
      "    (7, 2) :   0.0 : 0.822222222222222 :  None : False : False :  Reals\n",
      "    (7, 3) :   0.0 :               0.0 :  None : False : False :  Reals\n",
      "    (7, 4) :   0.0 :               0.0 :  None : False : False :  Reals\n",
      "    (7, 5) :   0.0 :               0.0 :  None : False : False :  Reals\n",
      "    (7, 6) :   0.0 :               0.0 :  None : False : False :  Reals\n",
      "    (7, 7) :   0.0 :               0.0 :  None : False : False :  Reals\n",
      "    (7, 8) :   0.0 :               0.0 :  None : False : False :  Reals\n",
      "    (7, 9) :   0.0 :               0.0 :  None : False : False :  Reals\n",
      "    (8, 0) :   0.0 : 0.533333333333333 :  None : False : False :  Reals\n",
      "    (8, 1) :   0.0 :               0.0 :  None : False : False :  Reals\n",
      "    (8, 2) :   0.0 : 0.466666666666667 :  None : False : False :  Reals\n",
      "    (8, 3) :   0.0 :               0.0 :  None : False : False :  Reals\n",
      "    (8, 4) :   0.0 :               0.0 :  None : False : False :  Reals\n",
      "    (8, 5) :   0.0 :               0.0 :  None : False : False :  Reals\n",
      "    (8, 6) :   0.0 :               0.0 :  None : False : False :  Reals\n",
      "    (8, 7) :   0.0 :               0.0 :  None : False : False :  Reals\n",
      "    (8, 8) :   0.0 :               0.0 :  None : False : False :  Reals\n",
      "    (8, 9) :   0.0 :               0.0 :  None : False : False :  Reals\n",
      "    (9, 0) :   0.0 : 0.266666666666667 :  None : False : False :  Reals\n",
      "    (9, 1) :   0.0 :               0.0 :  None : False : False :  Reals\n",
      "    (9, 2) :   0.0 : 0.733333333333333 :  None : False : False :  Reals\n",
      "    (9, 3) :   0.0 :               0.0 :  None : False : False :  Reals\n",
      "    (9, 4) :   0.0 :               0.0 :  None : False : False :  Reals\n",
      "    (9, 5) :   0.0 :               0.0 :  None : False : False :  Reals\n",
      "    (9, 6) :   0.0 :               0.0 :  None : False : False :  Reals\n",
      "    (9, 7) :   0.0 :               0.0 :  None : False : False :  Reals\n",
      "    (9, 8) :   0.0 :               0.0 :  None : False : False :  Reals\n",
      "    (9, 9) :   0.0 :               0.0 :  None : False : False :  Reals\n"
     ]
    }
   ],
   "source": [
    "# DEA-DDF_VRS\n",
    "\n",
    "rts = \"vrs\"\n",
    "gx = 1.0\n",
    "gy = 0.0\n",
    "\n",
    "model = DEA.deaddf(y, x, gx, gy, rts)\n",
    "\n",
    "from pyomo.opt import SolverFactory\n",
    "opt = SolverFactory('gams')\n",
    "results = opt.solve(model, solver='cplex')\n",
    "\n",
    "model.lamda.display()"
   ]
  },
  {
   "cell_type": "code",
   "execution_count": 8,
   "metadata": {},
   "outputs": [
    {
     "name": "stdout",
     "output_type": "stream",
     "text": [
      "theta : directional distance\n",
      "    Size=10, Index=io\n",
      "    Key : Lower : Value             : Upper : Fixed : Stale : Domain\n",
      "      0 :  None :               0.0 :  None : False : False :  Reals\n",
      "      1 :  None : 77.77777777777777 :  None : False : False :  Reals\n",
      "      2 :  None :               0.0 :  None : False : False :  Reals\n",
      "      3 :  None :               0.0 :  None : False : False :  Reals\n",
      "      4 :  None :               0.0 :  None : False : False :  Reals\n",
      "      5 :  None :             100.0 :  None : False : False :  Reals\n",
      "      6 :  None :             100.0 :  None : False : False :  Reals\n",
      "      7 :  None : 135.5555555555556 :  None : False : False :  Reals\n",
      "      8 :  None : 356.6666666666667 :  None : False : False :  Reals\n",
      "      9 :  None : 353.3333333333334 :  None : False : False :  Reals\n"
     ]
    }
   ],
   "source": [
    "model.theta.display()"
   ]
  },
  {
   "cell_type": "code",
   "execution_count": 9,
   "metadata": {},
   "outputs": [],
   "source": [
    "val = list(model.theta[:].value)\n",
    "theta = np.asarray(val)"
   ]
  },
  {
   "cell_type": "code",
   "execution_count": 11,
   "metadata": {},
   "outputs": [
    {
     "data": {
      "text/plain": [
       "array([1.        , 0.61111111, 1.        , 1.        , 1.        ,\n",
       "       0.5       , 0.83333333, 0.66111111, 0.35151515, 0.41111111])"
      ]
     },
     "execution_count": 11,
     "metadata": {},
     "output_type": "execute_result"
    }
   ],
   "source": [
    "# technical efficiency\n",
    "TE = 1 - theta/x\n",
    "TE"
   ]
  }
 ],
 "metadata": {
  "kernelspec": {
   "display_name": "Python 3",
   "language": "python",
   "name": "python3"
  },
  "language_info": {
   "codemirror_mode": {
    "name": "ipython",
    "version": 3
   },
   "file_extension": ".py",
   "mimetype": "text/x-python",
   "name": "python",
   "nbconvert_exporter": "python",
   "pygments_lexer": "ipython3",
   "version": "3.7.7"
  }
 },
 "nbformat": 4,
 "nbformat_minor": 4
}
