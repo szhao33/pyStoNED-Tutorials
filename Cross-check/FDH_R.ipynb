{
 "cells": [
  {
   "cell_type": "code",
   "execution_count": 1,
   "metadata": {},
   "outputs": [
    {
     "name": "stderr",
     "output_type": "stream",
     "text": [
      "Loading required package: Benchmarking\n",
      "\n",
      "Loading required package: lpSolveAPI\n",
      "\n",
      "Loading required package: ucminf\n",
      "\n"
     ]
    }
   ],
   "source": [
    "require(Benchmarking)\n",
    "\n",
    "# input-output data\n",
    "x <- matrix(c(100,200,300,500,100,200,600,400,550,600),ncol=1)\n",
    "y <- matrix(c(75,100,300,400,25,50,400, 260, 180, 240),ncol=1)"
   ]
  },
  {
   "cell_type": "code",
   "execution_count": 2,
   "metadata": {},
   "outputs": [
    {
     "data": {
      "text/html": [
       "<style>\n",
       ".list-inline {list-style: none; margin:0; padding: 0}\n",
       ".list-inline>li {display: inline-block}\n",
       ".list-inline>li:not(:last-child)::after {content: \"\\00b7\"; padding: 0 .5ex}\n",
       "</style>\n",
       "<ol class=list-inline><li>1</li><li>1</li><li>1</li><li>1</li><li>1</li><li>0.5</li><li>0.833333333333333</li><li>0.75</li><li>0.545454545454545</li><li>0.5</li></ol>\n"
      ],
      "text/latex": [
       "\\begin{enumerate*}\n",
       "\\item 1\n",
       "\\item 1\n",
       "\\item 1\n",
       "\\item 1\n",
       "\\item 1\n",
       "\\item 0.5\n",
       "\\item 0.833333333333333\n",
       "\\item 0.75\n",
       "\\item 0.545454545454545\n",
       "\\item 0.5\n",
       "\\end{enumerate*}\n"
      ],
      "text/markdown": [
       "1. 1\n",
       "2. 1\n",
       "3. 1\n",
       "4. 1\n",
       "5. 1\n",
       "6. 0.5\n",
       "7. 0.833333333333333\n",
       "8. 0.75\n",
       "9. 0.545454545454545\n",
       "10. 0.5\n",
       "\n",
       "\n"
      ],
      "text/plain": [
       " [1] 1.0000000 1.0000000 1.0000000 1.0000000 1.0000000 0.5000000 0.8333333\n",
       " [8] 0.7500000 0.5454545 0.5000000"
      ]
     },
     "metadata": {},
     "output_type": "display_data"
    }
   ],
   "source": [
    "# input-oriented FDH model\n",
    "e <- dea(x,y,RTS=\"fdh\", ORIENTATION = 'in')\n",
    "eff(e)"
   ]
  },
  {
   "cell_type": "code",
   "execution_count": 3,
   "metadata": {},
   "outputs": [
    {
     "data": {
      "text/html": [
       "<style>\n",
       ".list-inline {list-style: none; margin:0; padding: 0}\n",
       ".list-inline>li {display: inline-block}\n",
       ".list-inline>li:not(:last-child)::after {content: \"\\00b7\"; padding: 0 .5ex}\n",
       "</style>\n",
       "<ol class=list-inline><li>1</li><li>1</li><li>1</li><li>1</li><li>3</li><li>2</li><li>1</li><li>1.15384615384615</li><li>2.22222222222222</li><li>1.66666666666667</li></ol>\n"
      ],
      "text/latex": [
       "\\begin{enumerate*}\n",
       "\\item 1\n",
       "\\item 1\n",
       "\\item 1\n",
       "\\item 1\n",
       "\\item 3\n",
       "\\item 2\n",
       "\\item 1\n",
       "\\item 1.15384615384615\n",
       "\\item 2.22222222222222\n",
       "\\item 1.66666666666667\n",
       "\\end{enumerate*}\n"
      ],
      "text/markdown": [
       "1. 1\n",
       "2. 1\n",
       "3. 1\n",
       "4. 1\n",
       "5. 3\n",
       "6. 2\n",
       "7. 1\n",
       "8. 1.15384615384615\n",
       "9. 2.22222222222222\n",
       "10. 1.66666666666667\n",
       "\n",
       "\n"
      ],
      "text/plain": [
       " [1] 1.000000 1.000000 1.000000 1.000000 3.000000 2.000000 1.000000 1.153846\n",
       " [9] 2.222222 1.666667"
      ]
     },
     "metadata": {},
     "output_type": "display_data"
    }
   ],
   "source": [
    "# ioutput-oriented FDH model\n",
    "e <- dea(x,y,RTS=\"fdh\", ORIENTATION = 'out')\n",
    "eff(e)"
   ]
  }
 ],
 "metadata": {
  "kernelspec": {
   "display_name": "R",
   "language": "R",
   "name": "ir"
  },
  "language_info": {
   "codemirror_mode": "r",
   "file_extension": ".r",
   "mimetype": "text/x-r-source",
   "name": "R",
   "pygments_lexer": "r",
   "version": "4.0.0"
  }
 },
 "nbformat": 4,
 "nbformat_minor": 4
}
