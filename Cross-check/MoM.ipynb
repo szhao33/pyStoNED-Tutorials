{
 "cells": [
  {
   "cell_type": "markdown",
   "metadata": {},
   "source": [
    "# StoNED: MoM"
   ]
  },
  {
   "cell_type": "code",
   "execution_count": 1,
   "metadata": {},
   "outputs": [],
   "source": [
    "import numpy as np\n",
    "\n",
    "x = np.array([100,200,300,500,100,200,600,400,550,600])\n",
    "y = np.array([75,100,300,400,25,50,400, 260, 180, 240])"
   ]
  },
  {
   "cell_type": "code",
   "execution_count": 2,
   "metadata": {},
   "outputs": [],
   "source": [
    "from pystoned import *"
   ]
  },
  {
   "cell_type": "code",
   "execution_count": 3,
   "metadata": {},
   "outputs": [
    {
     "data": {
      "text/plain": [
       "array([0.52223481, 0.69767821, 0.88587204, 0.92183461, 0.37283771,\n",
       "       0.60011476, 0.92183461, 0.84775973, 0.74432569, 0.8141413 ])"
      ]
     },
     "execution_count": 3,
     "metadata": {},
     "output_type": "execute_result"
    }
   ],
   "source": [
    "# CNLS_prod_vrs\n",
    "\n",
    "fun = \"prod\"\n",
    "rts = \"vrs\"\n",
    "cet = \"addi\"\n",
    "model = CNLS.cnls(y, x, cet, fun, rts)\n",
    "\n",
    "from pyomo.opt import SolverFactory\n",
    "opt = SolverFactory('gams')\n",
    "results = opt.solve(model, solver='mosek')\n",
    "\n",
    "# retrive the residuals\n",
    "val = list(model.e[:].value)\n",
    "eps = np.asarray(val)\n",
    "\n",
    "# decomposition by method od moment (MoM)\n",
    "method      = 'MoM'\n",
    "TE          = StoNED.stoned(y, eps, fun, method, cet)\n",
    "TE"
   ]
  },
  {
   "cell_type": "code",
   "execution_count": 4,
   "metadata": {},
   "outputs": [
    {
     "data": {
      "text/plain": [
       "array([0.20710687, 0.60334524, 0.59026537, 0.73855704, 0.24512052,\n",
       "       0.65255368, 0.81591139, 0.75955635, 0.90042088, 0.89816946])"
      ]
     },
     "execution_count": 4,
     "metadata": {},
     "output_type": "execute_result"
    }
   ],
   "source": [
    "# CNLS_cost_vrs\n",
    "\n",
    "fun = \"cost\"\n",
    "rts = \"vrs\"\n",
    "cet = \"addi\"\n",
    "model = CNLS.cnls(y, x, cet, fun, rts)\n",
    "\n",
    "from pyomo.opt import SolverFactory\n",
    "opt = SolverFactory('gams')\n",
    "results = opt.solve(model, solver='mosek')\n",
    "\n",
    "# retrive the residuals\n",
    "val = list(model.e[:].value)\n",
    "eps = np.asarray(val)\n",
    "\n",
    "# decomposition by method od moment (MoM)\n",
    "method      = 'MoM'\n",
    "TE          = StoNED.stoned(y, eps, fun, method, cet)\n",
    "TE"
   ]
  },
  {
   "cell_type": "code",
   "execution_count": 5,
   "metadata": {},
   "outputs": [
    {
     "data": {
      "text/plain": [
       "array([0.79212675, 0.69887672, 0.8379623 , 0.80375889, 0.48703223,\n",
       "       0.48703223, 0.76867622, 0.76324814, 0.57095522, 0.63391419])"
      ]
     },
     "execution_count": 5,
     "metadata": {},
     "output_type": "execute_result"
    }
   ],
   "source": [
    "# CNLS_prod_crs\n",
    "\n",
    "fun = \"prod\"\n",
    "rts = \"crs\"\n",
    "cet = \"mult\"\n",
    "model = CNLS.cnls(y, x, cet, fun, rts)\n",
    "\n",
    "from pyomo.opt import SolverFactory\n",
    "opt = SolverFactory('gams')\n",
    "results = opt.solve(model, solver='minos')\n",
    "\n",
    "# retrive the residuals\n",
    "val = list(model.e[:].value)\n",
    "eps = np.asarray(val)\n",
    "\n",
    "# decomposition by method od moment (MoM)\n",
    "method      = 'MoM'\n",
    "TE          = StoNED.stoned(y, eps, fun, method, cet)\n",
    "TE"
   ]
  },
  {
   "cell_type": "code",
   "execution_count": 6,
   "metadata": {},
   "outputs": [
    {
     "data": {
      "text/plain": [
       "array([0.97103604, 0.97188218, 0.97041571, 0.97089833, 0.97325513,\n",
       "       0.97325513, 0.97128519, 0.97133838, 0.97273242, 0.97233413])"
      ]
     },
     "execution_count": 6,
     "metadata": {},
     "output_type": "execute_result"
    }
   ],
   "source": [
    "# CNLS_cost_crs\n",
    "\n",
    "fun = \"cost\"\n",
    "rts = \"crs\"\n",
    "cet = \"mult\"\n",
    "model = CNLS.cnls(y, x, cet, fun, rts)\n",
    "\n",
    "from pyomo.opt import SolverFactory\n",
    "opt = SolverFactory('gams')\n",
    "results = opt.solve(model, solver='minos')\n",
    "\n",
    "# retrive the residuals\n",
    "val = list(model.e[:].value)\n",
    "eps = np.asarray(val)\n",
    "\n",
    "# decomposition by method od moment (MoM)\n",
    "method      = 'MoM'\n",
    "TE          = StoNED.stoned(y, eps, fun, method, cet)\n",
    "TE"
   ]
  }
 ],
 "metadata": {
  "kernelspec": {
   "display_name": "Python 3",
   "language": "python",
   "name": "python3"
  },
  "language_info": {
   "codemirror_mode": {
    "name": "ipython",
    "version": 3
   },
   "file_extension": ".py",
   "mimetype": "text/x-python",
   "name": "python",
   "nbconvert_exporter": "python",
   "pygments_lexer": "ipython3",
   "version": "3.7.7"
  }
 },
 "nbformat": 4,
 "nbformat_minor": 4
}
