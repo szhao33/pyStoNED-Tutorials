{
 "cells": [
  {
   "cell_type": "markdown",
   "metadata": {},
   "source": [
    "# [`pyStoNED`](https://pypi.org/project/pystoned/): Function list"
   ]
  },
  {
   "cell_type": "markdown",
   "metadata": {},
   "source": [
    "## Main functions"
   ]
  },
  {
   "cell_type": "markdown",
   "metadata": {},
   "source": [
    "- [`cnls()`](https://github.com/ds2010/StoNED-Python/blob/master/pystoned/CNLS.py) function\n",
    "\n",
    "    Returns the Convex Nonparametric Least Square (`CNLS`) estimates with a specific function, error term, and returns to scale. This function is the fundamental function in the entire pyStoNED package.\n",
    "\n",
    "    **Syntax**\n",
    "\n",
    "    cnls(y, x, crt, func, pps)\n",
    "\n",
    "    The `cnls()` function syntax has the following arguments:\n",
    "    \n",
    "     + **y**  Required. Output variable.\n",
    "     + **x**  Required. Input variable.\n",
    "     + **crt**   Required. crt = \"addi\", additive composite error term; crt = \"mult\", multiplicative composite error term.\n",
    "     + **func**  Required. func = \"prod\", production frontier; func = \"cost\", cost frontier.\n",
    "     + **pps**   Required. pps = \"vrs\", variable returns to scale; pps = \"crs\", constant returns to scale."
   ]
  },
  {
   "cell_type": "markdown",
   "metadata": {},
   "source": [
    "+ [`stoned()`](https://github.com/ds2010/StoNED-Python/blob/master/pystoned/StoNED.py) function\n",
    "\n",
    "    Returns the technical inefficiency with a specific function, decomposition methods, and error term. This function is used to decompose the residual and also is the fundamental function in the entire [`pyStoNED`](https://pypi.org/project/pystoned/) package.\n",
    "    \n",
    "    **Syntax**\n",
    "\n",
    "    stoned(y, eps, func, method, crt)\n",
    "\n",
    "    The `stoned()` function syntax has the following arguments:\n",
    "    \n",
    "    + **y**  Required. Output variable.\n",
    "    + **eps** Required. Residuals estimated by function `cnls()` or other functions such as `cnlsz()`.\n",
    "    + **func**  Required. func = \"prod\", production frontier; func = \"cost\", cost frontier.\n",
    "    + **method** Required. method = \"MOM\", residual decomposition by method of moments;  method = \"QLE\", residual decomposition by quasi-likelihood estimation; method = \"NKD\", residual decomposition by Nonparametric kernel deconvolution.\n",
    "    + **crt**   Required. crt = \"addi\", additive composite error term; crt = \"mult\", multiplicative composite error term.     "
   ]
  },
  {
   "cell_type": "markdown",
   "metadata": {},
   "source": [
    "+ [`cnlsz()`](https://github.com/ds2010/StoNED-Python/blob/master/pystoned/CNLSZ.py) function\n",
    "    \n",
    "    Returns the Convex Nonparametric Least Square (CNLS) estimates with a specific function, error term, and returns to scale. This function is the first step when using the stochastic semi-nonparametric envelopment of z variables data (`StoNEZD`).\n",
    "\n",
    "    **Syntax**\n",
    "\n",
    "    cnlsz(y, x, z, crt, func, pps)\n",
    "\n",
    "    The `cnlsz()` function syntax has the following arguments:\n",
    "    \n",
    "     + **y**  Required. Output variable.\n",
    "     + **x**  Required. Input variable.\n",
    "     + **z**  Required. Z variable (contextual variable).\n",
    "     + **crt**   Required. crt = \"addi\", additive composite error term; crt = \"mult\", multiplicative composite error term.\n",
    "     + **func**  Required. func = \"prod\", production frontier; func = \"cost\", cost frontier.\n",
    "     + **pps**   Required. pps = \"vrs\", variable returns to scale; pps = \"crs\", constant returns to scale."
   ]
  },
  {
   "cell_type": "markdown",
   "metadata": {},
   "source": [
    "+ [`icnls()`](https://github.com/ds2010/StoNED-Python/blob/master/pystoned/ICNLS.py) function\n",
    "\n",
    "    Returns the Isotonic Convex Nonparametric Least Square estimates with a specific function, error term, and returns to scale. This function is the convexity relaxed `CNLS()` and can be directly compared with `FDH` estimator. \n",
    "    \n",
    "    **Syntax**\n",
    "\n",
    "    icnls(y, x, p, crt, func, pps)\n",
    "\n",
    "    The `icnls()` function syntax has the following arguments:\n",
    "    \n",
    "     + **y**  Required. Output variable.\n",
    "     + **x**  Required. Input variable.\n",
    "     + **crt**   Required. crt = \"addi\", additive composite error term; crt = \"mult\", multiplicative composite error term.\n",
    "     + **func**  Required. func = \"prod\", production frontier; func = \"cost\", cost frontier.\n",
    "     + **pps**   Required. pps = \"vrs\", variable returns to scale; pps = \"crs\", constant returns to scale.\n"
   ]
  },
  {
   "cell_type": "markdown",
   "metadata": {},
   "source": [
    "+ [`ceqr()`](https://github.com/ds2010/StoNED-Python/blob/master/pystoned/CQER.py) function\n",
    "\n",
    "    Returns the Convex quantile/expectile regression (`CQR` and `CER`) estimates with a specific function, error term, and returns to scale.\n",
    "    \n",
    "    **Syntax**\n",
    "\n",
    "    cqer(y, x, tau, crt, func, pps, tile)\n",
    "\n",
    "    The `ceqr()` function syntax has the following arguments:\n",
    "    \n",
    "     + **y**  Required. Output variable.\n",
    "     + **x**  Required. Input variable.\n",
    "     + **tau** Required. Scalar value (e.g., tau = 0.5).\n",
    "     + **crt**   Required. crt = \"addi\", additive composite error term; crt = \"mult\", multiplicative composite error term.\n",
    "     + **func**  Required. func = \"prod\", production frontier; func = \"cost\", cost frontier.\n",
    "     + **pps**   Required. pps = \"vrs\", variable returns to scale; pps = \"crs\", constant returns to scale.\n",
    "     + **tile**  Required. tile = \"quantile\", quantile regression; tile = \"expectile\", expectile regression.\n"
   ]
  },
  {
   "cell_type": "markdown",
   "metadata": {},
   "source": [
    "+ [`dea()`](https://github.com/ds2010/StoNED-Python/blob/master/pystoned/DEA.py) function\n",
    "    \n",
    "    Returns the radial Data Envolpment Anaylsis (`DEA`) model estimates.\n",
    "    \n",
    "    **Syntax**\n",
    "\n",
    "    dea(y, x, orient, rts)\n",
    "\n",
    "    The `dea()` function syntax has the following arguments:\n",
    "    \n",
    "     + **y**  Required. Output variable.\n",
    "     + **x**  Required. Input variable.\n",
    "     + **orient**  Required. orient=\"io\", input orientation; orient=\"oo\", output orientation.\n",
    "     + **rts**  Required. rts=\"vrs\", variable returns to scale; rts=\"crs\", constant returns to scale."
   ]
  },
  {
   "cell_type": "markdown",
   "metadata": {},
   "source": [
    "+ [`deaddf()`](https://github.com/ds2010/StoNED-Python/blob/master/pystoned/DEA.py) function\n",
    "    \n",
    "    Returns the directional Data Envolpment Anaylsis (`DEA`) model (DEA-DDF) estimates.\n",
    "    \n",
    "    **Syntax**\n",
    "\n",
    "    deaddf(y, x, gx, gy, rts)\n",
    "\n",
    "    The `dea()` function syntax has the following arguments:\n",
    "    \n",
    "     + **y**  Required. Output variable.\n",
    "     + **x**  Required. Input variable.\n",
    "     + **gx**  Required. Input vector (e.g., gx =[1.0, 1.0]).\n",
    "     + **gy**  Required. Output vector (e.g., gy = 0.0 or gy = [0.0, 0.0]).\n",
    "     + **rts**  Required. rts=\"vrs\", variable returns to scale; rts=\"crs\", constant returns to scale."
   ]
  },
  {
   "cell_type": "markdown",
   "metadata": {},
   "source": [
    "+ [`dea2cnls()`](https://github.com/ds2010/StoNED-Python/blob/master/pystoned/DEA2CNLS.py) function\n",
    "\n",
    "    Returns the first stage of Corrected Convex Nonparametric Least Squares (`C2NLS`) estimates.\n",
    "    \n",
    "    **Syntax**\n",
    "\n",
    "    dea2cnls(y, x)\n",
    "\n",
    "    The `dea2cnls()` function syntax has the following arguments:\n",
    "    \n",
    "     + **y**  Required. Output variable.\n",
    "     + **x**  Required. Input variable."
   ]
  },
  {
   "cell_type": "markdown",
   "metadata": {},
   "source": [
    "+ [`ccnls()`](https://github.com/ds2010/StoNED-Python/blob/master/pystoned/CCNLS.py) function\n",
    "\n",
    " Returns the sencond stage of Corrected Convex Nonparametric Least Squares (`C2NLS`) estimates, including the adjusted residual and the constant term.\n",
    "    \n",
    "    **Syntax**\n",
    "\n",
    "    ccnls2(eps, alpha)\n",
    "\n",
    "    The `ccnls2()` function syntax has the following arguments:\n",
    "    \n",
    "     + **eps**  Required. Residual estimated by `ccnls()` function.\n",
    "     + **alpha**  Required. Constant term estimated by `ccnls()` function."
   ]
  },
  {
   "cell_type": "markdown",
   "metadata": {},
   "source": [
    "+ [cnlsddf()](https://github.com/ds2010/StoNED-Python/blob/master/pystoned/CNLSDDF.py) function\n",
    "\n",
    " Returns the directional distance function estimates without undesirable outputs.\n",
    "    \n",
    "    **Syntax**\n",
    "\n",
    "    cnlsddf(y, x, func, gx, gy)\n",
    "\n",
    "    The `cnlsddf()` function syntax has the following arguments:\n",
    "    \n",
    "     + **y**  Required. Output variable.\n",
    "     + **x**  Required. Input variable.\n",
    "     + **func**  Required. func = \"prod\", production frontier; func = \"cost\", cost frontier.\n",
    "     + **gx**  Required. Intput vector (e.g., gx =[1.0, 1.0]).\n",
    "     + **gy**  Required. Output vector (e.g., gy = 0.0 or gy = [0.0, 0.0])."
   ]
  },
  {
   "cell_type": "markdown",
   "metadata": {},
   "source": [
    "+ [`cnlsddfb()`](https://github.com/ds2010/StoNED-Python/blob/master/pystoned/CNLSDDFb.py) function\n",
    "\n",
    " Returns the directional distance function estimates with undesirable outputs.\n",
    "    \n",
    "    **Syntax**\n",
    "\n",
    "    cnlsddfb(y, x, b, func, gx, gb, gy)\n",
    "\n",
    "    The `cnlsddfb()` function syntax has the following arguments:\n",
    "    \n",
    "     + **y**  Required. Output variable.\n",
    "     + **x**  Required. Input variable.\n",
    "     + **b**  Required. Undesirable output variable.\n",
    "     + **func**  Required. func = \"prod\", production frontier; func = \"cost\", cost frontier.\n",
    "     + **gx**  Required. Undesirable output vector (e.g., gx = [1.0, 1.0]).\n",
    "     + **gb**  Required. Output vector (e.g., gb = 0.0 or gb = [0.0, 0.0]).\n",
    "     + **gy**  Required. Output vector (e.g., gy = 0.0 or gy = [0.0, 0.0])."
   ]
  },
  {
   "cell_type": "markdown",
   "metadata": {},
   "source": [
    "## Auxiliary functions"
   ]
  },
  {
   "cell_type": "markdown",
   "metadata": {},
   "source": [
    "+ [`qlep()`](https://github.com/ds2010/StoNED-Python/blob/master/pystoned/qle.py) function\n",
    "        \n",
    "    Returns the quasi-Likelihood function for production function residuals given normal-half normal distribution and parameter lambda. This function is used to decompose the residual and estimate the parameters $\\sigma_u$ and $\\sigma_v$. \n",
    "    \n",
    "    **Syntax**\n",
    "\n",
    "    qlep(lamda, eps)\n",
    "\n",
    "    The `qlep()` function syntax has the following arguments:\n",
    "    \n",
    "     + **lambda**  Required. Signal to noise ratio.\n",
    "     + **eps**  Required. Residuals estimated by function `cnls()` or other functions such as `cnlsz()`."
   ]
  },
  {
   "cell_type": "markdown",
   "metadata": {},
   "source": [
    "+ [`qlec()`](https://github.com/ds2010/StoNED-Python/blob/master/pystoned/qle.py) function\n",
    "        \n",
    "    Returns the quasi-Likelihood function for cost function residuals given normal-half normal distribution and parameter lambda. This function is used to decompose the residual and estimate the parameters $\\sigma_u$ and $\\sigma_v$. \n",
    "    \n",
    "    **Syntax**\n",
    "\n",
    "    qlec(lamda, eps)\n",
    "\n",
    "    The `qlec()` function syntax has the following arguments:\n",
    "    \n",
    "     + **lambda**  Required. Signal to noise ratio.\n",
    "     + **eps**  Required. Residuals estimated by function `cnls()` or other functions such as `cnlsz()`."
   ]
  },
  {
   "cell_type": "markdown",
   "metadata": {},
   "source": [
    "+ [`bimatp()`](https://github.com/ds2010/StoNED-Python/blob/master/pystoned/biMatP.py) function\n",
    "\n",
    "    Returns the binary matrix $P_{ih}$. This dominance matrix is used to relax convexity when being multiplied by both side of the Afriat inequalities constraint.\n",
    "    \n",
    "    **Syntax**\n",
    "\n",
    "    bimatp(x)\n",
    "\n",
    "    The `bimatp()` function syntax has the following arguments:\n",
    "    \n",
    "     + **x**  Required. Input variable."
   ]
  },
  {
   "cell_type": "markdown",
   "metadata": {},
   "source": [
    "+ [`dv()`](https://github.com/ds2010/StoNED-Python/blob/master/pystoned/directV.py) function\n",
    "\n",
    "    Returns the directional vectors without undesirable outputs. This function is used to create the directional vectors that are the arguments in `CNLSDDF()`, `CQRDDF()`, `CERDDF()`, and `DEADDF()` functions.\n",
    "    \n",
    "    **Syntax**\n",
    "\n",
    "    dv(gx, gy, n, m, p)\n",
    "\n",
    "    The `dv()` function syntax has the following arguments:\n",
    "    \n",
    "     + **gx**  Required. Input vector.\n",
    "     + **gy**  Required. Output vector.\n",
    "     + **n**  Required. Number of DMUS.\n",
    "     + **m**  Required. Number of inputs.\n",
    "     + **p**  Required. Number of outputs."
   ]
  },
  {
   "cell_type": "markdown",
   "metadata": {},
   "source": [
    "+ [`dvb()`](https://github.com/ds2010/StoNED-Python/blob/master/pystoned/directV.py) function\n",
    "\n",
    "    Returns the directional vectors with undesirable outputs. This function is used to create the directional vectors that are the arguments in `CNLSDDFb()`, `CQRDDFb()`, `CERDDFb()`, and `DEADDFb()` functions.\n",
    "    \n",
    "    **Syntax**\n",
    "\n",
    "    dvb(gx, gb, gy, n, m, q, p)\n",
    "\n",
    "    The `dvb()` function syntax has the following arguments:\n",
    "    \n",
    "     + **gx**  Required. Input vector.\n",
    "     + **gb**  Required. Undesirable output vector.\n",
    "     + **gy**  Required. Output vector.\n",
    "     + **n**  Required. Number of DMUS.\n",
    "     + **m**  Required. Number of inputs.\n",
    "     + **q**  Required. Number of undesirable outputs.\n",
    "     + **p**  Required. Number of outputs."
   ]
  },
  {
   "cell_type": "markdown",
   "metadata": {},
   "source": [
    "+ [`dvx()`](https://github.com/ds2010/StoNED-Python/blob/master/pystoned/directV.py) function\n",
    "\n",
    "    Returns the general directional vectors. This function is used to create the directional vectors that are the arguments in `QDDF()` function.\n",
    "    \n",
    "    **Syntax**\n",
    "\n",
    "    dvx(gx, n)\n",
    "\n",
    "    The `dvx()` function syntax has the following arguments:\n",
    "    \n",
    "     + **gx**  Required. Input vector.\n",
    "     + **n**  Required. Number of observations."
   ]
  }
 ],
 "metadata": {
  "kernelspec": {
   "display_name": "Python 3",
   "language": "python",
   "name": "python3"
  },
  "language_info": {
   "codemirror_mode": {
    "name": "ipython",
    "version": 3
   },
   "file_extension": ".py",
   "mimetype": "text/x-python",
   "name": "python",
   "nbconvert_exporter": "python",
   "pygments_lexer": "ipython3",
   "version": "3.7.7"
  }
 },
 "nbformat": 4,
 "nbformat_minor": 4
}
