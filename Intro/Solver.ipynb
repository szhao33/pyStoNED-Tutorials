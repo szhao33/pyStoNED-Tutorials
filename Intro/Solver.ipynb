{
 "cells": [
  {
   "cell_type": "markdown",
   "metadata": {},
   "source": [
    "# `pyStoNED`: Solver"
   ]
  },
  {
   "cell_type": "markdown",
   "metadata": {},
   "source": [
    "To estimate the `StoNED`-related models, we usually use three types of solvers: linear programming solver (LP-solver), quadratic programming solver (QP-solver), and nonlinear programming solver (NLP-solver). In the `pyStoNED` package, we can import these different solvers locally or remotely. Specifically,\n",
    "\n",
    "  1. For remote solvers, we usually rely on the solvers provided by the [NEOS server](https://neos-guide.org/neos-interfaces#pyomo), and we can choose such solvers as \"cplex\", \"mosek\", \"minos\", and \"knitro\". The first two solvers can be used to calculate the LP models, the last two can be used to estimate the NLP models, and the second is more suit for the QP models. However, sometimes, the NEOS server is not so stable, and some unknown errors could appear. \n",
    "\n",
    "  2. For local solvers, we can use the solvers embodied in [GAMS](https://www.gams.com/latest/docs/S_MAIN.html) or API solvers (e.g., [MOSEK](https://docs.mosek.com/9.2/pythonapi/index.html)). Compared with the remote solvers, the local solver is pretty robust to performance, but the amount of solvers is limit.  \n",
    "\n",
    "Note that when fitting a large sample of DMUs, we have to compare the performance of each solver and choose a suitable one."
   ]
  },
  {
   "cell_type": "markdown",
   "metadata": {},
   "source": [
    "### Using remote solver"
   ]
  },
  {
   "cell_type": "code",
   "execution_count": null,
   "metadata": {},
   "outputs": [],
   "source": [
    "# NEOS\n",
    "from pyomo.environ import SolverManagerFactory\n",
    "solver_manager = SolverManagerFactory('neos')\n",
    "results = solver_manager.solve(model, opt='knitro', tee=True)"
   ]
  },
  {
   "cell_type": "markdown",
   "metadata": {},
   "source": [
    "### Using local solver"
   ]
  },
  {
   "cell_type": "code",
   "execution_count": null,
   "metadata": {},
   "outputs": [],
   "source": [
    "# GAMS\n",
    "from pyomo.opt import SolverFactory\n",
    "opt = SolverFactory('gams')\n",
    "results = opt.solve(model, solver='cplex', tee=True)"
   ]
  },
  {
   "cell_type": "code",
   "execution_count": null,
   "metadata": {},
   "outputs": [],
   "source": [
    "# MOSEK Optimizer API for Python\n",
    "from pyomo.opt import SolverFactory\n",
    "opt = SolverFactory(\"mosek\")\n",
    "results = opt.solve(model, tee=True)"
   ]
  },
  {
   "cell_type": "markdown",
   "metadata": {},
   "source": [
    "### MOSEK Optimizer API Installation"
   ]
  },
  {
   "cell_type": "markdown",
   "metadata": {},
   "source": [
    "1. Requrest Personal Academic License [MOSEK-Academic License](https://www.mosek.com/license/request/?i=acp).\n",
    "\n",
    "2. Save the license file under the user's home directory with a folder named \"mosek\". For example:\n",
    "    - Windows: c:\\users\\xxxx\\mosek\\mosek.lic\n",
    "    - Unix/OS X: /home/xxxx/mosek/mosek.lic\n",
    "    \n",
    "  Note: xxxx is the User ID on the computer\n",
    "  \n",
    "3. Install mosek Package\n",
    "    - pip: pip install Mosek \n",
    "    - anconda: conda install -c mosek mosek\n",
    "    \n",
    "4. Testing the Installation\n",
    "    - start Python and try: import mosek\n",
    "\n",
    "More detailed installation process can be seen in [MOSEK docs](https://docs.mosek.com/9.2/pythonapi/install-interface.html)."
   ]
  }
 ],
 "metadata": {
  "kernelspec": {
   "display_name": "Python 3",
   "language": "python",
   "name": "python3"
  },
  "language_info": {
   "codemirror_mode": {
    "name": "ipython",
    "version": 3
   },
   "file_extension": ".py",
   "mimetype": "text/x-python",
   "name": "python",
   "nbconvert_exporter": "python",
   "pygments_lexer": "ipython3",
   "version": "3.7.6"
  }
 },
 "nbformat": 4,
 "nbformat_minor": 4
}
