{
  "nbformat": 4,
  "nbformat_minor": 0,
  "metadata": {
    "colab": {
      "name": "list_of_acronyms.ipynb",
      "provenance": [],
      "collapsed_sections": [],
      "mount_file_id": "1OuNroiO6nWn-JVhJShHY3F52zGlI3UL7",
      "authorship_tag": "ABX9TyPPStVlxm/9YmUlEwWaBkaa",
      "include_colab_link": true
    },
    "kernelspec": {
      "name": "python3",
      "display_name": "Python 3"
    }
  },
  "cells": [
    {
      "cell_type": "markdown",
      "metadata": {
        "id": "view-in-github",
        "colab_type": "text"
      },
      "source": [
        "<a href=\"https://colab.research.google.com/github/ds2010/StoNED-Python/blob/master/Tutorials/list_of_acronyms.ipynb\" target=\"_parent\"><img src=\"https://colab.research.google.com/assets/colab-badge.svg\" alt=\"Open In Colab\"/></a>"
      ]
    },
    {
      "cell_type": "markdown",
      "metadata": {
        "id": "2T0MZvhJ_v9J",
        "colab_type": "text"
      },
      "source": [
        "# List of Acronyms"
      ]
    },
    {
      "cell_type": "markdown",
      "metadata": {
        "id": "DiAFSTigClAF",
        "colab_type": "text"
      },
      "source": [
        "* C2NLS Corrected Convex Nonparametric Least Squares\n",
        "* CER   Convex Expectile Regression\n",
        "* CNLS  Convex Nonparametric Least Squares\n",
        "* CQR   Convex Quantile Regression\n",
        "* CRS   Constant Returns to Scale\n",
        "* DEA   Data Envelopment Analysis\n",
        "* DMU   Decision-Making Unit\n",
        "* MoM   Method of Moments\n",
        "* ICNLS Isotonic Convex Nonparametric Least Square\n",
        "* StoNED  Stochastic Nonparametric Envelopment of Data\n",
        "* StoNEZD Stochastic Semi-nonparametric Envelopment of Z Variables Data\n",
        "* VRS   Variable Returns to Scale"
      ]
    }
  ]
}