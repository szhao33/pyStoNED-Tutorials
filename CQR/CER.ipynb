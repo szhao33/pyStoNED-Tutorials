{
 "cells": [
  {
   "cell_type": "markdown",
   "metadata": {},
   "source": [
    "# Convex expectile regression"
   ]
  },
  {
   "cell_type": "markdown",
   "metadata": {},
   "source": [
    "   + Author : Sheng Dai (sheng.dai@aalto.fi)\n",
    "   + Date : June 12, 2020\n",
    "\n",
    "References:\n",
    "\n",
    "[1] Kuosmanen, T., Zhou, X. and Dai, S. (2020). How much climate policy has cost for OECD countries?, World Development, 125, p. 104681.\n",
    "\n",
    "[2] Dai, S., Zhou, X. and Kuosmanen, T. (2020). Forward-looking assessment of the GHG abatement cost: Application to China, Energy Economics, 88, p. 104758."
   ]
  },
  {
   "cell_type": "code",
   "execution_count": null,
   "metadata": {},
   "outputs": [],
   "source": [
    "from pystoned import CQER\n",
    "import pandas as pd\n",
    "import numpy as np"
   ]
  },
  {
   "cell_type": "code",
   "execution_count": null,
   "metadata": {},
   "outputs": [],
   "source": [
    "# import data\n",
    "url = 'https://raw.githubusercontent.com/ds2010/pyStoNED-Tutorials/master/Data/data.csv'\n",
    "df = pd.read_csv(url, error_bad_lines=False)"
   ]
  },
  {
   "cell_type": "code",
   "execution_count": null,
   "metadata": {},
   "outputs": [],
   "source": [
    "# output\n",
    "y  = df['TOTEX']\n",
    "\n",
    "# inputs\n",
    "x1  = df['Energy']\n",
    "x1  = np.asmatrix(x1).T\n",
    "x2  = df['Length']\n",
    "x2  = np.asmatrix(x2).T\n",
    "x3  = df['Customers']\n",
    "x3  = np.asmatrix(x3).T\n",
    "x   = np.concatenate((x1, x2, x3), axis=1)"
   ]
  },
  {
   "cell_type": "code",
   "execution_count": null,
   "metadata": {},
   "outputs": [],
   "source": [
    "# calculate the quantile model\n",
    "cet   = \"mult\"\n",
    "fun   = \"cost\"\n",
    "rts   = \"crs\"\n",
    "tau   = 0.9\n",
    "\n",
    "model = CQER.cqr(y, x, tau, cet, fun, rts)\n",
    "\n",
    "from pyomo.environ import SolverManagerFactory\n",
    "solver_manager = SolverManagerFactory('neos')\n",
    "results = solver_manager.solve(model, opt='knitro', tee=True)"
   ]
  },
  {
   "cell_type": "code",
   "execution_count": null,
   "metadata": {},
   "outputs": [],
   "source": [
    "# display estiamtes\n",
    "model.em.display()\n",
    "model.ep.display() \n",
    "model.b.display() "
   ]
  },
  {
   "cell_type": "code",
   "execution_count": null,
   "metadata": {},
   "outputs": [],
   "source": [
    "# retrive the residuals (eminos)\n",
    "val = list(model.em[:].value)\n",
    "eminos = np.asarray(val)\n",
    "eminos"
   ]
  },
  {
   "cell_type": "code",
   "execution_count": null,
   "metadata": {},
   "outputs": [],
   "source": [
    "# retrive the residuals (eplus)\n",
    "val = list(model.ep[:].value)\n",
    "eplus = np.asarray(val)\n",
    "eplus"
   ]
  },
  {
   "cell_type": "code",
   "execution_count": null,
   "metadata": {},
   "outputs": [],
   "source": [
    "# retrive the beta\n",
    "ind = list(model.b)\n",
    "val = list(model.b[:,:].value)\n",
    "beta= np.asarray([ i + tuple([j]) for i, j in zip(ind, val)]) \n",
    "\n",
    "import pandas as pd\n",
    "beta = pd.DataFrame(beta, columns = ['Name', 'Key', 'Value'])\n",
    "beta = beta.pivot(index='Name', columns='Key', values='Value')\n",
    "beta.columns = ['b1', 'b2', 'b3']\n",
    "\n",
    "beta"
   ]
  }
 ],
 "metadata": {
  "kernelspec": {
   "display_name": "Python 3",
   "language": "python",
   "name": "python3"
  },
  "language_info": {
   "codemirror_mode": {
    "name": "ipython",
    "version": 3
   },
   "file_extension": ".py",
   "mimetype": "text/x-python",
   "name": "python",
   "nbconvert_exporter": "python",
   "pygments_lexer": "ipython3",
   "version": "3.7.6"
  }
 },
 "nbformat": 4,
 "nbformat_minor": 4
}
