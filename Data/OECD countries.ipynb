{
 "cells": [
  {
   "cell_type": "markdown",
   "metadata": {},
   "source": [
    "### GHG abatement cost of OECD countries\n",
    "    \n",
    "    data from: Timo Kuosmanen (timo.kuosmanen@aalto.fi)\n",
    "               Sheng Dai (sheng.dai@aalto.fi)"
   ]
  },
  {
   "cell_type": "markdown",
   "metadata": {},
   "source": [
    "### Input-output variables"
   ]
  },
  {
   "cell_type": "markdown",
   "metadata": {},
   "source": [
    "+ Capital input $K$\n",
    "    + net capital stock (`CPNK`) (in billion $\\text{Euro}^{2010}$). \n",
    "\n",
    "+ Labor input $L$\n",
    "    + hours worked by total engaged (`HRSN`) (billion hours).\n",
    "    \n",
    "+ Good output $y$\n",
    "    + value added (`VALK`), billion $\\text{Euro}^{2010}$\n",
    "    \n",
    "+ Bad output $b$\n",
    "    + total GHG emissions(`GHG`), million tons of ${CO}_2$ equivalents"
   ]
  },
  {
   "cell_type": "markdown",
   "metadata": {},
   "source": [
    "#### References"
   ]
  },
  {
   "cell_type": "markdown",
   "metadata": {},
   "source": [
    "[1] Kuosmanen, T., Zhou, X. and Dai, S. (2020). How much climate policy has cost for OECD countries? World Development, 125, p. 104681."
   ]
  }
 ],
 "metadata": {
  "kernelspec": {
   "display_name": "Python 3",
   "language": "python",
   "name": "python3"
  },
  "language_info": {
   "codemirror_mode": {
    "name": "ipython",
    "version": 3
   },
   "file_extension": ".py",
   "mimetype": "text/x-python",
   "name": "python",
   "nbconvert_exporter": "python",
   "pygments_lexer": "ipython3",
   "version": "3.7.6"
  }
 },
 "nbformat": 4,
 "nbformat_minor": 4
}
