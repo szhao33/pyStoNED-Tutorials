{
 "cells": [
  {
   "cell_type": "markdown",
   "metadata": {},
   "source": [
    "### Regulation of Finnish electricity distribution firms \n",
    "    \n",
    "    data from: Timo Kuosmanen (timo.kuosmanen@aalto.fi)"
   ]
  },
  {
   "cell_type": "markdown",
   "metadata": {},
   "source": [
    "#### Input-output variables"
   ]
  },
  {
   "cell_type": "markdown",
   "metadata": {},
   "source": [
    "+ Input variables: \n",
    "    + the controllable operational expenditure (`OPEX`)\n",
    "    + the total capital expenditure (`CAPEX`)\n",
    "    + the total expenditure (`TOTEX`)\n",
    "    \n",
    "+ output variables: \n",
    "    + the weighted amount of energy transmitted through the network GWh (`Energy`)\n",
    "    + the total length of the network km (`Length`)\n",
    "    + the total number of customers connected to the network (`Customers`)\n",
    "+ contextual variable: \n",
    "    + Underground cabling (`PerUndGr`)"
   ]
  },
  {
   "cell_type": "markdown",
   "metadata": {},
   "source": [
    "#### Reference"
   ]
  },
  {
   "cell_type": "markdown",
   "metadata": {},
   "source": [
    "[1] Kuosmanen, T. (2012) Stochastic semi-nonparametric frontier estimation of electricity distribution networks: Application of the StoNED method in the Finnish regulatory model, Energy Economics. 34, pp. 2189–2199.\n",
    "\n",
    "[2] Kuosmanen, T., Saastamoinen, A. and Sipiläinen, T. (2013) What is the best practice for benchmark regulation of electricity distribution? Comparison of DEA, SFA and StoNED methods, Energy Policy. 61, pp. 740–750."
   ]
  }
 ],
 "metadata": {
  "kernelspec": {
   "display_name": "Python 3",
   "language": "python",
   "name": "python3"
  },
  "language_info": {
   "codemirror_mode": {
    "name": "ipython",
    "version": 3
   },
   "file_extension": ".py",
   "mimetype": "text/x-python",
   "name": "python",
   "nbconvert_exporter": "python",
   "pygments_lexer": "ipython3",
   "version": "3.7.6"
  }
 },
 "nbformat": 4,
 "nbformat_minor": 4
}
