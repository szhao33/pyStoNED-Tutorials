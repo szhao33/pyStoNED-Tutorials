{
 "cells": [
  {
   "cell_type": "markdown",
   "metadata": {},
   "source": [
    "# Isotonic Convex Expectile Regression (ICER)"
   ]
  },
  {
   "cell_type": "markdown",
   "metadata": {},
   "source": [
    "- Author: Sheng Dai (sheng.dai@aalto.fi)\n",
    "- Date  : July 30, 2020\n",
    "\n",
    "Reference:\n",
    "\n",
    "[1] Kuosmanen T., Dai S., Zhou X. Partial frontiers are not quantiles. Unpublished working paper (available from the authors by request)."
   ]
  },
  {
   "cell_type": "code",
   "execution_count": 1,
   "metadata": {},
   "outputs": [],
   "source": [
    "import pandas as pd\n",
    "import numpy as np"
   ]
  },
  {
   "cell_type": "code",
   "execution_count": 2,
   "metadata": {},
   "outputs": [],
   "source": [
    "# import the package pystoned\n",
    "from pystoned import ICQER"
   ]
  },
  {
   "cell_type": "code",
   "execution_count": 3,
   "metadata": {},
   "outputs": [],
   "source": [
    "# import Finnish electricity distribution firms data\n",
    "url = 'https://raw.githubusercontent.com/ds2010/pyStoNED-Tutorials/master/Data/firms.csv'\n",
    "df = pd.read_csv(url, error_bad_lines=False)"
   ]
  },
  {
   "cell_type": "code",
   "execution_count": 4,
   "metadata": {},
   "outputs": [],
   "source": [
    "# output\n",
    "y = df['Energy']\n",
    "\n",
    "# inputs\n",
    "x1 = df['OPEX']\n",
    "x1 = np.asmatrix(x1).T\n",
    "x2 = df['CAPEX']\n",
    "x2 = np.asmatrix(x2).T\n",
    "x = np.concatenate((x1, x2), axis=1)"
   ]
  },
  {
   "cell_type": "code",
   "execution_count": 6,
   "metadata": {},
   "outputs": [
    {
     "name": "stdout",
     "output_type": "stream",
     "text": [
      "Problem\n",
      "  Name                   :                 \n",
      "  Objective sense        : min             \n",
      "  Type                   : QO (quadratic optimization problem)\n",
      "  Constraints            : 3714            \n",
      "  Cones                  : 0               \n",
      "  Scalar variables       : 534             \n",
      "  Matrix variables       : 0               \n",
      "  Integer variables      : 0               \n",
      "\n",
      "Optimizer started.\n",
      "Quadratic to conic reformulation started.\n",
      "Quadratic to conic reformulation terminated. Time: 0.02    \n",
      "Presolve started.\n",
      "Linear dependency checker started.\n",
      "Linear dependency checker terminated.\n",
      "Eliminator started.\n",
      "Freed constraints in eliminator : 35\n",
      "Eliminator terminated.\n",
      "Eliminator - tries                  : 1                 time                   : 0.00            \n",
      "Lin. dep.  - tries                  : 1                 time                   : 0.00            \n",
      "Lin. dep.  - number                 : 0               \n",
      "Presolve terminated. Time: 0.00    \n",
      "Problem\n",
      "  Name                   :                 \n",
      "  Objective sense        : min             \n",
      "  Type                   : QO (quadratic optimization problem)\n",
      "  Constraints            : 3714            \n",
      "  Cones                  : 0               \n",
      "  Scalar variables       : 534             \n",
      "  Matrix variables       : 0               \n",
      "  Integer variables      : 0               \n",
      "\n",
      "Optimizer  - threads                : 4               \n",
      "Optimizer  - solved problem         : the dual        \n",
      "Optimizer  - Constraints            : 407\n",
      "Optimizer  - Cones                  : 2\n",
      "Optimizer  - Scalar variables       : 4212              conic                  : 234             \n",
      "Optimizer  - Semi-definite variables: 0                 scalarized             : 0               \n",
      "Factor     - setup time             : 0.02              dense det. time        : 0.00            \n",
      "Factor     - ML order time          : 0.02              GP order time          : 0.00            \n",
      "Factor     - nonzeros before factor : 7.70e+04          after factor           : 7.74e+04        \n",
      "Factor     - dense dim.             : 0                 flops                  : 1.93e+07        \n",
      "ITE PFEAS    DFEAS    GFEAS    PRSTATUS   POBJ              DOBJ              MU       TIME  \n",
      "0   6.6e+03  1.0e+00  2.0e+00  0.00e+00   5.000000000e-01   0.000000000e+00   1.0e+00  0.03  \n",
      "1   4.4e+03  6.7e-01  1.6e+00  -9.98e-01  4.676998292e+02   4.524786500e+02   6.7e-01  0.05  \n",
      "2   2.7e+03  4.1e-01  1.3e+00  -9.91e-01  1.392944392e+03   1.413732772e+03   4.1e-01  0.05  \n",
      "3   4.2e+02  6.4e-02  4.8e-01  -9.77e-01  5.368506833e+04   5.774530749e+04   6.4e-02  0.06  \n",
      "4   1.6e+01  2.5e-03  4.6e-02  -8.08e-01  2.676491084e+06   2.876936491e+06   2.5e-03  0.06  \n",
      "5   3.5e+00  5.3e-04  3.5e-03  6.49e-01   1.881620284e+06   1.902149878e+06   5.3e-04  0.06  \n",
      "6   1.1e+00  1.6e-04  4.7e-04  1.06e+00   1.064469961e+06   1.067552356e+06   1.6e-04  0.06  \n",
      "7   1.9e-01  2.8e-05  3.9e-05  9.51e-01   7.817035433e+05   7.823057679e+05   2.8e-05  0.08  \n",
      "8   8.4e-02  1.3e-05  1.5e-05  3.65e-01   6.425278534e+05   6.429346656e+05   1.3e-05  0.08  \n",
      "9   4.4e-02  6.7e-06  7.2e-06  2.02e-01   5.186646578e+05   5.189545417e+05   6.7e-06  0.08  \n",
      "10  3.4e-02  5.2e-06  5.3e-06  4.91e-01   4.801422805e+05   4.803884341e+05   5.2e-06  0.08  \n",
      "11  2.2e-02  3.4e-06  3.0e-06  4.70e-01   4.175349410e+05   4.177152878e+05   3.4e-06  0.09  \n",
      "12  1.5e-02  2.3e-06  1.5e-06  7.67e-01   4.082549850e+05   4.083544670e+05   2.3e-06  0.09  \n",
      "13  7.8e-03  1.2e-06  6.1e-07  7.78e-01   3.745823598e+05   3.746390175e+05   1.2e-06  0.09  \n",
      "14  1.1e-03  1.6e-07  3.3e-08  8.41e-01   3.425164773e+05   3.425254236e+05   1.6e-07  0.09  \n",
      "15  3.5e-04  5.3e-08  6.6e-09  9.56e-01   3.397719118e+05   3.397750658e+05   5.3e-08  0.11  \n",
      "16  4.8e-05  7.3e-09  3.6e-10  9.95e-01   3.388854174e+05   3.388859038e+05   7.3e-09  0.11  \n",
      "17  1.2e-05  1.9e-09  4.6e-11  1.00e+00   3.387782364e+05   3.387783613e+05   1.9e-09  0.11  \n",
      "18  4.1e-06  7.2e-10  8.8e-12  1.00e+00   3.387558694e+05   3.387559107e+05   6.2e-10  0.11  \n",
      "19  1.1e-06  5.2e-10  1.3e-12  1.00e+00   3.387462814e+05   3.387462928e+05   1.7e-10  0.13  \n",
      "20  2.9e-07  2.5e-10  1.6e-13  1.00e+00   3.387439839e+05   3.387439868e+05   4.3e-11  0.13  \n",
      "21  8.6e-08  1.2e-10  2.7e-14  1.00e+00   3.387433818e+05   3.387433827e+05   1.3e-11  0.14  \n",
      "22  3.1e-08  8.5e-11  5.8e-15  1.00e+00   3.387432290e+05   3.387432293e+05   4.7e-12  0.14  \n",
      "Optimizer terminated. Time: 0.14    \n",
      "\n",
      "\n",
      "Interior-point solution summary\n",
      "  Problem status  : PRIMAL_AND_DUAL_FEASIBLE\n",
      "  Solution status : OPTIMAL\n",
      "  Primal.  obj: 3.3874322721e+05    nrm: 7e+03    Viol.  con: 9e-06    var: 0e+00  \n",
      "  Dual.    obj: 3.3874323108e+05    nrm: 2e+06    Viol.  con: 8e-07    var: 5e-01  \n"
     ]
    }
   ],
   "source": [
    "# define and solve the ICER model\n",
    "\n",
    "tau = 0.5\n",
    "cet = \"addi\"\n",
    "fun = \"prod\"\n",
    "rts = \"vrs\"\n",
    "\n",
    "model = ICQER.icer(y, x, tau, cet, fun, rts)\n",
    "\n",
    "# using local solver (MOSEK API)\n",
    "from pyomo.opt import SolverFactory\n",
    "opt = SolverFactory(\"mosek\")\n",
    "results = opt.solve(model, tee=True)"
   ]
  },
  {
   "cell_type": "code",
   "execution_count": 7,
   "metadata": {},
   "outputs": [
    {
     "data": {
      "text/plain": [
       "array([2.17832849e-02, 7.78432121e-05, 1.62465423e-05, 8.91984861e-07,\n",
       "       5.24753757e-05, 7.06000722e+01, 1.46607177e-05, 1.55888922e-03,\n",
       "       8.90500668e-01, 3.17998618e+01, 2.39269090e-02, 2.30100509e-02,\n",
       "       2.16668411e-02, 3.61762715e-05, 2.03562040e-02, 6.48888333e+01,\n",
       "       2.17197163e-02, 6.13507605e-05, 7.85417897e-05, 7.48493403e-05,\n",
       "       2.16323306e-02, 2.87998667e+01, 3.04571557e-04, 3.50020634e+00,\n",
       "       2.15890796e-02, 1.45064524e-04, 1.38182882e-05, 1.37362991e-06,\n",
       "       5.71669121e+01, 4.83747786e-05, 1.49227924e-04, 1.95888941e+02,\n",
       "       4.00000211e+01, 2.16059528e-02, 2.11533794e-02, 1.75888331e-06,\n",
       "       5.89316664e-06, 2.16688233e-02, 7.25006772e+00, 8.62069186e-05,\n",
       "       2.16302371e-02, 8.49559231e-05, 1.80000491e+01, 2.15514998e-02,\n",
       "       2.88991987e+00, 3.89412131e-05, 4.69869189e-06, 5.33846104e-05,\n",
       "       1.05594898e-05, 5.25031769e+00, 6.24991461e+00, 2.17177105e-04,\n",
       "       8.89604617e-01, 3.88891934e+00, 2.00042423e+00, 1.03000045e+02,\n",
       "       5.78889540e+01, 3.28890129e+01, 2.16606300e-02, 5.77006266e-06,\n",
       "       4.00159532e+00, 1.39090460e-06, 1.88000005e+02, 2.17108925e-02,\n",
       "       1.45760519e-04, 1.41677128e-05, 1.26000703e+01, 2.61108878e-06,\n",
       "       5.99998268e+00, 1.13102511e-05, 2.18308409e-02, 8.00000245e+00,\n",
       "       4.39000039e+02, 2.16283229e-02, 1.46666869e+01, 1.09666904e-05,\n",
       "       1.04250034e+02, 2.03115689e-02, 3.06614229e-06, 6.11259835e-06,\n",
       "       4.73691140e-05, 2.44250030e+02, 6.24470292e-06, 2.08869314e-02,\n",
       "       9.10820616e-06, 5.50035386e+00, 3.50032364e+00, 9.83834552e-05,\n",
       "       7.88893150e+00])"
      ]
     },
     "execution_count": 7,
     "metadata": {},
     "output_type": "execute_result"
    }
   ],
   "source": [
    "# retrive the residuals (eplus)\n",
    "val = list(model.ep[:].value)\n",
    "eplus = np.asarray(val)\n",
    "eplus"
   ]
  },
  {
   "cell_type": "code",
   "execution_count": 8,
   "metadata": {},
   "outputs": [
    {
     "data": {
      "text/plain": [
       "array([2.08541411e-02, 3.83350157e+00, 1.91110553e+01, 3.53749974e+02,\n",
       "       5.75028085e+00, 4.45575389e-06, 2.18331513e+01, 2.01759768e-01,\n",
       "       3.35124842e-04, 9.84323648e-06, 2.29274598e-02, 2.15160000e-02,\n",
       "       2.07860717e-02, 8.33348067e+00, 2.11684258e-02, 4.89041097e-06,\n",
       "       2.15270380e-02, 4.83328908e+00, 3.83355411e+00, 4.00014869e+00,\n",
       "       2.16268358e-02, 1.08312088e-05, 9.98984334e-01, 8.64994894e-05,\n",
       "       2.18202610e-02, 2.11174076e+00, 2.21111676e+01, 2.29999966e+02,\n",
       "       5.27629518e-06, 6.20024163e+00, 2.00033684e+00, 1.60883006e-06,\n",
       "       7.81637090e-06, 2.14903037e-02, 1.98464265e-02, 1.80111067e+02,\n",
       "       5.33999781e+01, 2.14864346e-02, 4.06674804e-05, 3.50022185e+00,\n",
       "       2.17855533e-02, 3.50011010e+00, 1.68175444e-05, 2.16049448e-02,\n",
       "       1.02611661e-04, 7.75038548e+00, 6.70000159e+01, 5.49992235e+00,\n",
       "       2.91112329e+01, 5.81811706e-05, 4.70721628e-05, 1.40080394e+00,\n",
       "       3.34637822e-04, 7.69160381e-05, 1.50123530e-04, 3.06105291e-06,\n",
       "       5.39432240e-06, 9.33394716e-06, 2.14247140e-02, 5.42002266e+01,\n",
       "       7.81512188e-05, 2.26999973e+02, 1.67964497e-06, 2.15690930e-02,\n",
       "       2.11231469e+00, 2.28331332e+01, 2.43801952e-05, 1.21000006e+02,\n",
       "       5.01838238e-05, 2.81110908e+01, 2.25822758e-02, 3.77504375e-05,\n",
       "       7.18761883e-07, 2.17998455e-02, 2.08243420e-05, 2.83999986e+01,\n",
       "       3.03652734e-06, 2.13221331e-02, 1.02999970e+02, 5.11111975e+01,\n",
       "       6.33352927e+00, 1.29424300e-06, 5.00001025e+01, 2.20874139e-02,\n",
       "       3.41111976e+01, 5.56857745e-05, 8.70136427e-05, 2.99911934e+00,\n",
       "       3.87198306e-05])"
      ]
     },
     "execution_count": 8,
     "metadata": {},
     "output_type": "execute_result"
    }
   ],
   "source": [
    "# retrive the residuals (eminus)\n",
    "val = list(model.em[:].value)\n",
    "eminus = np.asarray(val)\n",
    "eminus"
   ]
  },
  {
   "cell_type": "code",
   "execution_count": 9,
   "metadata": {},
   "outputs": [
    {
     "data": {
      "text/html": [
       "<div>\n",
       "<style scoped>\n",
       "    .dataframe tbody tr th:only-of-type {\n",
       "        vertical-align: middle;\n",
       "    }\n",
       "\n",
       "    .dataframe tbody tr th {\n",
       "        vertical-align: top;\n",
       "    }\n",
       "\n",
       "    .dataframe thead th {\n",
       "        text-align: right;\n",
       "    }\n",
       "</style>\n",
       "<table border=\"1\" class=\"dataframe\">\n",
       "  <thead>\n",
       "    <tr style=\"text-align: right;\">\n",
       "      <th></th>\n",
       "      <th>b1</th>\n",
       "      <th>b2</th>\n",
       "    </tr>\n",
       "    <tr>\n",
       "      <th>Name</th>\n",
       "      <th></th>\n",
       "      <th></th>\n",
       "    </tr>\n",
       "  </thead>\n",
       "  <tbody>\n",
       "    <tr>\n",
       "      <th>0.0</th>\n",
       "      <td>5.144780e-03</td>\n",
       "      <td>4.670709e-03</td>\n",
       "    </tr>\n",
       "    <tr>\n",
       "      <th>1.0</th>\n",
       "      <td>7.385590e-06</td>\n",
       "      <td>4.373215e-07</td>\n",
       "    </tr>\n",
       "    <tr>\n",
       "      <th>2.0</th>\n",
       "      <td>5.626278e-07</td>\n",
       "      <td>7.662624e-08</td>\n",
       "    </tr>\n",
       "    <tr>\n",
       "      <th>3.0</th>\n",
       "      <td>1.586293e-09</td>\n",
       "      <td>3.872758e-10</td>\n",
       "    </tr>\n",
       "    <tr>\n",
       "      <th>4.0</th>\n",
       "      <td>1.382835e-06</td>\n",
       "      <td>5.386203e-07</td>\n",
       "    </tr>\n",
       "    <tr>\n",
       "      <th>...</th>\n",
       "      <td>...</td>\n",
       "      <td>...</td>\n",
       "    </tr>\n",
       "    <tr>\n",
       "      <th>84.0</th>\n",
       "      <td>2.462247e-08</td>\n",
       "      <td>2.505183e-08</td>\n",
       "    </tr>\n",
       "    <tr>\n",
       "      <th>85.0</th>\n",
       "      <td>5.391407e-03</td>\n",
       "      <td>9.518294e-03</td>\n",
       "    </tr>\n",
       "    <tr>\n",
       "      <th>86.0</th>\n",
       "      <td>9.720916e-03</td>\n",
       "      <td>1.043594e-02</td>\n",
       "    </tr>\n",
       "    <tr>\n",
       "      <th>87.0</th>\n",
       "      <td>5.234713e-07</td>\n",
       "      <td>5.495535e-07</td>\n",
       "    </tr>\n",
       "    <tr>\n",
       "      <th>88.0</th>\n",
       "      <td>5.019729e-07</td>\n",
       "      <td>1.239878e-06</td>\n",
       "    </tr>\n",
       "  </tbody>\n",
       "</table>\n",
       "<p>89 rows × 2 columns</p>\n",
       "</div>"
      ],
      "text/plain": [
       "                b1            b2\n",
       "Name                            \n",
       "0.0   5.144780e-03  4.670709e-03\n",
       "1.0   7.385590e-06  4.373215e-07\n",
       "2.0   5.626278e-07  7.662624e-08\n",
       "3.0   1.586293e-09  3.872758e-10\n",
       "4.0   1.382835e-06  5.386203e-07\n",
       "...            ...           ...\n",
       "84.0  2.462247e-08  2.505183e-08\n",
       "85.0  5.391407e-03  9.518294e-03\n",
       "86.0  9.720916e-03  1.043594e-02\n",
       "87.0  5.234713e-07  5.495535e-07\n",
       "88.0  5.019729e-07  1.239878e-06\n",
       "\n",
       "[89 rows x 2 columns]"
      ]
     },
     "execution_count": 9,
     "metadata": {},
     "output_type": "execute_result"
    }
   ],
   "source": [
    "# retrive the beta\n",
    "ind = list(model.b)\n",
    "val = list(model.b[:,:].value)\n",
    "beta= np.asarray([ i + tuple([j]) for i, j in zip(ind, val)]) \n",
    "\n",
    "beta = pd.DataFrame(beta, columns = ['Name', 'Key', 'Value'])\n",
    "beta = beta.pivot(index='Name', columns='Key', values='Value')\n",
    "beta.columns = ['b1', 'b2']\n",
    "\n",
    "beta"
   ]
  }
 ],
 "metadata": {
  "kernelspec": {
   "display_name": "Python 3",
   "language": "python",
   "name": "python3"
  },
  "language_info": {
   "codemirror_mode": {
    "name": "ipython",
    "version": 3
   },
   "file_extension": ".py",
   "mimetype": "text/x-python",
   "name": "python",
   "nbconvert_exporter": "python",
   "pygments_lexer": "ipython3",
   "version": "3.7.7"
  }
 },
 "nbformat": 4,
 "nbformat_minor": 4
}
