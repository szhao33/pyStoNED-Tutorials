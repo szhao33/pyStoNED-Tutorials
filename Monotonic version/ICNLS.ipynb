{
 "cells": [
  {
   "cell_type": "markdown",
   "metadata": {},
   "source": [
    "# Isotonic Convex Nonparametric Least Square (ICNLS)"
   ]
  },
  {
   "cell_type": "markdown",
   "metadata": {},
   "source": [
    "- Author: Sheng Dai (sheng.dai@aalto.fi)\n",
    "- Date  : June 18, 2020\n",
    "\n",
    "Reference:\n",
    "\n",
    "[1] Keshvari A, Kuosmanen T. Stochastic non-convex envelopment of data: Applying isotonic regression to frontier estimation. Eur J Oper Res 2013;231:481–91."
   ]
  },
  {
   "cell_type": "code",
   "execution_count": 1,
   "metadata": {},
   "outputs": [],
   "source": [
    "import pandas as pd\n",
    "import numpy as np"
   ]
  },
  {
   "cell_type": "code",
   "execution_count": 2,
   "metadata": {},
   "outputs": [],
   "source": [
    "# import the package pystoned\n",
    "from pystoned import ICNLS"
   ]
  },
  {
   "cell_type": "code",
   "execution_count": 3,
   "metadata": {},
   "outputs": [],
   "source": [
    "# import Finnish electricity distribution firms data\n",
    "url = 'https://raw.githubusercontent.com/ds2010/pyStoNED-Tutorials/master/Data/firms.csv'\n",
    "df = pd.read_csv(url, error_bad_lines=False)"
   ]
  },
  {
   "cell_type": "code",
   "execution_count": 4,
   "metadata": {},
   "outputs": [],
   "source": [
    "# output\n",
    "y = df['Energy']\n",
    "\n",
    "# inputs\n",
    "x1 = df['OPEX']\n",
    "x1 = np.asmatrix(x1).T\n",
    "x2 = df['CAPEX']\n",
    "x2 = np.asmatrix(x2).T\n",
    "x = np.concatenate((x1, x2), axis=1)"
   ]
  },
  {
   "cell_type": "code",
   "execution_count": 6,
   "metadata": {},
   "outputs": [
    {
     "name": "stdout",
     "output_type": "stream",
     "text": [
      "Problem\n",
      "  Name                   :                 \n",
      "  Objective sense        : min             \n",
      "  Type                   : QO (quadratic optimization problem)\n",
      "  Constraints            : 3714            \n",
      "  Cones                  : 0               \n",
      "  Scalar variables       : 445             \n",
      "  Matrix variables       : 0               \n",
      "  Integer variables      : 0               \n",
      "\n",
      "Optimizer started.\n",
      "Quadratic to conic reformulation started.\n",
      "Quadratic to conic reformulation terminated. Time: 0.00    \n",
      "Presolve started.\n",
      "Linear dependency checker started.\n",
      "Linear dependency checker terminated.\n",
      "Eliminator started.\n",
      "Freed constraints in eliminator : 89\n",
      "Eliminator terminated.\n",
      "Eliminator started.\n",
      "Freed constraints in eliminator : 0\n",
      "Eliminator terminated.\n",
      "Eliminator - tries                  : 2                 time                   : 0.00            \n",
      "Lin. dep.  - tries                  : 1                 time                   : 0.02            \n",
      "Lin. dep.  - number                 : 0               \n",
      "Presolve terminated. Time: 0.02    \n",
      "Problem\n",
      "  Name                   :                 \n",
      "  Objective sense        : min             \n",
      "  Type                   : QO (quadratic optimization problem)\n",
      "  Constraints            : 3714            \n",
      "  Cones                  : 0               \n",
      "  Scalar variables       : 445             \n",
      "  Matrix variables       : 0               \n",
      "  Integer variables      : 0               \n",
      "\n",
      "Optimizer  - threads                : 4               \n",
      "Optimizer  - solved problem         : the dual        \n",
      "Optimizer  - Constraints            : 264\n",
      "Optimizer  - Cones                  : 1\n",
      "Optimizer  - Scalar variables       : 3890              conic                  : 90              \n",
      "Optimizer  - Semi-definite variables: 0                 scalarized             : 0               \n",
      "Factor     - setup time             : 0.02              dense det. time        : 0.00            \n",
      "Factor     - ML order time          : 0.02              GP order time          : 0.00            \n",
      "Factor     - nonzeros before factor : 3.26e+04          after factor           : 3.47e+04        \n",
      "Factor     - dense dim.             : 1                 flops                  : 6.21e+06        \n",
      "ITE PFEAS    DFEAS    GFEAS    PRSTATUS   POBJ              DOBJ              MU       TIME  \n",
      "0   9.3e+03  1.0e+00  2.0e+00  0.00e+00   5.000000000e-01   0.000000000e+00   1.0e+00  0.03  \n",
      "1   7.5e+03  8.0e-01  1.8e+00  -9.98e-01  1.092821904e+01   7.675027684e+00   8.0e-01  0.05  \n",
      "2   3.1e+03  3.3e-01  1.1e+00  -9.96e-01  2.853577045e+02   3.080746902e+02   3.3e-01  0.06  \n",
      "3   5.1e+02  5.4e-02  4.4e-01  -9.72e-01  2.885140673e+04   3.240986137e+04   5.4e-02  0.06  \n",
      "4   1.0e+01  1.1e-03  2.3e-02  -8.03e-01  2.569549223e+06   2.826488714e+06   1.1e-03  0.06  \n",
      "5   5.8e+00  6.2e-04  9.7e-03  7.36e-01   2.147675905e+06   2.274196229e+06   6.2e-04  0.06  \n",
      "6   1.7e+00  1.8e-04  1.3e-03  8.03e-01   1.825390563e+06   1.848402079e+06   1.8e-04  0.08  \n",
      "7   7.4e-01  7.9e-05  3.5e-04  9.35e-01   1.563804536e+06   1.572383918e+06   7.9e-05  0.08  \n",
      "8   1.9e-01  2.0e-05  4.7e-05  8.25e-01   1.370524449e+06   1.372803733e+06   2.0e-05  0.08  \n",
      "9   9.7e-02  1.0e-05  2.1e-05  5.35e-01   1.161270060e+06   1.162784533e+06   1.0e-05  0.09  \n",
      "10  5.7e-02  6.1e-06  1.1e-05  6.75e-01   9.809294695e+05   9.820062554e+05   6.1e-06  0.09  \n",
      "11  4.1e-02  4.4e-06  6.6e-06  7.62e-01   9.463068745e+05   9.470852270e+05   4.4e-06  0.09  \n",
      "12  2.8e-02  3.0e-06  4.0e-06  5.37e-01   8.299988004e+05   8.305841039e+05   3.0e-06  0.09  \n",
      "13  2.1e-02  2.2e-06  2.3e-06  7.25e-01   8.164528468e+05   8.168110320e+05   2.2e-06  0.11  \n",
      "14  9.9e-03  1.1e-06  7.9e-07  7.57e-01   7.391170468e+05   7.392865330e+05   1.1e-06  0.11  \n",
      "15  1.4e-03  1.5e-07  4.0e-08  8.61e-01   6.838580501e+05   6.838804499e+05   1.5e-07  0.11  \n",
      "16  3.7e-04  4.0e-08  6.0e-09  9.65e-01   6.790267692e+05   6.790332276e+05   4.0e-08  0.13  \n",
      "17  3.7e-05  4.0e-09  1.9e-10  9.93e-01   6.776494826e+05   6.776501734e+05   4.0e-09  0.13  \n",
      "18  2.4e-05  2.5e-09  9.9e-11  1.00e+00   6.775927541e+05   6.775931962e+05   2.5e-09  0.13  \n",
      "19  1.2e-05  1.3e-09  3.6e-11  1.00e+00   6.775325315e+05   6.775327552e+05   1.3e-09  0.13  \n",
      "20  1.6e-06  1.8e-10  1.8e-12  9.99e-01   6.774920015e+05   6.774920329e+05   1.8e-10  0.14  \n",
      "21  4.1e-08  4.4e-12  1.2e-14  1.00e+00   6.774864272e+05   6.774864280e+05   4.4e-12  0.14  \n",
      "Optimizer terminated. Time: 0.16    \n",
      "\n",
      "\n",
      "Interior-point solution summary\n",
      "  Problem status  : PRIMAL_AND_DUAL_FEASIBLE\n",
      "  Solution status : OPTIMAL\n",
      "  Primal.  obj: 6.7748641539e+05    nrm: 7e+03    Viol.  con: 2e-12    var: 0e+00  \n",
      "  Dual.    obj: 6.7748643985e+05    nrm: 3e+06    Viol.  con: 3e-06    var: 1e-01  \n"
     ]
    }
   ],
   "source": [
    "# define and solve the ICNLS model\n",
    "\n",
    "cet = \"addi\"\n",
    "fun = \"prod\"\n",
    "rts = \"vrs\"\n",
    "\n",
    "model = ICNLS.icnls(y, x, cet, fun, rts)\n",
    "\n",
    "# using local solver (MOSEK API)\n",
    "from pyomo.opt import SolverFactory\n",
    "opt = SolverFactory(\"mosek\")\n",
    "results = opt.solve(model, tee=True)"
   ]
  },
  {
   "cell_type": "code",
   "execution_count": 7,
   "metadata": {},
   "outputs": [],
   "source": [
    "# retrive the residuals (additive FDH efficiency measure)\n",
    "val = list(model.e[:].value)\n",
    "eps = np.asarray(val)"
   ]
  },
  {
   "cell_type": "code",
   "execution_count": 8,
   "metadata": {},
   "outputs": [
    {
     "data": {
      "text/plain": [
       "array([ 6.84909800e-04, -3.83346177e+00, -1.91108812e+01, -3.53749834e+02,\n",
       "       -5.74968479e+00,  7.05998471e+01, -2.18331276e+01, -2.00275834e-01,\n",
       "        8.89399943e-01,  3.17997902e+01,  8.51147997e-05,  1.72456366e-05,\n",
       "       -5.68680151e-04, -8.33372694e+00,  6.91712497e-04,  6.48887604e+01,\n",
       "        2.95944185e-04, -4.83324077e+00, -3.83352571e+00, -4.00020633e+00,\n",
       "       -1.13266124e-04,  2.87997951e+01, -9.95801251e-01,  3.50010086e+00,\n",
       "        4.76591885e-04, -2.11139435e+00, -2.21110190e+01, -2.29999882e+02,\n",
       "        5.71669264e+01, -6.20026633e+00, -1.99993835e+00,  1.95888901e+02,\n",
       "        3.99999027e+01, -1.73270202e-04, -6.89314817e-03, -1.80111106e+02,\n",
       "       -5.34002030e+01, -3.26291828e-04,  7.25062117e+00, -3.50021100e+00,\n",
       "       -1.21377746e-04, -3.49936672e+00,  1.80001156e+01,  5.61381543e-05,\n",
       "        2.89000398e+00, -7.74982855e+00, -6.70000653e+01, -5.49847315e+00,\n",
       "       -2.91113033e+01,  5.25044973e+00,  6.25043100e+00, -1.40076824e+00,\n",
       "        8.89450313e-01,  3.88877838e+00,  2.00058878e+00,  1.03000133e+02,\n",
       "        5.78889120e+01,  3.28891708e+01, -1.23318942e-04, -5.42003008e+01,\n",
       "        4.00443020e+00, -2.26999889e+02,  1.87999952e+02, -3.35090911e-04,\n",
       "       -2.11179377e+00, -2.28331056e+01,  1.25998197e+01, -1.21000057e+02,\n",
       "        5.99980189e+00, -2.81111230e+01, -1.13431341e-04,  7.99984189e+00,\n",
       "        4.39000124e+02,  3.90233367e-04,  1.46664106e+01, -2.84002225e+01,\n",
       "        1.04250171e+02, -1.11987463e-02, -1.02999878e+02, -5.11112642e+01,\n",
       "       -6.33376581e+00,  2.44250170e+02, -5.00002342e+01, -4.61158704e-04,\n",
       "       -3.41112608e+01,  5.50169117e+00,  3.50094344e+00, -2.99618334e+00,\n",
       "        7.88903894e+00])"
      ]
     },
     "execution_count": 8,
     "metadata": {},
     "output_type": "execute_result"
    }
   ],
   "source": [
    "eps"
   ]
  }
 ],
 "metadata": {
  "kernelspec": {
   "display_name": "Python 3",
   "language": "python",
   "name": "python3"
  },
  "language_info": {
   "codemirror_mode": {
    "name": "ipython",
    "version": 3
   },
   "file_extension": ".py",
   "mimetype": "text/x-python",
   "name": "python",
   "nbconvert_exporter": "python",
   "pygments_lexer": "ipython3",
   "version": "3.7.7"
  }
 },
 "nbformat": 4,
 "nbformat_minor": 4
}
