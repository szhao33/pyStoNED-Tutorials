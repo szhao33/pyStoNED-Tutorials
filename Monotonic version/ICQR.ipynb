{
 "cells": [
  {
   "cell_type": "markdown",
   "metadata": {},
   "source": [
    "# Isotonic Convex Quantile Regression (ICQR)"
   ]
  },
  {
   "cell_type": "markdown",
   "metadata": {},
   "source": [
    "- Author: Sheng Dai (sheng.dai@aalto.fi)\n",
    "- Date  : July 30, 2020\n",
    "\n",
    "Reference:\n",
    "\n",
    "[1] Kuosmanen T., Dai S., Zhou X. Partial frontiers are not quantiles. Unpublished working paper (available from the authors by request)."
   ]
  },
  {
   "cell_type": "code",
   "execution_count": 1,
   "metadata": {},
   "outputs": [],
   "source": [
    "import pandas as pd\n",
    "import numpy as np"
   ]
  },
  {
   "cell_type": "code",
   "execution_count": 2,
   "metadata": {},
   "outputs": [],
   "source": [
    "# import the package pystoned\n",
    "from pystoned import ICQER"
   ]
  },
  {
   "cell_type": "code",
   "execution_count": 3,
   "metadata": {},
   "outputs": [],
   "source": [
    "# import Finnish electricity distribution firms data\n",
    "url = 'https://raw.githubusercontent.com/ds2010/pyStoNED-Tutorials/master/Data/firms.csv'\n",
    "df = pd.read_csv(url, error_bad_lines=False)"
   ]
  },
  {
   "cell_type": "code",
   "execution_count": 4,
   "metadata": {},
   "outputs": [],
   "source": [
    "# output\n",
    "y = df['Energy']\n",
    "\n",
    "# inputs\n",
    "x1 = df['OPEX']\n",
    "x1 = np.asmatrix(x1).T\n",
    "x2 = df['CAPEX']\n",
    "x2 = np.asmatrix(x2).T\n",
    "x = np.concatenate((x1, x2), axis=1)"
   ]
  },
  {
   "cell_type": "code",
   "execution_count": 5,
   "metadata": {},
   "outputs": [
    {
     "name": "stdout",
     "output_type": "stream",
     "text": [
      "Problem\n",
      "  Name                   :                 \n",
      "  Objective sense        : min             \n",
      "  Type                   : LO (linear optimization problem)\n",
      "  Constraints            : 3714            \n",
      "  Cones                  : 0               \n",
      "  Scalar variables       : 534             \n",
      "  Matrix variables       : 0               \n",
      "  Integer variables      : 0               \n",
      "\n",
      "Optimizer started.\n",
      "Presolve started.\n",
      "Linear dependency checker started.\n",
      "Linear dependency checker terminated.\n",
      "Eliminator started.\n",
      "Freed constraints in eliminator : 0\n",
      "Eliminator terminated.\n",
      "Eliminator - tries                  : 1                 time                   : 0.00            \n",
      "Lin. dep.  - tries                  : 1                 time                   : 0.00            \n",
      "Lin. dep.  - number                 : 0               \n",
      "Presolve terminated. Time: 0.02    \n",
      "Problem\n",
      "  Name                   :                 \n",
      "  Objective sense        : min             \n",
      "  Type                   : LO (linear optimization problem)\n",
      "  Constraints            : 3714            \n",
      "  Cones                  : 0               \n",
      "  Scalar variables       : 534             \n",
      "  Matrix variables       : 0               \n",
      "  Integer variables      : 0               \n",
      "\n",
      "Optimizer  - threads                : 4               \n",
      "Optimizer  - solved problem         : the dual        \n",
      "Optimizer  - Constraints            : 264\n",
      "Optimizer  - Cones                  : 0\n",
      "Optimizer  - Scalar variables       : 3889              conic                  : 0               \n",
      "Optimizer  - Semi-definite variables: 0                 scalarized             : 0               \n",
      "Factor     - setup time             : 0.00              dense det. time        : 0.00            \n",
      "Factor     - ML order time          : 0.00              GP order time          : 0.00            \n",
      "Factor     - nonzeros before factor : 3.24e+04          after factor           : 3.45e+04        \n",
      "Factor     - dense dim.             : 0                 flops                  : 6.14e+06        \n",
      "ITE PFEAS    DFEAS    GFEAS    PRSTATUS   POBJ              DOBJ              MU       TIME  \n",
      "0   7.6e+05  1.0e+04  4.9e+06  0.00e+00   -2.137750000e+04  2.137750000e+04   1.3e+04  0.03  \n",
      "1   3.2e+05  4.3e+03  2.1e+06  -9.97e-01  -2.107224872e+04  2.132659264e+04   5.6e+03  0.05  \n",
      "2   3.7e+04  4.9e+02  2.4e+05  -9.62e-01  -1.531809160e+04  1.902658373e+04   6.4e+02  0.05  \n",
      "3   5.3e+03  7.1e+01  3.4e+04  -5.60e-01  -2.029489628e+03  1.250614030e+04   9.2e+01  0.05  \n",
      "4   2.2e+03  2.9e+01  1.4e+04  4.88e-01   1.243557522e+03   8.157644406e+03   3.8e+01  0.06  \n",
      "5   7.9e+02  1.1e+01  5.1e+03  8.32e-01   2.486953501e+03   5.127391781e+03   1.4e+01  0.06  \n",
      "6   2.8e+02  3.7e+00  1.8e+03  8.36e-01   2.880369946e+03   3.924008368e+03   4.8e+00  0.06  \n",
      "7   9.4e+01  1.3e+00  6.1e+02  6.21e-01   2.806159411e+03   3.252448559e+03   1.6e+00  0.06  \n",
      "8   4.2e+01  5.6e-01  2.7e+02  4.00e-01   2.590247231e+03   2.868672144e+03   7.3e-01  0.08  \n",
      "9   2.8e+01  3.8e-01  1.8e+02  1.64e-01   2.409080612e+03   2.632813688e+03   4.9e-01  0.08  \n",
      "10  1.9e+01  2.5e-01  1.2e+02  3.90e-01   2.253928529e+03   2.431607799e+03   3.3e-01  0.08  \n",
      "11  9.0e+00  1.2e-01  5.8e+01  5.27e-01   2.058145138e+03   2.165297222e+03   1.6e-01  0.08  \n",
      "12  6.7e+00  9.0e-02  4.4e+01  1.67e-01   1.924552533e+03   2.017148961e+03   1.2e-01  0.09  \n",
      "13  5.0e+00  6.7e-02  3.2e+01  3.49e-01   1.852832253e+03   1.924281611e+03   8.7e-02  0.09  \n",
      "14  3.1e+00  4.2e-02  2.0e+01  6.62e-01   1.781735650e+03   1.828638934e+03   5.4e-02  0.09  \n",
      "15  1.3e+00  1.8e-02  8.5e+00  8.40e-01   1.704639881e+03   1.725218744e+03   2.3e-02  0.09  \n",
      "16  1.1e-01  1.4e-03  6.9e-01  9.42e-01   1.651903531e+03   1.653627937e+03   1.9e-03  0.09  \n",
      "17  4.3e-03  5.8e-05  2.8e-02  9.96e-01   1.648626673e+03   1.648696839e+03   7.6e-05  0.11  \n",
      "18  5.5e-07  7.3e-09  3.5e-06  1.00e+00   1.648500020e+03   1.648500028e+03   9.5e-09  0.11  \n",
      "Basis identification started.\n",
      "Primal basis identification phase started.\n",
      "Primal basis identification phase terminated. Time: 0.00\n",
      "Dual basis identification phase started.\n",
      "Dual basis identification phase terminated. Time: 0.00\n",
      "Basis identification terminated. Time: 0.02\n",
      "Optimizer terminated. Time: 0.14    \n",
      "\n",
      "\n",
      "Interior-point solution summary\n",
      "  Problem status  : PRIMAL_AND_DUAL_FEASIBLE\n",
      "  Solution status : OPTIMAL\n",
      "  Primal.  obj: 1.6485000241e+03    nrm: 7e+03    Viol.  con: 1e-06    var: 0e+00  \n",
      "  Dual.    obj: 1.6485000285e+03    nrm: 4e+03    Viol.  con: 0e+00    var: 1e-05  \n",
      "\n",
      "Basic solution summary\n",
      "  Problem status  : PRIMAL_AND_DUAL_FEASIBLE\n",
      "  Solution status : OPTIMAL\n",
      "  Primal.  obj: 1.6485000000e+03    nrm: 7e+03    Viol.  con: 9e-13    var: 4e-17  \n",
      "  Dual.    obj: 1.6485000000e+03    nrm: 4e+03    Viol.  con: 8e-08    var: 2e-12  \n"
     ]
    }
   ],
   "source": [
    "# define and solve the ICQR model\n",
    "\n",
    "tau = 0.5\n",
    "cet = \"addi\"\n",
    "fun = \"prod\"\n",
    "rts = \"vrs\"\n",
    "\n",
    "model = ICQER.icqr(y, x, tau, cet, fun, rts)\n",
    "\n",
    "# using local solver (MOSEK API)\n",
    "from pyomo.opt import SolverFactory\n",
    "opt = SolverFactory(\"mosek\")\n",
    "results = opt.solve(model, tee=True)"
   ]
  },
  {
   "cell_type": "code",
   "execution_count": 6,
   "metadata": {},
   "outputs": [
    {
     "data": {
      "text/plain": [
       "array([  0.        ,   0.        ,   0.        ,   0.        ,\n",
       "         0.        ,  84.8856305 ,   0.        ,   0.        ,\n",
       "         0.        ,  32.        ,   0.        ,   0.        ,\n",
       "         0.        ,   0.        ,   0.        ,  93.        ,\n",
       "         0.        ,   0.        ,   0.        ,   0.        ,\n",
       "         0.        ,  29.        ,   0.        ,   7.        ,\n",
       "         0.        ,   0.        ,   0.        ,   0.        ,\n",
       "        70.        ,   0.        ,   0.        , 224.        ,\n",
       "        34.        ,   0.        ,   0.        ,   0.        ,\n",
       "         0.        ,   0.        ,  11.89142857,   0.        ,\n",
       "         0.        ,   0.        ,   0.        ,   0.        ,\n",
       "         2.        ,   0.        ,   0.        ,   0.        ,\n",
       "         0.        ,   0.        ,  10.89142857,   0.        ,\n",
       "         0.        ,   0.        ,   0.        ,  77.6808952 ,\n",
       "        86.        ,  32.        ,   0.        ,   0.        ,\n",
       "         5.        ,   0.        , 256.8239392 ,   0.        ,\n",
       "         0.        ,   0.        ,  26.8856305 ,   0.        ,\n",
       "         0.        ,   0.        ,   0.        ,   2.        ,\n",
       "       471.5880829 ,   0.        ,  21.        ,   0.        ,\n",
       "         0.        ,   0.        ,   0.        ,   0.        ,\n",
       "         0.        , 102.18307427,   0.        ,   0.        ,\n",
       "         0.        ,  11.        ,   7.        ,   0.        ,\n",
       "         7.        ])"
      ]
     },
     "execution_count": 6,
     "metadata": {},
     "output_type": "execute_result"
    }
   ],
   "source": [
    "# retrive the residuals (eplus)\n",
    "val = list(model.ep[:].value)\n",
    "eplus = np.asarray(val)\n",
    "eplus"
   ]
  },
  {
   "cell_type": "code",
   "execution_count": 7,
   "metadata": {},
   "outputs": [
    {
     "data": {
      "text/plain": [
       "array([  0.        ,   0.        ,  20.        , 495.81692573,\n",
       "         1.10857143,   0.        ,   9.        ,   0.        ,\n",
       "         0.        ,   0.        ,   0.        ,   0.        ,\n",
       "         0.        ,   2.        ,   0.        ,   0.        ,\n",
       "         0.        ,   0.        ,   0.        ,  10.        ,\n",
       "         0.        ,   0.        ,   0.        ,   0.        ,\n",
       "         0.        ,   3.        ,  23.        , 197.4119171 ,\n",
       "         0.        ,   6.        ,   4.        ,   0.        ,\n",
       "         0.        ,   0.        ,   0.        , 152.        ,\n",
       "        39.1143695 ,   0.        ,   0.        ,   0.        ,\n",
       "         0.        ,   0.        ,   0.        ,   0.        ,\n",
       "         0.        ,   3.10857143,   0.        ,   0.        ,\n",
       "         1.        ,   0.        ,   0.        ,   0.        ,\n",
       "         0.        ,   0.        ,   0.        ,   0.        ,\n",
       "         0.        ,   0.        ,   0.        ,  54.        ,\n",
       "         0.        , 245.        ,   0.        ,   0.        ,\n",
       "         3.        ,  10.        ,   0.        ,  52.1760608 ,\n",
       "         0.        ,   0.        ,   0.        ,   0.        ,\n",
       "         0.        ,   0.        ,   0.        ,  14.1143695 ,\n",
       "         0.        ,   0.        , 128.3191048 ,  55.        ,\n",
       "         0.        ,   0.        ,  56.        ,   0.        ,\n",
       "         6.        ,   0.        ,   0.        ,   2.        ,\n",
       "         0.        ])"
      ]
     },
     "execution_count": 7,
     "metadata": {},
     "output_type": "execute_result"
    }
   ],
   "source": [
    "# retrive the residuals (eminus)\n",
    "val = list(model.em[:].value)\n",
    "eminus = np.asarray(val)\n",
    "eminus"
   ]
  },
  {
   "cell_type": "code",
   "execution_count": 8,
   "metadata": {},
   "outputs": [
    {
     "data": {
      "text/html": [
       "<div>\n",
       "<style scoped>\n",
       "    .dataframe tbody tr th:only-of-type {\n",
       "        vertical-align: middle;\n",
       "    }\n",
       "\n",
       "    .dataframe tbody tr th {\n",
       "        vertical-align: top;\n",
       "    }\n",
       "\n",
       "    .dataframe thead th {\n",
       "        text-align: right;\n",
       "    }\n",
       "</style>\n",
       "<table border=\"1\" class=\"dataframe\">\n",
       "  <thead>\n",
       "    <tr style=\"text-align: right;\">\n",
       "      <th></th>\n",
       "      <th>b1</th>\n",
       "      <th>b2</th>\n",
       "    </tr>\n",
       "    <tr>\n",
       "      <th>Name</th>\n",
       "      <th></th>\n",
       "      <th></th>\n",
       "    </tr>\n",
       "  </thead>\n",
       "  <tbody>\n",
       "    <tr>\n",
       "      <th>0.0</th>\n",
       "      <td>2.597403e-02</td>\n",
       "      <td>0.000000e+00</td>\n",
       "    </tr>\n",
       "    <tr>\n",
       "      <th>1.0</th>\n",
       "      <td>5.604070e-02</td>\n",
       "      <td>3.212089e-02</td>\n",
       "    </tr>\n",
       "    <tr>\n",
       "      <th>2.0</th>\n",
       "      <td>0.000000e+00</td>\n",
       "      <td>0.000000e+00</td>\n",
       "    </tr>\n",
       "    <tr>\n",
       "      <th>3.0</th>\n",
       "      <td>0.000000e+00</td>\n",
       "      <td>0.000000e+00</td>\n",
       "    </tr>\n",
       "    <tr>\n",
       "      <th>4.0</th>\n",
       "      <td>0.000000e+00</td>\n",
       "      <td>0.000000e+00</td>\n",
       "    </tr>\n",
       "    <tr>\n",
       "      <th>...</th>\n",
       "      <td>...</td>\n",
       "      <td>...</td>\n",
       "    </tr>\n",
       "    <tr>\n",
       "      <th>84.0</th>\n",
       "      <td>0.000000e+00</td>\n",
       "      <td>0.000000e+00</td>\n",
       "    </tr>\n",
       "    <tr>\n",
       "      <th>85.0</th>\n",
       "      <td>0.000000e+00</td>\n",
       "      <td>-2.225388e-17</td>\n",
       "    </tr>\n",
       "    <tr>\n",
       "      <th>86.0</th>\n",
       "      <td>2.500000e-02</td>\n",
       "      <td>0.000000e+00</td>\n",
       "    </tr>\n",
       "    <tr>\n",
       "      <th>87.0</th>\n",
       "      <td>0.000000e+00</td>\n",
       "      <td>0.000000e+00</td>\n",
       "    </tr>\n",
       "    <tr>\n",
       "      <th>88.0</th>\n",
       "      <td>-6.349567e-19</td>\n",
       "      <td>0.000000e+00</td>\n",
       "    </tr>\n",
       "  </tbody>\n",
       "</table>\n",
       "<p>89 rows × 2 columns</p>\n",
       "</div>"
      ],
      "text/plain": [
       "                b1            b2\n",
       "Name                            \n",
       "0.0   2.597403e-02  0.000000e+00\n",
       "1.0   5.604070e-02  3.212089e-02\n",
       "2.0   0.000000e+00  0.000000e+00\n",
       "3.0   0.000000e+00  0.000000e+00\n",
       "4.0   0.000000e+00  0.000000e+00\n",
       "...            ...           ...\n",
       "84.0  0.000000e+00  0.000000e+00\n",
       "85.0  0.000000e+00 -2.225388e-17\n",
       "86.0  2.500000e-02  0.000000e+00\n",
       "87.0  0.000000e+00  0.000000e+00\n",
       "88.0 -6.349567e-19  0.000000e+00\n",
       "\n",
       "[89 rows x 2 columns]"
      ]
     },
     "execution_count": 8,
     "metadata": {},
     "output_type": "execute_result"
    }
   ],
   "source": [
    "# retrive the beta\n",
    "ind = list(model.b)\n",
    "val = list(model.b[:,:].value)\n",
    "beta= np.asarray([ i + tuple([j]) for i, j in zip(ind, val)]) \n",
    "\n",
    "beta = pd.DataFrame(beta, columns = ['Name', 'Key', 'Value'])\n",
    "beta = beta.pivot(index='Name', columns='Key', values='Value')\n",
    "beta.columns = ['b1', 'b2']\n",
    "\n",
    "beta"
   ]
  }
 ],
 "metadata": {
  "kernelspec": {
   "display_name": "Python 3",
   "language": "python",
   "name": "python3"
  },
  "language_info": {
   "codemirror_mode": {
    "name": "ipython",
    "version": 3
   },
   "file_extension": ".py",
   "mimetype": "text/x-python",
   "name": "python",
   "nbconvert_exporter": "python",
   "pygments_lexer": "ipython3",
   "version": "3.7.7"
  }
 },
 "nbformat": 4,
 "nbformat_minor": 4
}
