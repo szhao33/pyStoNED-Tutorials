{
 "cells": [
  {
   "cell_type": "markdown",
   "metadata": {},
   "source": [
    "# Corrected Convex Nonparametric Least Squares (C2NLS)"
   ]
  },
  {
   "cell_type": "markdown",
   "metadata": {},
   "source": [
    "   + Author : Sheng Dai (sheng.dai@aalto.fi)\n",
    "   + Date : June 17, 2020\n",
    "\n",
    "References:\n",
    "\n",
    "[1] Kuosmanen, T. and Johnson, A. L. (2010). Data envelopment analysis as nonparametric least-squares regression. Operations Research, 58, pp. 149–160."
   ]
  },
  {
   "cell_type": "markdown",
   "metadata": {},
   "source": [
    "# Example"
   ]
  },
  {
   "cell_type": "markdown",
   "metadata": {},
   "source": [
    "### Stage 1: Esimate $E(y_i | x_i)$ by solving the CNLS problem."
   ]
  },
  {
   "cell_type": "code",
   "execution_count": 1,
   "metadata": {},
   "outputs": [],
   "source": [
    "import pandas as pd\n",
    "import numpy as np"
   ]
  },
  {
   "cell_type": "code",
   "execution_count": 2,
   "metadata": {},
   "outputs": [],
   "source": [
    "# import the package pystoned\n",
    "from pystoned import *"
   ]
  },
  {
   "cell_type": "code",
   "execution_count": 3,
   "metadata": {},
   "outputs": [
    {
     "data": {
      "text/html": [
       "<div>\n",
       "<style scoped>\n",
       "    .dataframe tbody tr th:only-of-type {\n",
       "        vertical-align: middle;\n",
       "    }\n",
       "\n",
       "    .dataframe tbody tr th {\n",
       "        vertical-align: top;\n",
       "    }\n",
       "\n",
       "    .dataframe thead th {\n",
       "        text-align: right;\n",
       "    }\n",
       "</style>\n",
       "<table border=\"1\" class=\"dataframe\">\n",
       "  <thead>\n",
       "    <tr style=\"text-align: right;\">\n",
       "      <th></th>\n",
       "      <th>OPEX</th>\n",
       "      <th>CAPEX</th>\n",
       "      <th>TOTEX</th>\n",
       "      <th>Energy</th>\n",
       "      <th>Length</th>\n",
       "      <th>Customers</th>\n",
       "      <th>PerUndGr</th>\n",
       "    </tr>\n",
       "  </thead>\n",
       "  <tbody>\n",
       "    <tr>\n",
       "      <th>0</th>\n",
       "      <td>681</td>\n",
       "      <td>729</td>\n",
       "      <td>1612</td>\n",
       "      <td>75</td>\n",
       "      <td>878</td>\n",
       "      <td>4933</td>\n",
       "      <td>0.11</td>\n",
       "    </tr>\n",
       "    <tr>\n",
       "      <th>1</th>\n",
       "      <td>559</td>\n",
       "      <td>673</td>\n",
       "      <td>1659</td>\n",
       "      <td>62</td>\n",
       "      <td>964</td>\n",
       "      <td>6149</td>\n",
       "      <td>0.21</td>\n",
       "    </tr>\n",
       "    <tr>\n",
       "      <th>2</th>\n",
       "      <td>836</td>\n",
       "      <td>851</td>\n",
       "      <td>1708</td>\n",
       "      <td>78</td>\n",
       "      <td>676</td>\n",
       "      <td>6098</td>\n",
       "      <td>0.75</td>\n",
       "    </tr>\n",
       "    <tr>\n",
       "      <th>3</th>\n",
       "      <td>7559</td>\n",
       "      <td>8384</td>\n",
       "      <td>18918</td>\n",
       "      <td>683</td>\n",
       "      <td>12522</td>\n",
       "      <td>55226</td>\n",
       "      <td>0.13</td>\n",
       "    </tr>\n",
       "    <tr>\n",
       "      <th>4</th>\n",
       "      <td>424</td>\n",
       "      <td>562</td>\n",
       "      <td>1167</td>\n",
       "      <td>27</td>\n",
       "      <td>697</td>\n",
       "      <td>1670</td>\n",
       "      <td>0.03</td>\n",
       "    </tr>\n",
       "  </tbody>\n",
       "</table>\n",
       "</div>"
      ],
      "text/plain": [
       "   OPEX  CAPEX  TOTEX  Energy  Length  Customers  PerUndGr\n",
       "0   681    729   1612      75     878       4933      0.11\n",
       "1   559    673   1659      62     964       6149      0.21\n",
       "2   836    851   1708      78     676       6098      0.75\n",
       "3  7559   8384  18918     683   12522      55226      0.13\n",
       "4   424    562   1167      27     697       1670      0.03"
      ]
     },
     "execution_count": 3,
     "metadata": {},
     "output_type": "execute_result"
    }
   ],
   "source": [
    "# import Finnish electricity distribution firms data\n",
    "url = 'https://raw.githubusercontent.com/ds2010/pyStoNED-Tutorials/master/Data/firms.csv'\n",
    "df = pd.read_csv(url, error_bad_lines=False)\n",
    "df.head(5)"
   ]
  },
  {
   "cell_type": "code",
   "execution_count": 4,
   "metadata": {},
   "outputs": [],
   "source": [
    "# output\n",
    "y = df['Energy']\n",
    "\n",
    "# inputs\n",
    "x1 = df['OPEX']\n",
    "x1 = np.asmatrix(x1).T\n",
    "x2 = df['CAPEX']\n",
    "x2 = np.asmatrix(x2).T\n",
    "x = np.concatenate((x1, x2), axis=1)"
   ]
  },
  {
   "cell_type": "code",
   "execution_count": 5,
   "metadata": {},
   "outputs": [
    {
     "name": "stdout",
     "output_type": "stream",
     "text": [
      "Problem\n",
      "  Name                   :                 \n",
      "  Objective sense        : min             \n",
      "  Type                   : QO (quadratic optimization problem)\n",
      "  Constraints            : 7921            \n",
      "  Cones                  : 0               \n",
      "  Scalar variables       : 445             \n",
      "  Matrix variables       : 0               \n",
      "  Integer variables      : 0               \n",
      "\n",
      "Optimizer started.\n",
      "Quadratic to conic reformulation started.\n",
      "Quadratic to conic reformulation terminated. Time: 0.00    \n",
      "Presolve started.\n",
      "Linear dependency checker started.\n",
      "Linear dependency checker terminated.\n",
      "Eliminator started.\n",
      "Freed constraints in eliminator : 89\n",
      "Eliminator terminated.\n",
      "Eliminator started.\n",
      "Freed constraints in eliminator : 0\n",
      "Eliminator terminated.\n",
      "Eliminator - tries                  : 2                 time                   : 0.00            \n",
      "Lin. dep.  - tries                  : 1                 time                   : 0.00            \n",
      "Lin. dep.  - number                 : 0               \n",
      "Presolve terminated. Time: 0.02    \n",
      "Problem\n",
      "  Name                   :                 \n",
      "  Objective sense        : min             \n",
      "  Type                   : QO (quadratic optimization problem)\n",
      "  Constraints            : 7921            \n",
      "  Cones                  : 0               \n",
      "  Scalar variables       : 445             \n",
      "  Matrix variables       : 0               \n",
      "  Integer variables      : 0               \n",
      "\n",
      "Optimizer  - threads                : 4               \n",
      "Optimizer  - solved problem         : the dual        \n",
      "Optimizer  - Constraints            : 267\n",
      "Optimizer  - Cones                  : 1\n",
      "Optimizer  - Scalar variables       : 8100              conic                  : 90              \n",
      "Optimizer  - Semi-definite variables: 0                 scalarized             : 0               \n",
      "Factor     - setup time             : 0.00              dense det. time        : 0.00            \n",
      "Factor     - ML order time          : 0.00              GP order time          : 0.00            \n",
      "Factor     - nonzeros before factor : 3.58e+04          after factor           : 3.58e+04        \n",
      "Factor     - dense dim.             : 0                 flops                  : 6.78e+06        \n",
      "ITE PFEAS    DFEAS    GFEAS    PRSTATUS   POBJ              DOBJ              MU       TIME  \n",
      "0   9.3e+03  1.0e+00  2.0e+00  0.00e+00   5.000000000e-01   0.000000000e+00   1.0e+00  0.05  \n",
      "1   6.4e+03  6.8e-01  1.7e+00  -1.00e+00  1.678188763e+00   8.303743673e-01   6.8e-01  0.08  \n",
      "2   3.0e+03  3.3e-01  1.1e+00  -1.00e+00  1.416442735e+01   2.031383540e+01   3.3e-01  0.08  \n",
      "3   1.2e+03  1.3e-01  7.0e-01  -9.98e-01  1.579765784e+02   2.777420131e+02   1.3e-01  0.08  \n",
      "4   3.9e+02  4.1e-02  4.0e-01  -9.88e-01  2.651882392e+03   4.406844101e+03   4.1e-02  0.09  \n",
      "5   1.1e+02  1.2e-02  2.0e-01  -9.49e-01  4.331009999e+04   6.686745778e+04   1.2e-02  0.09  \n",
      "6   2.3e+01  2.4e-03  7.1e-02  -8.05e-01  6.068580079e+05   8.624970594e+05   2.4e-03  0.09  \n",
      "7   3.9e+00  4.2e-04  1.2e-02  -2.80e-01  2.639214509e+06   3.169301148e+06   4.2e-04  0.11  \n",
      "8   2.6e-01  2.8e-05  2.7e-04  5.64e-01   3.958159138e+06   4.027950687e+06   2.8e-05  0.11  \n",
      "9   5.8e-02  6.2e-06  2.6e-05  1.05e+00   3.756483405e+06   3.768885188e+06   6.2e-06  0.13  \n",
      "10  3.9e-02  4.2e-06  1.4e-05  1.22e+00   3.440202263e+06   3.447054996e+06   4.2e-06  0.13  \n",
      "11  3.1e-02  3.3e-06  9.2e-06  1.18e+00   3.382861113e+06   3.387898556e+06   3.3e-06  0.13  \n",
      "12  1.6e-02  1.7e-06  3.0e-06  1.26e+00   3.037620848e+06   3.039398943e+06   1.7e-06  0.13  \n",
      "13  1.3e-02  1.4e-06  2.0e-06  1.36e+00   2.915842495e+06   2.917070844e+06   1.4e-06  0.14  \n",
      "14  9.7e-03  1.0e-06  1.2e-06  1.39e+00   2.831989434e+06   2.832790145e+06   1.0e-06  0.14  \n",
      "15  6.2e-03  6.6e-07  5.3e-07  1.43e+00   2.675334823e+06   2.675706632e+06   6.6e-07  0.16  \n",
      "16  4.9e-03  5.3e-07  3.7e-07  1.34e+00   2.653361348e+06   2.653649489e+06   5.3e-07  0.16  \n",
      "17  3.1e-03  3.3e-07  1.6e-07  1.50e+00   2.559572808e+06   2.559708018e+06   3.3e-07  0.16  \n",
      "18  2.1e-03  2.3e-07  9.1e-08  1.27e+00   2.551534573e+06   2.551623251e+06   2.3e-07  0.17  \n",
      "19  1.4e-03  1.5e-07  4.4e-08  1.42e+00   2.523243791e+06   2.523291861e+06   1.5e-07  0.17  \n",
      "20  1.1e-03  1.2e-07  3.1e-08  1.36e+00   2.515092641e+06   2.515128213e+06   1.2e-07  0.17  \n",
      "21  8.5e-04  9.1e-08  1.9e-08  1.34e+00   2.508181177e+06   2.508205239e+06   9.1e-08  0.19  \n",
      "22  5.7e-04  6.1e-08  9.6e-09  1.31e+00   2.501656853e+06   2.501670727e+06   6.1e-08  0.19  \n",
      "23  2.9e-04  3.1e-08  3.1e-09  1.28e+00   2.496076185e+06   2.496081895e+06   3.1e-08  0.20  \n",
      "24  2.3e-04  2.4e-08  2.1e-09  1.24e+00   2.494811141e+06   2.494815341e+06   2.4e-08  0.20  \n",
      "25  7.9e-05  8.4e-09  3.7e-10  1.22e+00   2.492013636e+06   2.492014724e+06   8.4e-09  0.22  \n",
      "26  3.7e-05  4.0e-09  1.1e-10  1.15e+00   2.491297945e+06   2.491298372e+06   4.0e-09  0.22  \n",
      "27  2.2e-05  2.4e-09  5.0e-11  1.10e+00   2.491048274e+06   2.491048513e+06   2.4e-09  0.23  \n",
      "28  1.2e-05  1.3e-09  1.8e-11  1.08e+00   2.490869157e+06   2.490869270e+06   1.3e-09  0.23  \n",
      "29  9.2e-06  9.9e-10  1.2e-11  1.04e+00   2.490828893e+06   2.490828980e+06   9.9e-10  0.25  \n",
      "30  6.9e-06  7.4e-10  7.9e-12  1.04e+00   2.490791110e+06   2.490791173e+06   7.4e-10  0.25  \n",
      "31  6.3e-06  6.7e-10  6.8e-12  1.03e+00   2.490780130e+06   2.490780186e+06   6.7e-10  0.27  \n",
      "32  1.4e-06  1.4e-10  6.3e-13  1.03e+00   2.490701390e+06   2.490701400e+06   1.4e-10  0.27  \n",
      "Optimizer terminated. Time: 0.30    \n",
      "\n",
      "\n",
      "Interior-point solution summary\n",
      "  Problem status  : PRIMAL_AND_DUAL_FEASIBLE\n",
      "  Solution status : OPTIMAL\n",
      "  Primal.  obj: 2.4906993798e+06    nrm: 7e+03    Viol.  con: 3e-12    var: 0e+00  \n",
      "  Dual.    obj: 2.4907034108e+06    nrm: 4e+06    Viol.  con: 1e-04    var: 3e+00  \n"
     ]
    }
   ],
   "source": [
    "# define and solve the CNLS model\n",
    "\n",
    "cet = \"addi\"\n",
    "fun = \"prod\"\n",
    "rts = \"vrs\"\n",
    "\n",
    "model = CNLS.cnls(y, x, cet, fun, rts)\n",
    "\n",
    "# using local solver (MOSEK API)\n",
    "from pyomo.opt import SolverFactory\n",
    "opt = SolverFactory(\"mosek\")\n",
    "results = opt.solve(model, tee=True)"
   ]
  },
  {
   "cell_type": "code",
   "execution_count": 6,
   "metadata": {},
   "outputs": [
    {
     "data": {
      "text/plain": [
       "array([-22.93574197, -22.9865429 , -22.86379597,  33.46107704,\n",
       "       -22.93816626, -17.75390496, -22.92070101, -17.79487848,\n",
       "       -22.90315617, -17.87076426,  89.09009201,  90.88462434,\n",
       "       -22.83508621, -17.80922168, 102.38639157, -17.67072607,\n",
       "       -22.96478157, -22.91711305, -22.90710605, -17.6820098 ,\n",
       "       -17.28941355, -21.14677138, -25.26674503, -17.63199337,\n",
       "       -22.95755108, -22.84459768, -22.84621257,  33.4613221 ,\n",
       "       -22.96383052, -17.80276734, -22.90794557, 104.33191265,\n",
       "       -17.7114322 , -17.77622109, -19.65343202, -17.66687285,\n",
       "       -17.70397656, -22.96480511, -22.99005476, -17.6281484 ,\n",
       "       -17.66150147, -22.99221792,  33.46178545, -22.92142768,\n",
       "       -22.89371926, -22.94276172, -17.6369817 , -22.99131548,\n",
       "       -17.66649268,  33.45230894, -22.94213913, -17.70744385,\n",
       "       -22.87512746, -17.66156705, -22.91239992,  22.31227387,\n",
       "       -14.38711198, -22.8824601 , -22.0951086 , -17.76763495,\n",
       "       -24.54292696,  33.46143999, -17.62882348, -13.85262094,\n",
       "       -22.83418433, -22.96588968, -17.72657235, -17.62480546,\n",
       "       -17.68864976, -17.67134128,  33.46140863, -17.69613659,\n",
       "        33.46178084, -22.97177828, -22.78914352, -14.83100492,\n",
       "        88.60426432, -22.94421089,  33.4589191 , -17.66700351,\n",
       "       -22.77348127,  33.46052341, -17.678631  , 115.69925799,\n",
       "       -17.66689086, -23.00130341, -22.9928986 , -22.99431658,\n",
       "       -22.86028552])"
      ]
     },
     "execution_count": 6,
     "metadata": {},
     "output_type": "execute_result"
    }
   ],
   "source": [
    "# retrive the alpha\n",
    "val = list(model.a[:].value)\n",
    "alpha = np.asarray(val)\n",
    "alpha"
   ]
  },
  {
   "cell_type": "code",
   "execution_count": 7,
   "metadata": {},
   "outputs": [
    {
     "data": {
      "text/plain": [
       "array([  -2.80240049,    1.4139941 ,  -22.22370778, -350.91104218,\n",
       "        -13.70003771,  101.01492222,  -28.87235177,  -14.03966648,\n",
       "         -0.84743059,   56.89437246,  285.50684532,  679.38389548,\n",
       "        -20.229963  ,  -70.00784192,   10.50653957,   74.59739943,\n",
       "         -6.53896952,  -30.07641319,  -40.134715  ,  -27.77778312,\n",
       "         48.75951015,   87.00804975,   22.48052139,   23.95079962,\n",
       "         -2.14170243,  -22.83655374,  -37.86099929, -351.07100145,\n",
       "         66.85755272,  -21.70272781,   -8.95127728,  216.0060913 ,\n",
       "         37.59744429,  -31.81138603,  -23.78465848, -201.34117915,\n",
       "        -69.29026659,    6.26873673,    3.75574364,  -74.60736509,\n",
       "         -1.97475364,  -11.97099005, -236.74633737,    6.57459175,\n",
       "         11.65690679,  -20.00411823,  -67.2145622 ,   -5.23924544,\n",
       "        -55.94688679,  265.51405577,    1.92405574,  -17.65073349,\n",
       "          4.65633465,   38.85438249,   -2.90330145,  349.52822197,\n",
       "        163.99055389,   35.00139386,   28.39297571,  -99.13207557,\n",
       "         32.78859302, -604.03988579,  197.10103842,   21.41107186,\n",
       "        -26.75532983,  -15.12976736,   29.3842324 , -128.27099444,\n",
       "        -16.44506246,  -13.38622438, -293.86161054,   -2.55052395,\n",
       "        476.61954797,   -9.80361721,   32.08953162,  -17.24130275,\n",
       "        114.76788172,   -3.85163071,   35.39614919,  -62.93732977,\n",
       "          8.91940725,  349.39721391,  -80.69957314, -604.75813124,\n",
       "        -59.83966566,    6.71826197,    6.1735727 ,   -6.06117591,\n",
       "         -0.88512285])"
      ]
     },
     "execution_count": 7,
     "metadata": {},
     "output_type": "execute_result"
    }
   ],
   "source": [
    "# retrive the residuals\n",
    "val = list(model.e[:].value)\n",
    "eps = np.asarray(val)\n",
    "eps"
   ]
  },
  {
   "cell_type": "markdown",
   "metadata": {},
   "source": [
    "### Stage 2: Shift the residuals analogous to the COLS procedure."
   ]
  },
  {
   "cell_type": "code",
   "execution_count": 8,
   "metadata": {},
   "outputs": [],
   "source": [
    "# shift the residuals and constant term\n",
    "res = CCNLS.ccnls(eps, alpha)"
   ]
  },
  {
   "cell_type": "code",
   "execution_count": 9,
   "metadata": {},
   "outputs": [
    {
     "data": {
      "text/plain": [
       "array([ -682.18629597,  -677.96990138,  -701.60760326, -1030.29493766,\n",
       "        -693.08393319,  -578.36897326,  -708.25624725,  -693.42356196,\n",
       "        -680.23132607,  -622.48952301,  -393.87705016,     0.        ,\n",
       "        -699.61385848,  -749.39173739,  -668.87735591,  -604.78649605,\n",
       "        -685.922865  ,  -709.46030867,  -719.51861048,  -707.16167859,\n",
       "        -630.62438533,  -592.37584573,  -656.90337409,  -655.43309586,\n",
       "        -681.52559791,  -702.22044922,  -717.24489477, -1030.45489693,\n",
       "        -612.52634276,  -701.08662329,  -688.33517276,  -463.37780418,\n",
       "        -641.78645119,  -711.19528151,  -703.16855396,  -880.72507463,\n",
       "        -748.67416207,  -673.11515875,  -675.62815184,  -753.99126057,\n",
       "        -681.35864912,  -691.35488553,  -916.13023285,  -672.80930373,\n",
       "        -667.72698869,  -699.38801371,  -746.59845768,  -684.62314092,\n",
       "        -735.33078227,  -413.86983971,  -677.45983974,  -697.03462897,\n",
       "        -674.72756082,  -640.52951299,  -682.28719693,  -329.85567351,\n",
       "        -515.39334159,  -644.38250162,  -650.99091977,  -778.51597105,\n",
       "        -646.59530245, -1283.42378127,  -482.28285706,  -657.97282362,\n",
       "        -706.13922531,  -694.51366284,  -649.99966308,  -807.65488992,\n",
       "        -695.82895794,  -692.77011986,  -973.24550602,  -681.93441943,\n",
       "        -202.76434751,  -689.18751269,  -647.29436386,  -696.62519823,\n",
       "        -564.61601376,  -683.23552619,  -643.98774629,  -742.32122525,\n",
       "        -670.46448822,  -329.98668157,  -760.08346862, -1284.14202672,\n",
       "        -739.22356114,  -672.66563351,  -673.21032278,  -685.44507139,\n",
       "        -680.26901833])"
      ]
     },
     "execution_count": 9,
     "metadata": {},
     "output_type": "execute_result"
    }
   ],
   "source": [
    "# adjusted residuals\n",
    "eps_ccnls = res[0]\n",
    "eps_ccnls"
   ]
  },
  {
   "cell_type": "code",
   "execution_count": 10,
   "metadata": {},
   "outputs": [
    {
     "data": {
      "text/plain": [
       "array([656.44815351, 656.39735258, 656.52009951, 712.84497252,\n",
       "       656.44572922, 661.62999052, 656.46319447, 661.589017  ,\n",
       "       656.48073931, 661.51313122, 768.47398749, 770.26851982,\n",
       "       656.54880926, 661.5746738 , 781.77028705, 661.71316941,\n",
       "       656.41911391, 656.46678243, 656.47678943, 661.70188568,\n",
       "       662.09448193, 658.2371241 , 654.11715045, 661.75190211,\n",
       "       656.4263444 , 656.5392978 , 656.53768291, 712.84521758,\n",
       "       656.42006496, 661.58112814, 656.4759499 , 783.71580813,\n",
       "       661.67246328, 661.60767439, 659.73046346, 661.71702263,\n",
       "       661.67991892, 656.41909037, 656.39384072, 661.75574708,\n",
       "       661.72239401, 656.39167756, 712.84568093, 656.4624678 ,\n",
       "       656.49017622, 656.44113376, 661.74691378, 656.39258   ,\n",
       "       661.7174028 , 712.83620442, 656.44175635, 661.67645163,\n",
       "       656.50876802, 661.72232843, 656.47149555, 701.69616935,\n",
       "       664.9967835 , 656.50143538, 657.28878688, 661.61626053,\n",
       "       654.84096852, 712.84533547, 661.755072  , 665.53127454,\n",
       "       656.54971115, 656.4180058 , 661.65732313, 661.75909002,\n",
       "       661.69524572, 661.7125542 , 712.84530411, 661.68775889,\n",
       "       712.84567631, 656.4121172 , 656.59475196, 664.55289056,\n",
       "       767.9881598 , 656.43968459, 712.84281458, 661.71689197,\n",
       "       656.61041421, 712.84441889, 661.70526448, 795.08315347,\n",
       "       661.71700462, 656.38259207, 656.39099688, 656.3895789 ,\n",
       "       656.52360996])"
      ]
     },
     "execution_count": 10,
     "metadata": {},
     "output_type": "execute_result"
    }
   ],
   "source": [
    "# adjusted intercept\n",
    "alpha_ccnls = res[1]\n",
    "alpha_ccnls"
   ]
  }
 ],
 "metadata": {
  "kernelspec": {
   "display_name": "Python 3",
   "language": "python",
   "name": "python3"
  },
  "language_info": {
   "codemirror_mode": {
    "name": "ipython",
    "version": 3
   },
   "file_extension": ".py",
   "mimetype": "text/x-python",
   "name": "python",
   "nbconvert_exporter": "python",
   "pygments_lexer": "ipython3",
   "version": "3.7.7"
  }
 },
 "nbformat": 4,
 "nbformat_minor": 4
}
